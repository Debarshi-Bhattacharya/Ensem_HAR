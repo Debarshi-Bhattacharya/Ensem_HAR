{
 "cells": [
  {
   "cell_type": "code",
   "execution_count": 1,
   "id": "beccc844",
   "metadata": {},
   "outputs": [],
   "source": [
    "from tensorflow import keras\n",
    "from numpy import dstack\n",
    "from keras.models import load_model\n",
    "import pandas as pd\n",
    "import numpy as np\n",
    "import matplotlib.pyplot as plt\n",
    "%matplotlib inline\n",
    "from sklearn import metrics\n",
    "import h5py\n",
    "from sklearn.model_selection import train_test_split\n",
    "from sklearn.metrics import confusion_matrix\n",
    "from tensorflow.keras.utils import to_categorical\n",
    " "
   ]
  },
  {
   "cell_type": "code",
   "execution_count": 2,
   "id": "da0397c5",
   "metadata": {},
   "outputs": [],
   "source": [
    "path = \"pamap_scaled.h5\""
   ]
  },
  {
   "cell_type": "code",
   "execution_count": 3,
   "id": "99c9c5ff",
   "metadata": {},
   "outputs": [],
   "source": [
    "f = h5py.File(path, 'r')\n",
    "X = f.get('inputs')\n",
    "y = f.get('labels') \n",
    "#print(type(X))\n",
    "#print(type(y))\n",
    "X = np.array(X)\n",
    "y = np.array(y)\n",
    "X_train, X_test, y_train, y_test = train_test_split(X, y, test_size=0.3, random_state = 1)\n",
    "X_train, X_val, y_train, y_val=train_test_split(X_train, y_train, test_size=0.3, random_state = 1)"
   ]
  },
  {
   "cell_type": "code",
   "execution_count": 4,
   "id": "1ac030f0",
   "metadata": {},
   "outputs": [],
   "source": [
    "trainy_one_hot = to_categorical(y_train)\n",
    "valy_one_hot = to_categorical(y_val)\n",
    "testy_one_hot = to_categorical(y_test)\n"
   ]
  },
  {
   "cell_type": "code",
   "execution_count": 5,
   "id": "a5c55a14",
   "metadata": {},
   "outputs": [],
   "source": [
    "n_steps, n_length, n_features = 4, 32, 39"
   ]
  },
  {
   "cell_type": "code",
   "execution_count": 6,
   "id": "0741c47a",
   "metadata": {},
   "outputs": [],
   "source": [
    "X_train3 = X_train.reshape((X_train.shape[0], n_steps, n_length,n_features))"
   ]
  },
  {
   "cell_type": "markdown",
   "id": "0536c069",
   "metadata": {},
   "source": [
    "## Loading Models:"
   ]
  },
  {
   "cell_type": "markdown",
   "id": "ed25493e",
   "metadata": {},
   "source": [
    "- **model1: 3levels on CNN (4layers in each)(takes 4input)**"
   ]
  },
  {
   "cell_type": "code",
   "execution_count": 7,
   "id": "41167a94",
   "metadata": {},
   "outputs": [],
   "source": [
    "model1 = load_model(\"Models_h5//model1.h5\")"
   ]
  },
  {
   "cell_type": "markdown",
   "id": "de37b585",
   "metadata": {},
   "source": [
    "- **model2: 3levels on CNN (4layers in each) , parallaly 1LSTM layer (takes 5inputs)**"
   ]
  },
  {
   "cell_type": "code",
   "execution_count": 8,
   "id": "3347b70c",
   "metadata": {},
   "outputs": [],
   "source": [
    "model2 = load_model(\"Models_h5//model2.h5\")"
   ]
  },
  {
   "cell_type": "markdown",
   "id": "34c5040c",
   "metadata": {},
   "source": [
    "- **model3: Timdistributed ConvLSTM(takes 1input)**"
   ]
  },
  {
   "cell_type": "code",
   "execution_count": 9,
   "id": "28ea3f73",
   "metadata": {},
   "outputs": [],
   "source": [
    "model3 = load_model(\"Models_h5//model3.h5\")"
   ]
  },
  {
   "cell_type": "markdown",
   "id": "47415bca",
   "metadata": {},
   "source": [
    "- **model4: 2layered LSTM(takes 1input)**"
   ]
  },
  {
   "cell_type": "code",
   "execution_count": 10,
   "id": "c45bc1c7",
   "metadata": {},
   "outputs": [],
   "source": [
    "model4 = load_model(\"Models_h5//model4.h5\")"
   ]
  },
  {
   "cell_type": "markdown",
   "id": "dcf99595",
   "metadata": {},
   "source": [
    "##  Running the member models to make predictions on the validation set, and create a new training set with the resulting predictions"
   ]
  },
  {
   "cell_type": "code",
   "execution_count": 11,
   "id": "50b8a116",
   "metadata": {},
   "outputs": [],
   "source": [
    "n_steps, n_length, n_features = 4, 32, 39\n",
    "X_val3 = X_val.reshape((X_val.shape[0], n_steps, n_length,n_features))"
   ]
  },
  {
   "cell_type": "code",
   "execution_count": 12,
   "id": "d5326e01",
   "metadata": {},
   "outputs": [],
   "source": [
    "stackX = None"
   ]
  },
  {
   "cell_type": "code",
   "execution_count": 13,
   "id": "f215786d",
   "metadata": {},
   "outputs": [],
   "source": [
    "##Output model1\n",
    "yhat = model1.predict([X_val,X_val,X_val,X_val], verbose=0)\n",
    "yhat=np.argmax(yhat, axis=-1)\n",
    "stackX =yhat"
   ]
  },
  {
   "cell_type": "code",
   "execution_count": 14,
   "id": "8c5a6363",
   "metadata": {},
   "outputs": [],
   "source": [
    "##Output model2\n",
    "yhat = model2.predict([X_val,X_val,X_val,X_val,X_val], verbose=0)\n",
    "yhat=np.argmax(yhat, axis=-1)\n",
    "stackX = dstack((stackX, yhat))"
   ]
  },
  {
   "cell_type": "code",
   "execution_count": 15,
   "id": "6d1e2f04",
   "metadata": {},
   "outputs": [],
   "source": [
    "##Output model3\n",
    "\n",
    "yhat = model3.predict(X_val3, verbose=0)\n",
    "yhat=np.argmax(yhat, axis=-1)\n",
    "stackX = dstack((stackX, yhat))"
   ]
  },
  {
   "cell_type": "code",
   "execution_count": 16,
   "id": "9d0901a5",
   "metadata": {},
   "outputs": [],
   "source": [
    "##Output model4\n",
    "yhat = model4.predict(X_val, verbose=0)\n",
    "yhat=np.argmax(yhat, axis=-1)\n",
    "stackX = dstack((stackX, yhat))"
   ]
  },
  {
   "cell_type": "code",
   "execution_count": 17,
   "id": "bf3bf62b",
   "metadata": {},
   "outputs": [
    {
     "data": {
      "text/plain": [
       "(1, 2063, 4)"
      ]
     },
     "execution_count": 17,
     "metadata": {},
     "output_type": "execute_result"
    }
   ],
   "source": [
    "stackX.shape"
   ]
  },
  {
   "cell_type": "code",
   "execution_count": 18,
   "id": "28ce76f4",
   "metadata": {},
   "outputs": [],
   "source": [
    "stackX = stackX.reshape((stackX.shape[0]*stackX.shape[1],stackX.shape[2]))"
   ]
  },
  {
   "cell_type": "code",
   "execution_count": 19,
   "id": "d6855fce",
   "metadata": {},
   "outputs": [
    {
     "data": {
      "text/plain": [
       "(2063, 4)"
      ]
     },
     "execution_count": 19,
     "metadata": {},
     "output_type": "execute_result"
    }
   ],
   "source": [
    "stackX.shape####it is the training set of the ensembling classifier"
   ]
  },
  {
   "cell_type": "code",
   "execution_count": 20,
   "id": "17d511ad",
   "metadata": {},
   "outputs": [
    {
     "data": {
      "text/plain": [
       "(2063,)"
      ]
     },
     "execution_count": 20,
     "metadata": {},
     "output_type": "execute_result"
    }
   ],
   "source": [
    "y_val.shape"
   ]
  },
  {
   "cell_type": "code",
   "execution_count": 21,
   "id": "4ba96dda",
   "metadata": {},
   "outputs": [],
   "source": [
    "from sklearn.ensemble import RandomForestClassifier\n",
    "EnsemHAR=RandomForestClassifier(n_estimators= 2000,\n",
    " min_samples_split= 9,\n",
    " min_samples_leaf= 2,\n",
    " max_features='sqrt',\n",
    " max_depth= 340,\n",
    " criterion= 'gini')\n"
   ]
  },
  {
   "cell_type": "code",
   "execution_count": 22,
   "id": "da4af27d",
   "metadata": {},
   "outputs": [],
   "source": [
    "y_val_1D=np.ravel(y_val)"
   ]
  },
  {
   "cell_type": "code",
   "execution_count": 23,
   "id": "92b2b4e0",
   "metadata": {},
   "outputs": [
    {
     "data": {
      "text/plain": [
       "RandomForestClassifier(max_depth=340, max_features='sqrt', min_samples_leaf=2,\n",
       "                       min_samples_split=9, n_estimators=2000)"
      ]
     },
     "execution_count": 23,
     "metadata": {},
     "output_type": "execute_result"
    }
   ],
   "source": [
    "EnsemHAR.fit(stackX,y_val_1D)"
   ]
  },
  {
   "cell_type": "markdown",
   "id": "52f82cb3",
   "metadata": {},
   "source": [
    "##  Now evaluate the ensemble on the test set:\n",
    "#### Create stacked model input dataset as outputs from the ensemble;"
   ]
  },
  {
   "cell_type": "code",
   "execution_count": 24,
   "id": "76c4f67d",
   "metadata": {},
   "outputs": [],
   "source": [
    "stackX = None"
   ]
  },
  {
   "cell_type": "code",
   "execution_count": 25,
   "id": "80d17a65",
   "metadata": {},
   "outputs": [],
   "source": [
    "n_steps, n_length, n_features = 4, 32, 39\n",
    "X_test3 = X_test.reshape((X_test.shape[0], n_steps, n_length,n_features))"
   ]
  },
  {
   "cell_type": "code",
   "execution_count": 26,
   "id": "6a0ce8d5",
   "metadata": {},
   "outputs": [],
   "source": [
    "##Output model1\n",
    "yhat = model1.predict([X_test,X_test,X_test,X_test], verbose=0)\n",
    "yhat=np.argmax(yhat, axis=-1)\n",
    "stackX = yhat"
   ]
  },
  {
   "cell_type": "code",
   "execution_count": 27,
   "id": "ec030812",
   "metadata": {},
   "outputs": [],
   "source": [
    "##Output model2\n",
    "yhat = model2.predict([X_test,X_test,X_test,X_test,X_test], verbose=0)\n",
    "yhat=np.argmax(yhat, axis=-1)\n",
    "stackX = dstack((stackX, yhat))"
   ]
  },
  {
   "cell_type": "code",
   "execution_count": 28,
   "id": "91d28eac",
   "metadata": {},
   "outputs": [],
   "source": [
    "##Output model3\n",
    "\n",
    "yhat = model3.predict(X_test3, verbose=0)\n",
    "yhat=np.argmax(yhat, axis=-1)\n",
    "stackX = dstack((stackX, yhat))"
   ]
  },
  {
   "cell_type": "code",
   "execution_count": 29,
   "id": "2b3f17bb",
   "metadata": {},
   "outputs": [],
   "source": [
    "##Output model4\n",
    "yhat = model4.predict(X_test, verbose=0)\n",
    "yhat=np.argmax(yhat, axis=-1)\n",
    "stackX = dstack((stackX, yhat))"
   ]
  },
  {
   "cell_type": "code",
   "execution_count": 30,
   "id": "44320342",
   "metadata": {},
   "outputs": [
    {
     "data": {
      "text/plain": [
       "(1, 2946, 4)"
      ]
     },
     "execution_count": 30,
     "metadata": {},
     "output_type": "execute_result"
    }
   ],
   "source": [
    "stackX.shape"
   ]
  },
  {
   "cell_type": "code",
   "execution_count": 31,
   "id": "9e0c2306",
   "metadata": {},
   "outputs": [],
   "source": [
    "stackX = stackX.reshape((stackX.shape[0]*stackX.shape[1],stackX.shape[2]))"
   ]
  },
  {
   "cell_type": "code",
   "execution_count": 32,
   "id": "eccd9711",
   "metadata": {},
   "outputs": [
    {
     "data": {
      "text/plain": [
       "(2946, 4)"
      ]
     },
     "execution_count": 32,
     "metadata": {},
     "output_type": "execute_result"
    }
   ],
   "source": [
    "stackX.shape"
   ]
  },
  {
   "cell_type": "code",
   "execution_count": 33,
   "id": "44c70546",
   "metadata": {},
   "outputs": [],
   "source": [
    "predy=EnsemHAR.predict(stackX)\n"
   ]
  },
  {
   "cell_type": "code",
   "execution_count": 34,
   "id": "3d9d9070",
   "metadata": {},
   "outputs": [
    {
     "name": "stdout",
     "output_type": "stream",
     "text": [
      "[[ 56   0   0   0   0   0   0   0   0   0   0   0]\n",
      " [  1 270   1   0   0   0   0   0   1   0   1   0]\n",
      " [  0   0 273   4   0   0   0   0   0   0   2   0]\n",
      " [  0   0   1 300   0   0   0   0   0   0   1  12]\n",
      " [  0   0   0   0 340   0   0   2   5   1   0   0]\n",
      " [  2   1   0   0   0 147   0   2   0   0   0   0]\n",
      " [  0   0   0   0   1   0 261   0   0   0   0   0]\n",
      " [  0   0   0   0   0   0   0 286   0   0   0   0]\n",
      " [  0   0   0   0   0   0   0   0 187   6   3   0]\n",
      " [  0   0   2   0   0   0   0   0   8 151   1   0]\n",
      " [  0   0   0   1   0   0   0   0   0   1 240   2]\n",
      " [  0   0   0   5   0   0   0   0   0   0   1 367]]\n",
      "0.9769178547182621\n",
      "              precision    recall  f1-score   support\n",
      "\n",
      "           0       0.95      1.00      0.97        56\n",
      "           1       1.00      0.99      0.99       274\n",
      "           2       0.99      0.98      0.98       279\n",
      "           3       0.97      0.96      0.96       314\n",
      "           4       1.00      0.98      0.99       348\n",
      "           5       1.00      0.97      0.98       152\n",
      "           6       1.00      1.00      1.00       262\n",
      "           7       0.99      1.00      0.99       286\n",
      "           8       0.93      0.95      0.94       196\n",
      "           9       0.95      0.93      0.94       162\n",
      "          10       0.96      0.98      0.97       244\n",
      "          11       0.96      0.98      0.97       373\n",
      "\n",
      "    accuracy                           0.98      2946\n",
      "   macro avg       0.97      0.98      0.97      2946\n",
      "weighted avg       0.98      0.98      0.98      2946\n",
      "\n"
     ]
    }
   ],
   "source": [
    "import seaborn as sns\n",
    "import sklearn.metrics as skm\n",
    "from sklearn.metrics import accuracy_score as acc\n",
    "from sklearn.metrics import confusion_matrix,classification_report\n",
    "cm=confusion_matrix(y_test,predy)\n",
    "print(cm)\n",
    "print(acc(y_test,predy))\n",
    "print(classification_report(y_test,predy))"
   ]
  },
  {
   "cell_type": "code",
   "execution_count": 85,
   "id": "114acac0",
   "metadata": {},
   "outputs": [],
   "source": [
    "cf=np.empty((12,12))\n",
    "for i in range(12):\n",
    "    cf[i]=(cm[i]/np.sum(cm[i]))"
   ]
  },
  {
   "cell_type": "code",
   "execution_count": 86,
   "id": "fbb0d762",
   "metadata": {},
   "outputs": [],
   "source": [
    "# group_counts = [\"{0:.0f}\".format(value) for value in cm.flatten()]\n",
    "group_percentages = [\"{0:.2%}\".format(value) for value in cf.flatten()]\n",
    "labels = [f\"{v1}\" for v1 in group_percentages]\n",
    "labels = np.asarray(labels).reshape(12,12)"
   ]
  },
  {
   "cell_type": "code",
   "execution_count": 88,
   "id": "684ede8a",
   "metadata": {},
   "outputs": [
    {
     "data": {
      "image/png": "[encoded data removed]",
      "text/plain": [
       "<Figure size 864x720 with 2 Axes>"
      ]
     },
     "metadata": {
      "needs_background": "light"
     },
     "output_type": "display_data"
    }
   ],
   "source": [
    "fig = plt.figure(figsize=(12,10))\n",
    "ax=fig.add_subplot(111)\n",
    "sns.heatmap(cm, annot=labels,fmt=\"\",cmap='RdYlBu_r',ax=ax)\n",
    "ax.set_xlabel(\"Predicted Labels\\n\\n Overall_accuracy=\"\"{0:.2%}\".format(acc(y_test,predy)))\n",
    "ax.set_ylabel(\"True Labels\")\n",
    "ax.set_title(\"Confusion Matrix\")\n",
    "ax.xaxis.set_ticklabels(['rope_jumping','lying','sitting','standing','walking','running','cycling','Nordic_walking','ascending_stairs','descending_stairs','vacuum_cleaning','ironing'],rotation=90)\n",
    "ax.yaxis.set_ticklabels(['rope_jumping','lying','sitting','standing','walking','running','cycling','Nordic_walking','ascending_stairs','descending_stairs','vacuum_cleaning','ironing'],rotation=360)\n",
    "plt.savefig(\"Metrics//CM_PAMAP2\",dpi=1200, bbox_inches='tight')"
   ]
  },
  {
   "cell_type": "code",
   "execution_count": 89,
   "id": "9a52463d",
   "metadata": {},
   "outputs": [],
   "source": [
    "##ROC curve plot\n",
    "from sklearn.metrics import roc_curve, auc\n",
    "fpr = {}\n",
    "tpr = {}\n",
    "\n",
    "roc_auc={}\n",
    "\n",
    "class_number = 12\n",
    "predy_one_hot=to_categorical(predy)"
   ]
  },
  {
   "cell_type": "code",
   "execution_count": 90,
   "id": "e395b113",
   "metadata": {},
   "outputs": [],
   "source": [
    "for i in range(class_number):    \n",
    "    fpr[i], tpr[i], _ = roc_curve(y_test, predy_one_hot[:,i], pos_label=i)\n",
    "    roc_auc[i] = auc(fpr[i], tpr[i])"
   ]
  },
  {
   "cell_type": "code",
   "execution_count": 91,
   "id": "d45d4c58",
   "metadata": {},
   "outputs": [],
   "source": [
    "all_fpr=np.unique(np.concatenate([fpr[i] for i in range(class_number)]))\n",
    "mean_tpr = np.zeros_like(all_fpr)\n",
    "for i in range(class_number):\n",
    "    mean_tpr += np.interp(all_fpr, fpr[i], tpr[i])\n",
    "\n",
    "# Finally average it and compute AUC\n",
    "mean_tpr /= class_number\n",
    "\n",
    "fpr[\"macro\"] = all_fpr\n",
    "tpr[\"macro\"] = mean_tpr\n",
    "roc_auc[\"macro\"] = auc(fpr[\"macro\"], tpr[\"macro\"])"
   ]
  },
  {
   "cell_type": "code",
   "execution_count": 92,
   "id": "516f2de1",
   "metadata": {},
   "outputs": [
    {
     "data": {
      "image/png": "[encoded data removed]",
      "text/plain": [
       "<Figure size 432x288 with 1 Axes>"
      ]
     },
     "metadata": {
      "needs_background": "light"
     },
     "output_type": "display_data"
    }
   ],
   "source": [
    "from itertools import cycle\n",
    "colors = cycle([\"aqua\", \"darkorange\", \"cornflowerblue\",\"green\",\"yellow\",\"deeppink\",'olive',\"gold\",\"darkgreen\",\"teal\",\"darkviolet\",\"navy\"])\n",
    "n_classes=['rope_jumping','lying','sitting','standing','walking','running','cycling','Nordic_walking','ascending_stairs','descending_stairs','vacuum_cleaning','ironing']\n",
    "for i,cls, color in zip(range(class_number),n_classes, colors):\n",
    "    plt.plot(\n",
    "        fpr[i],\n",
    "        tpr[i],\n",
    "        color=color,\n",
    "        linestyle='-.',\n",
    "        label=\"ROC curve of class {0} (area = {1:0.2f})\".format(cls, roc_auc[i]),\n",
    "    )\n",
    "plt.plot(\n",
    "    fpr[\"macro\"],\n",
    "    tpr[\"macro\"],\n",
    "    label=\"macro-average ROC curve (area = {0:0.2f})\".format(roc_auc[\"macro\"]),\n",
    "    color=\"navy\",\n",
    "    linestyle=\":\",\n",
    "    linewidth=4,\n",
    ")\n",
    "plt.plot([0, 1], [0, 1], \"k--\")\n",
    "plt.title('Multiclass ROC curve of Ensem-HAR model on PAMAP2 Dataset')\n",
    "plt.xlabel('False Positive Rate')\n",
    "plt.ylabel('True Positive rate')\n",
    "plt.legend(loc=\"lower right\",prop={\"size\":7})\n",
    "\n",
    "plt.savefig('Metrics//Multiclass_ROC_PAMAP2',dpi=1200, bbox_inches='tight')    \n",
    "\n"
   ]
  },
  {
   "cell_type": "code",
   "execution_count": 93,
   "id": "d11bd689",
   "metadata": {},
   "outputs": [],
   "source": [
    "predy_m1=model1.predict([X_test,X_test,X_test,X_test])\n",
    "predy_m1=np.argmax(predy_m1, axis=-1)\n",
    "predy_m2=model2.predict([X_test,X_test,X_test,X_test,X_test])\n",
    "predy_m2=np.argmax(predy_m2, axis=-1)\n",
    "predy_m3=model3.predict(X_test3)\n",
    "predy_m3=np.argmax(predy_m3, axis=-1)\n",
    "predy_m4=model4.predict(X_test)\n",
    "predy_m4=np.argmax(predy_m4, axis=-1)\n",
    "predy_en=EnsemHAR.predict(stackX)"
   ]
  },
  {
   "cell_type": "code",
   "execution_count": 94,
   "id": "c6271b22",
   "metadata": {},
   "outputs": [],
   "source": [
    "#all models predictions\n",
    "model_pred=[predy_m1,predy_m2,predy_m3,predy_m4,predy_en]"
   ]
  },
  {
   "cell_type": "code",
   "execution_count": 95,
   "id": "4fde04bc",
   "metadata": {},
   "outputs": [],
   "source": [
    "model_acc={}\n",
    "models=['CNN-net','CNN_LSTM-net','ConvLSTM-net','Stacked_LSTM-net','Ensem-HAR']\n",
    "i=0\n",
    "for pred,model in zip(model_pred,models):\n",
    "    model_acc[model]=acc(y_test,pred)*100"
   ]
  },
  {
   "cell_type": "code",
   "execution_count": 99,
   "id": "28ff464c",
   "metadata": {},
   "outputs": [
    {
     "data": {
      "text/plain": [
       "{'CNN-net': 97.01289884589274,\n",
       " 'CNN_LSTM-net': 96.91289084080265,\n",
       " 'ConvLSTM-net': 96.87712152070604,\n",
       " 'Stacked_LSTM-net': 95.96062457569586,\n",
       " 'Ensem-HAR': 97.72572980312287}"
      ]
     },
     "execution_count": 99,
     "metadata": {},
     "output_type": "execute_result"
    }
   ],
   "source": [
    "model_acc"
   ]
  },
  {
   "cell_type": "code",
   "execution_count": 100,
   "id": "ee5ce6c2",
   "metadata": {},
   "outputs": [
    {
     "data": {
      "image/png": "[encoded data removed]",
      "text/plain": [
       "<Figure size 576x288 with 1 Axes>"
      ]
     },
     "metadata": {
      "needs_background": "light"
     },
     "output_type": "display_data"
    }
   ],
   "source": [
    "fig = plt.figure(figsize=(8,4))\n",
    "plt.bar(model_acc.keys(),model_acc.values(),width=0.4)\n",
    "y=list(model_acc.values())\n",
    "plt.xlabel(\"Base models and the final ensemble\")\n",
    "plt.ylabel(\"Accuracy(in %)\")\n",
    "plt.title(\"Comparison of accuracy betweeen the base models and the final ensemble on PAMAP2 dataset \")\n",
    "for i in range(5):\n",
    "    plt.text(i,y[i],\"{0:0.2f}\".format(y[i]),ha=\"center\",va=\"bottom\")\n",
    "plt.savefig('Metrics//accuracy_comparison',dpi=1200, bbox_inches='tight')   "
   ]
  },
  {
   "cell_type": "code",
   "execution_count": 61,
   "id": "6b8813cc",
   "metadata": {},
   "outputs": [],
   "source": [
    "pre=np.empty((0,12))\n",
    "re=np.empty((0,12))\n",
    "f1_=np.empty((0,12))\n",
    "for predy in model_pred:\n",
    "    precision=skm.precision_score(y_test, predy, average=None)\n",
    "    pre=np.vstack([pre,precision])\n",
    "    recall=skm.recall_score(y_test, predy, average=None)\n",
    "    re=np.vstack([re,recall])\n",
    "    f1=skm.f1_score(y_test, predy, average=None)\n",
    "    f1_=np.vstack([f1_,f1])"
   ]
  },
  {
   "cell_type": "code",
   "execution_count": 63,
   "id": "b0597633",
   "metadata": {},
   "outputs": [],
   "source": [
    "df_pre=pd.DataFrame(pre)\n",
    "df_pre.columns=['rope_jumping','lying','sitting','standing','walking','running','cycling','Nordic_walking','ascending_stairs','descending_stairs','vacuum_cleaning','ironing']\n",
    "df_pre.index=['CNN-net','CNN_LSTM-net','ConvLSTM-net','Stacked_LSTM-net','Ensemble_HAR']\n",
    "df_re=pd.DataFrame(re)\n",
    "df_re.columns=['rope_jumping','lying','sitting','standing','walking','running','cycling','Nordic_walking','ascending_stairs','descending_stairs','vacuum_cleaning','ironing']\n",
    "df_re.index=['CNN-net','CNN_LSTM-net','ConvLSTM-net','Stacked_LSTM-net','Ensemble_HAR']\n",
    "df_f1=pd.DataFrame(f1_)\n",
    "df_f1.columns=['rope_jumping','lying','sitting','standing','walking','running','cycling','Nordic_walking','ascending_stairs','descending_stairs','vacuum_cleaning','ironing']\n",
    "df_f1.index=['CNN-net','CNN_LSTM-net','ConvLSTM-net','Stacked_LSTM-net','Ensemble_HAR']"
   ]
  },
  {
   "cell_type": "code",
   "execution_count": 64,
   "id": "5710d8ae",
   "metadata": {},
   "outputs": [],
   "source": [
    "df_pre.to_csv('Precision.csv')\n",
    "df_re.to_csv('Recall.csv')\n",
    "df_f1.to_csv('f1_score.csv')"
   ]
  },
  {
   "cell_type": "code",
   "execution_count": 35,
   "id": "19e405f0",
   "metadata": {},
   "outputs": [],
   "source": [
    "sample_X=[]\n",
    "sample_y=[]"
   ]
  },
  {
   "cell_type": "code",
   "execution_count": 36,
   "id": "a8bd32c8",
   "metadata": {},
   "outputs": [],
   "source": [
    "#creating 10 sample dataset of size 50 from the test data\n",
    "for i in range(10):\n",
    "    demo_X=np.empty((50,128,39))\n",
    "    demo_y=np.empty(50)\n",
    "    demo_X=X_test[(i*200):(i*200)+50]#each sample\n",
    "    demo_y=y_test[(i*200):(i*200)+50]\n",
    "    sample_X.append(demo_X)# appending to the list of samples\n",
    "    sample_y.append(demo_y)\n"
   ]
  },
  {
   "cell_type": "code",
   "execution_count": 37,
   "id": "ca34126b",
   "metadata": {},
   "outputs": [
    {
     "data": {
      "text/plain": [
       "10"
      ]
     },
     "execution_count": 37,
     "metadata": {},
     "output_type": "execute_result"
    }
   ],
   "source": [
    "len(sample_X)"
   ]
  },
  {
   "cell_type": "code",
   "execution_count": 38,
   "id": "04fa0d84",
   "metadata": {},
   "outputs": [],
   "source": [
    "# accuracy of each base models and ensemble on 10 sample dataset of size 50 taken from the test data\n",
    "m1_acc=[]\n",
    "m2_acc=[]\n",
    "m3_acc=[]\n",
    "m4_acc=[]\n",
    "ensem_acc=[]\n",
    "\n",
    "for sample,y_testSample in zip(sample_X,sample_y):\n",
    "    stackSamp=None\n",
    "    predy_m1=model1.predict([sample,sample,sample,sample])\n",
    "    predy_m1=np.argmax(predy_m1, axis=-1)\n",
    "    m1_acc.append(acc(predy_m1,y_testSample))\n",
    "\n",
    "    stackSamp=predy_m1\n",
    "    \n",
    "    predy_m2=model2.predict([sample,sample,sample,sample,sample])\n",
    "    predy_m2=np.argmax(predy_m2, axis=-1)\n",
    "    m2_acc.append(acc(predy_m2,y_testSample))\n",
    "\n",
    "    stackSamp=dstack((predy_m2,stackSamp))\n",
    "    \n",
    "    sample3 = sample.reshape((sample.shape[0], n_steps, n_length,n_features))\n",
    "    predy_m3=model3.predict(sample3)\n",
    "    predy_m3=np.argmax(predy_m3, axis=-1)\n",
    "    m3_acc.append(acc(predy_m3,y_testSample))\n",
    "\n",
    "    stackSamp=dstack((predy_m3,stackSamp))\n",
    "    \n",
    "    predy_m4=model4.predict(sample)\n",
    "    predy_m4=np.argmax(predy_m4, axis=-1)\n",
    "    m4_acc.append(acc(predy_m4,y_testSample))\n",
    "\n",
    "    stackSamp=dstack((predy_m4,stackSamp))\n",
    "    \n",
    "    stackSamp = stackSamp.reshape((stackSamp.shape[0]*stackSamp.shape[1],stackSamp.shape[2]))\n",
    "    predy_en=EnsemHAR.predict(stackSamp)\n",
    "    ensem_acc.append(acc(predy_en,y_testSample))"
   ]
  },
  {
   "cell_type": "code",
   "execution_count": 39,
   "id": "219afa9a",
   "metadata": {},
   "outputs": [],
   "source": [
    "ranking=pd.DataFrame()\n",
    "ranking['CNN-net']=m1_acc\n",
    "ranking['CNN_LSTM-net']=m2_acc\n",
    "ranking['ConvLSTM-net']=m3_acc\n",
    "ranking['Stacked_LSTM-net']=m4_acc\n",
    "ranking['Ensem-HAR']=ensem_acc"
   ]
  },
  {
   "cell_type": "code",
   "execution_count": 41,
   "id": "0a5b84cf",
   "metadata": {},
   "outputs": [],
   "source": [
    "ranking.to_csv('accuracies.csv')"
   ]
  }
 ],
 "metadata": {
  "interpreter": {
   "hash": "430cf71330057c3667661f8009a18fe65a7652eec0a123d908058e168adcc71d"
  },
  "kernelspec": {
   "display_name": "Python 3.9.0 ('dLenv')",
   "language": "python",
   "name": "python3"
  },
  "language_info": {
   "codemirror_mode": {
    "name": "ipython",
    "version": 3
   },
   "file_extension": ".py",
   "mimetype": "text/x-python",
   "name": "python",
   "nbconvert_exporter": "python",
   "pygments_lexer": "ipython3",
   "version": "3.9.0"
  }
 },
 "nbformat": 4,
 "nbformat_minor": 5
}
