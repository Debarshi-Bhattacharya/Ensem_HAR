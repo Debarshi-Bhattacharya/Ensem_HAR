{
 "cells": [
  {
   "cell_type": "code",
   "execution_count": 1,
   "metadata": {},
   "outputs": [],
   "source": [
    "import sys\n",
    "from keras.models import Model\n",
    "import pandas as pd\n",
    "import numpy as np\n",
    "import matplotlib.pyplot as plt\n",
    "from scipy import stats\n",
    "import tensorflow as tf\n",
    "from sklearn import metrics\n",
    "import h5py\n",
    "import matplotlib.pyplot as plt\n",
    "from sklearn.model_selection import train_test_split\n",
    "from sklearn.metrics import confusion_matrix\n",
    "from tensorflow.keras.utils import to_categorical"
   ]
  },
  {
   "cell_type": "code",
   "execution_count": 2,
   "metadata": {},
   "outputs": [],
   "source": [
    "path = \"pamap_scaled.h5\""
   ]
  },
  {
   "cell_type": "code",
   "execution_count": 3,
   "metadata": {},
   "outputs": [
    {
     "name": "stdout",
     "output_type": "stream",
     "text": [
      "<class 'h5py._hl.dataset.Dataset'>\n",
      "<class 'h5py._hl.dataset.Dataset'>\n"
     ]
    }
   ],
   "source": [
    "f = h5py.File(path, 'r')\n",
    "X = f.get('inputs')\n",
    "y = f.get('labels') \n",
    "print(type(X))\n",
    "print(type(y))\n",
    "X = np.array(X)\n",
    "y = np.array(y)\n"
   ]
  },
  {
   "cell_type": "code",
   "execution_count": 4,
   "id": "b2e71080",
   "metadata": {},
   "outputs": [],
   "source": [
    "X_train, X_test, y_train, y_test=train_test_split(X, y, test_size=0.3, random_state = 100)"
   ]
  },
  {
   "cell_type": "code",
   "execution_count": 5,
   "id": "3c8d2963",
   "metadata": {},
   "outputs": [],
   "source": [
    "X_train, X_val, y_train, y_val=train_test_split(X_train, y_train, test_size=0.3, random_state = 100)"
   ]
  },
  {
   "cell_type": "code",
   "execution_count": 6,
   "metadata": {},
   "outputs": [],
   "source": [
    "trainy_one_hot = to_categorical(y_train)\n",
    "testy_one_hot = to_categorical(y_test)\n"
   ]
  },
  {
   "cell_type": "code",
   "execution_count": 7,
   "metadata": {},
   "outputs": [
    {
     "data": {
      "text/plain": [
       "((4811, 128, 39), (2946, 128, 39))"
      ]
     },
     "execution_count": 7,
     "metadata": {},
     "output_type": "execute_result"
    }
   ],
   "source": [
    "X_train.shape, X_test.shape"
   ]
  },
  {
   "cell_type": "code",
   "execution_count": 8,
   "metadata": {},
   "outputs": [
    {
     "data": {
      "text/plain": [
       "((4811,), (2946,))"
      ]
     },
     "execution_count": 8,
     "metadata": {},
     "output_type": "execute_result"
    }
   ],
   "source": [
    "y_train.shape, y_test.shape"
   ]
  },
  {
   "cell_type": "code",
   "execution_count": 9,
   "metadata": {},
   "outputs": [
    {
     "data": {
      "text/plain": [
       "(4811, 12)"
      ]
     },
     "execution_count": 9,
     "metadata": {},
     "output_type": "execute_result"
    }
   ],
   "source": [
    "trainy_one_hot.shape#, testy_one_hot.shape"
   ]
  },
  {
   "cell_type": "code",
   "execution_count": 10,
   "metadata": {},
   "outputs": [],
   "source": [
    "def class_breakdown(data):\n",
    "    # convert the numpy array into a dataframe\n",
    "    df = pd.DataFrame(data)\n",
    "    # group data by the class value and calculate the number of rows\n",
    "    counts = df.groupby(0).size()\n",
    "    # retrieve raw rows\n",
    "    counts = counts.values\n",
    "    # summarize\n",
    "    for i in range(len(counts)):\n",
    "        percent = counts[i] / len(df) * 100\n",
    "        print('Class=%d, total=%d, percentage=%.3f' % (i+1, counts[i], percent))"
   ]
  },
  {
   "cell_type": "code",
   "execution_count": 11,
   "metadata": {},
   "outputs": [
    {
     "name": "stdout",
     "output_type": "stream",
     "text": [
      "Class=1, total=82, percentage=1.704\n",
      "Class=2, total=477, percentage=9.915\n",
      "Class=3, total=466, percentage=9.686\n",
      "Class=4, total=490, percentage=10.185\n",
      "Class=5, total=593, percentage=12.326\n",
      "Class=6, total=246, percentage=5.113\n",
      "Class=7, total=424, percentage=8.813\n",
      "Class=8, total=471, percentage=9.790\n",
      "Class=9, total=277, percentage=5.758\n",
      "Class=10, total=232, percentage=4.822\n",
      "Class=11, total=435, percentage=9.042\n",
      "Class=12, total=618, percentage=12.846\n"
     ]
    }
   ],
   "source": [
    "class_breakdown(y_train)"
   ]
  },
  {
   "cell_type": "code",
   "execution_count": 12,
   "metadata": {},
   "outputs": [
    {
     "name": "stdout",
     "output_type": "stream",
     "text": [
      "Class=1, total=78, percentage=2.648\n",
      "Class=2, total=303, percentage=10.285\n",
      "Class=3, total=288, percentage=9.776\n",
      "Class=4, total=294, percentage=9.980\n",
      "Class=5, total=336, percentage=11.405\n",
      "Class=6, total=140, percentage=4.752\n",
      "Class=7, total=254, percentage=8.622\n",
      "Class=8, total=289, percentage=9.810\n",
      "Class=9, total=181, percentage=6.144\n",
      "Class=10, total=168, percentage=5.703\n",
      "Class=11, total=271, percentage=9.199\n",
      "Class=12, total=344, percentage=11.677\n"
     ]
    }
   ],
   "source": [
    "class_breakdown(y_test)"
   ]
  },
  {
   "cell_type": "code",
   "execution_count": 13,
   "metadata": {},
   "outputs": [],
   "source": [
    "n_timesteps, n_features, n_outputs = X_train.shape[1], X_train.shape[2], trainy_one_hot.shape[1]"
   ]
  },
  {
   "cell_type": "code",
   "execution_count": 14,
   "metadata": {},
   "outputs": [
    {
     "data": {
      "text/plain": [
       "(128, 39, 12)"
      ]
     },
     "execution_count": 14,
     "metadata": {},
     "output_type": "execute_result"
    }
   ],
   "source": [
    "n_timesteps, n_features, n_outputs"
   ]
  },
  {
   "cell_type": "code",
   "execution_count": 15,
   "metadata": {},
   "outputs": [],
   "source": [
    "sys.path.append(\"..//Base_Models\")"
   ]
  },
  {
   "cell_type": "code",
   "execution_count": 16,
   "metadata": {},
   "outputs": [],
   "source": [
    "import seaborn as sns\n",
    "from sklearn.metrics import accuracy_score as acc\n",
    "from sklearn.metrics import confusion_matrix,classification_report"
   ]
  },
  {
   "cell_type": "code",
   "execution_count": 17,
   "metadata": {},
   "outputs": [],
   "source": [
    "from model1 import cnn"
   ]
  },
  {
   "cell_type": "code",
   "execution_count": 18,
   "metadata": {},
   "outputs": [],
   "source": [
    "m1=cnn(n_timesteps, n_features, n_outputs)"
   ]
  },
  {
   "cell_type": "code",
   "execution_count": 49,
   "metadata": {},
   "outputs": [
    {
     "name": "stdout",
     "output_type": "stream",
     "text": [
      "Epoch 1/30\n",
      "69/69 [==============================] - 6s 63ms/step - loss: 0.0360 - accuracy: 0.9915 - val_loss: 0.0060 - val_accuracy: 0.9993\n",
      "Epoch 2/30\n",
      "69/69 [==============================] - 3s 49ms/step - loss: 0.0081 - accuracy: 0.9989 - val_loss: 0.0055 - val_accuracy: 0.9993\n",
      "Epoch 3/30\n",
      "69/69 [==============================] - 3s 49ms/step - loss: 0.0077 - accuracy: 0.9979 - val_loss: 0.0174 - val_accuracy: 0.9929\n",
      "Epoch 4/30\n",
      "69/69 [==============================] - 3s 49ms/step - loss: 0.0096 - accuracy: 0.9963 - val_loss: 0.1667 - val_accuracy: 0.9794\n",
      "Epoch 5/30\n",
      "69/69 [==============================] - 3s 50ms/step - loss: 0.0137 - accuracy: 0.9977 - val_loss: 0.0031 - val_accuracy: 0.9993\n",
      "Epoch 6/30\n",
      "69/69 [==============================] - 3s 49ms/step - loss: 0.0059 - accuracy: 0.9989 - val_loss: 0.0040 - val_accuracy: 0.9996\n",
      "Epoch 7/30\n",
      "69/69 [==============================] - 3s 48ms/step - loss: 0.0012 - accuracy: 0.9995 - val_loss: 0.0024 - val_accuracy: 0.9993\n",
      "Epoch 8/30\n",
      "69/69 [==============================] - 3s 48ms/step - loss: 5.0245e-04 - accuracy: 1.0000 - val_loss: 0.0023 - val_accuracy: 0.9989\n",
      "Epoch 9/30\n",
      "69/69 [==============================] - 3s 49ms/step - loss: 3.0676e-05 - accuracy: 1.0000 - val_loss: 0.0028 - val_accuracy: 0.9996\n",
      "Epoch 10/30\n",
      "69/69 [==============================] - 3s 48ms/step - loss: 1.4408e-05 - accuracy: 1.0000 - val_loss: 0.0023 - val_accuracy: 0.9993\n",
      "Epoch 11/30\n",
      "69/69 [==============================] - 3s 49ms/step - loss: 8.9001e-06 - accuracy: 1.0000 - val_loss: 0.0023 - val_accuracy: 0.9993\n",
      "Epoch 12/30\n",
      "69/69 [==============================] - 3s 49ms/step - loss: 5.2215e-06 - accuracy: 1.0000 - val_loss: 0.0022 - val_accuracy: 0.9993\n",
      "Epoch 13/30\n",
      "69/69 [==============================] - 3s 49ms/step - loss: 4.7669e-06 - accuracy: 1.0000 - val_loss: 0.0022 - val_accuracy: 0.9993\n",
      "Epoch 14/30\n",
      "69/69 [==============================] - 3s 49ms/step - loss: 4.2479e-06 - accuracy: 1.0000 - val_loss: 0.0022 - val_accuracy: 0.9993\n",
      "Epoch 15/30\n",
      "69/69 [==============================] - 3s 50ms/step - loss: 3.8673e-06 - accuracy: 1.0000 - val_loss: 0.0022 - val_accuracy: 0.9993\n",
      "Epoch 16/30\n",
      "69/69 [==============================] - 3s 49ms/step - loss: 3.4734e-06 - accuracy: 1.0000 - val_loss: 0.0022 - val_accuracy: 0.9993\n",
      "Epoch 17/30\n",
      "69/69 [==============================] - 3s 49ms/step - loss: 3.2512e-06 - accuracy: 1.0000 - val_loss: 0.0023 - val_accuracy: 0.9993\n",
      "Epoch 18/30\n",
      "69/69 [==============================] - 3s 49ms/step - loss: 2.8881e-06 - accuracy: 1.0000 - val_loss: 0.0023 - val_accuracy: 0.9993\n",
      "Epoch 19/30\n",
      "69/69 [==============================] - 3s 49ms/step - loss: 2.6233e-06 - accuracy: 1.0000 - val_loss: 0.0023 - val_accuracy: 0.9993\n",
      "Epoch 20/30\n",
      "69/69 [==============================] - 3s 49ms/step - loss: 2.3973e-06 - accuracy: 1.0000 - val_loss: 0.0023 - val_accuracy: 0.9993\n",
      "Epoch 21/30\n",
      "69/69 [==============================] - 3s 49ms/step - loss: 2.2723e-06 - accuracy: 1.0000 - val_loss: 0.0023 - val_accuracy: 0.9993\n",
      "Epoch 22/30\n",
      "69/69 [==============================] - 3s 49ms/step - loss: 2.0400e-06 - accuracy: 1.0000 - val_loss: 0.0023 - val_accuracy: 0.9993\n",
      "Epoch 23/30\n",
      "69/69 [==============================] - 3s 49ms/step - loss: 1.8501e-06 - accuracy: 1.0000 - val_loss: 0.0023 - val_accuracy: 0.9993\n",
      "Epoch 24/30\n",
      "69/69 [==============================] - 4s 55ms/step - loss: 1.6814e-06 - accuracy: 1.0000 - val_loss: 0.0023 - val_accuracy: 0.9993\n",
      "Epoch 25/30\n",
      "69/69 [==============================] - 3s 49ms/step - loss: 1.5902e-06 - accuracy: 1.0000 - val_loss: 0.0023 - val_accuracy: 0.9993\n",
      "Epoch 26/30\n",
      "69/69 [==============================] - 3s 49ms/step - loss: 1.5426e-06 - accuracy: 1.0000 - val_loss: 0.0023 - val_accuracy: 0.9993\n",
      "Epoch 27/30\n",
      "69/69 [==============================] - 3s 49ms/step - loss: 1.3212e-06 - accuracy: 1.0000 - val_loss: 0.0023 - val_accuracy: 0.9993\n",
      "Epoch 28/30\n",
      "69/69 [==============================] - 3s 49ms/step - loss: 1.2438e-06 - accuracy: 1.0000 - val_loss: 0.0023 - val_accuracy: 0.9993\n",
      "Epoch 29/30\n",
      "69/69 [==============================] - 3s 49ms/step - loss: 1.1708e-06 - accuracy: 1.0000 - val_loss: 0.0022 - val_accuracy: 0.9993\n",
      "Epoch 30/30\n",
      "69/69 [==============================] - 3s 49ms/step - loss: 1.0636e-06 - accuracy: 1.0000 - val_loss: 0.0024 - val_accuracy: 0.9993\n",
      "Model: \"model\"\n",
      "__________________________________________________________________________________________________\n",
      " Layer (type)                   Output Shape         Param #     Connected to                     \n",
      "==================================================================================================\n",
      " input_1 (InputLayer)           [(None, 128, 39)]    0           []                               \n",
      "                                                                                                  \n",
      " input_2 (InputLayer)           [(None, 128, 39)]    0           []                               \n",
      "                                                                                                  \n",
      " input_3 (InputLayer)           [(None, 128, 39)]    0           []                               \n",
      "                                                                                                  \n",
      " input_4 (InputLayer)           [(None, 128, 39)]    0           []                               \n",
      "                                                                                                  \n",
      " conv1d (Conv1D)                (None, 126, 128)     15104       ['input_1[0][0]']                \n",
      "                                                                                                  \n",
      " conv1d_1 (Conv1D)              (None, 124, 128)     25088       ['input_2[0][0]']                \n",
      "                                                                                                  \n",
      " conv1d_2 (Conv1D)              (None, 122, 128)     35072       ['input_3[0][0]']                \n",
      "                                                                                                  \n",
      " conv1d_3 (Conv1D)              (None, 120, 128)     45056       ['input_4[0][0]']                \n",
      "                                                                                                  \n",
      " concatenate (Concatenate)      (None, 492, 128)     0           ['conv1d[0][0]',                 \n",
      "                                                                  'conv1d_1[0][0]',               \n",
      "                                                                  'conv1d_2[0][0]',               \n",
      "                                                                  'conv1d_3[0][0]']               \n",
      "                                                                                                  \n",
      " max_pooling1d (MaxPooling1D)   (None, 98, 128)      0           ['concatenate[0][0]']            \n",
      "                                                                                                  \n",
      " conv1d_4 (Conv1D)              (None, 96, 64)       24640       ['max_pooling1d[0][0]']          \n",
      "                                                                                                  \n",
      " conv1d_5 (Conv1D)              (None, 94, 64)       41024       ['max_pooling1d[0][0]']          \n",
      "                                                                                                  \n",
      " conv1d_6 (Conv1D)              (None, 92, 64)       57408       ['max_pooling1d[0][0]']          \n",
      "                                                                                                  \n",
      " conv1d_7 (Conv1D)              (None, 90, 64)       73792       ['max_pooling1d[0][0]']          \n",
      "                                                                                                  \n",
      " concatenate_1 (Concatenate)    (None, 372, 64)      0           ['conv1d_4[0][0]',               \n",
      "                                                                  'conv1d_5[0][0]',               \n",
      "                                                                  'conv1d_6[0][0]',               \n",
      "                                                                  'conv1d_7[0][0]']               \n",
      "                                                                                                  \n",
      " max_pooling1d_1 (MaxPooling1D)  (None, 74, 64)      0           ['concatenate_1[0][0]']          \n",
      "                                                                                                  \n",
      " conv1d_8 (Conv1D)              (None, 72, 32)       6176        ['max_pooling1d_1[0][0]']        \n",
      "                                                                                                  \n",
      " conv1d_9 (Conv1D)              (None, 70, 32)       10272       ['max_pooling1d_1[0][0]']        \n",
      "                                                                                                  \n",
      " conv1d_10 (Conv1D)             (None, 68, 32)       14368       ['max_pooling1d_1[0][0]']        \n",
      "                                                                                                  \n",
      " conv1d_11 (Conv1D)             (None, 66, 32)       18464       ['max_pooling1d_1[0][0]']        \n",
      "                                                                                                  \n",
      " concatenate_2 (Concatenate)    (None, 276, 32)      0           ['conv1d_8[0][0]',               \n",
      "                                                                  'conv1d_9[0][0]',               \n",
      "                                                                  'conv1d_10[0][0]',              \n",
      "                                                                  'conv1d_11[0][0]']              \n",
      "                                                                                                  \n",
      " max_pooling1d_2 (MaxPooling1D)  (None, 55, 32)      0           ['concatenate_2[0][0]']          \n",
      "                                                                                                  \n",
      " flatten (Flatten)              (None, 1760)         0           ['max_pooling1d_2[0][0]']        \n",
      "                                                                                                  \n",
      " dense (Dense)                  (None, 512)          901632      ['flatten[0][0]']                \n",
      "                                                                                                  \n",
      " dense_1 (Dense)                (None, 12)           6156        ['dense[0][0]']                  \n",
      "                                                                                                  \n",
      "==================================================================================================\n",
      "Total params: 1,274,252\n",
      "Trainable params: 1,274,252\n",
      "Non-trainable params: 0\n",
      "__________________________________________________________________________________________________\n"
     ]
    }
   ],
   "source": [
    "model1=m1.do_compile(X_train, X_test,trainy_one_hot,testy_one_hot)"
   ]
  },
  {
   "cell_type": "code",
   "execution_count": 18,
   "metadata": {
    "scrolled": false
   },
   "outputs": [
    {
     "name": "stdout",
     "output_type": "stream",
     "text": [
      "[[214   0   0   0   0   0   0   0   0   0   0   0]\n",
      " [  0 197   0   0   0   0   0   0   0   0   0   0]\n",
      " [  0   0 238   0   0   0   0   0   0   0   0   0]\n",
      " [  0   0   0 233   0   0   0   0   0   0   0   0]\n",
      " [  0   0   0   0 212   1   0   0   0   0   0   0]\n",
      " [  0   0   0   0   0 244   0   0   0   0   0   0]\n",
      " [  0   0   0   0   0   0 234   0   0   0   0   0]\n",
      " [  0   0   0   0   0   0   0 214   0   0   0   0]\n",
      " [  0   0   0   0   0   0   0   0 231   0   0   0]\n",
      " [  0   0   0   0   0   0   0   0   0 211   0   0]\n",
      " [  0   0   0   0   0   0   0   0   0   0 223   0]\n",
      " [  0   0   0   0   0   0   0   0   0   0   0 224]]\n",
      "0.999626307922272\n",
      "classification_report of model1:\n",
      "              precision    recall  f1-score   support\n",
      "\n",
      "           0       1.00      1.00      1.00       214\n",
      "           1       1.00      1.00      1.00       197\n",
      "           2       1.00      1.00      1.00       238\n",
      "           3       1.00      1.00      1.00       233\n",
      "           4       1.00      1.00      1.00       213\n",
      "           5       1.00      1.00      1.00       244\n",
      "           6       1.00      1.00      1.00       234\n",
      "           7       1.00      1.00      1.00       214\n",
      "           8       1.00      1.00      1.00       231\n",
      "           9       1.00      1.00      1.00       211\n",
      "          10       1.00      1.00      1.00       223\n",
      "          11       1.00      1.00      1.00       224\n",
      "\n",
      "    accuracy                           1.00      2676\n",
      "   macro avg       1.00      1.00      1.00      2676\n",
      "weighted avg       1.00      1.00      1.00      2676\n",
      "\n"
     ]
    },
    {
     "data": {
      "text/plain": [
       "<AxesSubplot:>"
      ]
     },
     "execution_count": 18,
     "metadata": {},
     "output_type": "execute_result"
    },
    {
     "data": {
      "image/png": "[encoded data removed]",
      "text/plain": [
       "<Figure size 432x288 with 2 Axes>"
      ]
     },
     "metadata": {
      "needs_background": "light"
     },
     "output_type": "display_data"
    }
   ],
   "source": [
    "predy=m1.prediction(X_test)\n",
    "cm=confusion_matrix(y_test,predy)\n",
    "print(cm)\n",
    "print(acc(y_test,predy))\n",
    "print(\"classification_report of model1:\")\n",
    "print(classification_report(y_test,predy))\n",
    "sns.heatmap(cm, annot=True)"
   ]
  },
  {
   "cell_type": "code",
   "execution_count": 19,
   "metadata": {},
   "outputs": [],
   "source": [
    "model1.save(\"Models_h5//model1.h5\")"
   ]
  },
  {
   "cell_type": "code",
   "execution_count": 19,
   "metadata": {},
   "outputs": [],
   "source": [
    "from model2 import cnn_lstm"
   ]
  },
  {
   "cell_type": "code",
   "execution_count": 20,
   "metadata": {},
   "outputs": [],
   "source": [
    "m2=cnn_lstm(n_timesteps, n_features, n_outputs)"
   ]
  },
  {
   "cell_type": "code",
   "execution_count": 21,
   "metadata": {},
   "outputs": [
    {
     "name": "stdout",
     "output_type": "stream",
     "text": [
      "Epoch 1/30\n",
      "76/76 [==============================] - 26s 105ms/step - loss: 1.1103 - accuracy: 0.6394 - val_loss: 0.4130 - val_accuracy: 0.9039\n",
      "Epoch 2/30\n",
      "76/76 [==============================] - 5s 62ms/step - loss: 0.3723 - accuracy: 0.8925 - val_loss: 0.2720 - val_accuracy: 0.9257\n",
      "Epoch 3/30\n",
      "76/76 [==============================] - 5s 62ms/step - loss: 0.2465 - accuracy: 0.9287 - val_loss: 0.1981 - val_accuracy: 0.9433\n",
      "Epoch 4/30\n",
      "76/76 [==============================] - 5s 62ms/step - loss: 0.1879 - accuracy: 0.9464 - val_loss: 0.1725 - val_accuracy: 0.9542\n",
      "Epoch 5/30\n",
      "76/76 [==============================] - 5s 61ms/step - loss: 0.1538 - accuracy: 0.9528 - val_loss: 0.1631 - val_accuracy: 0.9572\n",
      "Epoch 6/30\n",
      "76/76 [==============================] - 5s 62ms/step - loss: 0.1233 - accuracy: 0.9634 - val_loss: 0.1455 - val_accuracy: 0.9640\n",
      "Epoch 7/30\n",
      "76/76 [==============================] - 5s 62ms/step - loss: 0.1190 - accuracy: 0.9665 - val_loss: 0.1377 - val_accuracy: 0.9633\n",
      "Epoch 8/30\n",
      "76/76 [==============================] - 5s 62ms/step - loss: 0.1354 - accuracy: 0.9618 - val_loss: 0.1734 - val_accuracy: 0.9569\n",
      "Epoch 9/30\n",
      "76/76 [==============================] - 5s 62ms/step - loss: 0.0871 - accuracy: 0.9728 - val_loss: 0.1423 - val_accuracy: 0.9657\n",
      "Epoch 10/30\n",
      "76/76 [==============================] - 5s 61ms/step - loss: 0.0808 - accuracy: 0.9761 - val_loss: 0.1429 - val_accuracy: 0.9664\n",
      "Epoch 11/30\n",
      "76/76 [==============================] - 5s 63ms/step - loss: 0.0635 - accuracy: 0.9809 - val_loss: 0.1934 - val_accuracy: 0.9477\n",
      "Epoch 12/30\n",
      "76/76 [==============================] - 5s 62ms/step - loss: 0.0758 - accuracy: 0.9780 - val_loss: 0.1337 - val_accuracy: 0.9671\n",
      "Epoch 13/30\n",
      "76/76 [==============================] - 5s 62ms/step - loss: 0.0742 - accuracy: 0.9788 - val_loss: 0.1413 - val_accuracy: 0.9678\n",
      "Epoch 14/30\n",
      "76/76 [==============================] - 5s 62ms/step - loss: 0.0617 - accuracy: 0.9821 - val_loss: 0.1343 - val_accuracy: 0.9718\n",
      "Epoch 15/30\n",
      "76/76 [==============================] - 5s 63ms/step - loss: 0.0568 - accuracy: 0.9807 - val_loss: 0.1221 - val_accuracy: 0.9722\n",
      "Epoch 16/30\n",
      "76/76 [==============================] - 5s 63ms/step - loss: 0.0487 - accuracy: 0.9861 - val_loss: 0.1397 - val_accuracy: 0.9705\n",
      "Epoch 17/30\n",
      "76/76 [==============================] - 5s 62ms/step - loss: 0.0381 - accuracy: 0.9900 - val_loss: 0.1528 - val_accuracy: 0.9684\n",
      "Epoch 18/30\n",
      "76/76 [==============================] - 5s 62ms/step - loss: 0.0428 - accuracy: 0.9875 - val_loss: 0.1403 - val_accuracy: 0.9715\n",
      "Epoch 19/30\n",
      "76/76 [==============================] - 5s 62ms/step - loss: 0.0489 - accuracy: 0.9863 - val_loss: 0.1343 - val_accuracy: 0.9701\n",
      "Epoch 20/30\n",
      "76/76 [==============================] - 5s 62ms/step - loss: 0.0564 - accuracy: 0.9836 - val_loss: 0.1378 - val_accuracy: 0.9701\n",
      "Epoch 21/30\n",
      "76/76 [==============================] - 5s 62ms/step - loss: 0.1000 - accuracy: 0.9701 - val_loss: 0.2529 - val_accuracy: 0.9457\n",
      "Epoch 22/30\n",
      "76/76 [==============================] - 5s 62ms/step - loss: 0.0639 - accuracy: 0.9827 - val_loss: 0.1650 - val_accuracy: 0.9664\n",
      "Epoch 23/30\n",
      "76/76 [==============================] - 5s 62ms/step - loss: 0.0439 - accuracy: 0.9873 - val_loss: 0.1775 - val_accuracy: 0.9695\n",
      "Epoch 24/30\n",
      "76/76 [==============================] - 5s 62ms/step - loss: 0.0529 - accuracy: 0.9852 - val_loss: 0.1525 - val_accuracy: 0.9705\n",
      "Epoch 25/30\n",
      "76/76 [==============================] - 5s 63ms/step - loss: 0.0297 - accuracy: 0.9909 - val_loss: 0.1421 - val_accuracy: 0.9752\n",
      "Epoch 26/30\n",
      "76/76 [==============================] - 5s 62ms/step - loss: 0.0268 - accuracy: 0.9927 - val_loss: 0.1488 - val_accuracy: 0.9745\n",
      "Epoch 27/30\n",
      "76/76 [==============================] - 5s 62ms/step - loss: 0.0250 - accuracy: 0.9921 - val_loss: 0.1359 - val_accuracy: 0.9762\n",
      "Epoch 28/30\n",
      "76/76 [==============================] - 5s 62ms/step - loss: 0.0262 - accuracy: 0.9927 - val_loss: 0.1754 - val_accuracy: 0.9674\n",
      "Epoch 29/30\n",
      "76/76 [==============================] - 5s 63ms/step - loss: 0.0232 - accuracy: 0.9933 - val_loss: 0.1952 - val_accuracy: 0.9684\n",
      "Epoch 30/30\n",
      "76/76 [==============================] - 5s 62ms/step - loss: 0.0320 - accuracy: 0.9911 - val_loss: 0.1812 - val_accuracy: 0.9708\n"
     ]
    }
   ],
   "source": [
    "model2=m2.do_compile(X_train,X_test,trainy_one_hot,testy_one_hot)"
   ]
  },
  {
   "cell_type": "code",
   "execution_count": 22,
   "metadata": {
    "scrolled": true
   },
   "outputs": [
    {
     "name": "stdout",
     "output_type": "stream",
     "text": [
      "[[ 76   0   0   0   0   0   0   1   0   0   1   0]\n",
      " [  0 296   3   0   0   1   0   0   2   0   1   0]\n",
      " [  0   0 278   3   0   0   0   0   0   0   7   0]\n",
      " [  0   0   3 277   0   0   0   0   0   0   2  12]\n",
      " [  0   0   0   0 331   0   0   4   0   0   1   0]\n",
      " [  1   0   2   1   0 135   1   0   0   0   0   0]\n",
      " [  0   0   0   0   0   0 254   0   0   0   0   0]\n",
      " [  0   0   3   0   0   0   0 286   0   0   0   0]\n",
      " [  0   0   0   1   0   0   1   0 174   1   4   0]\n",
      " [  0   0   1   2   0   0   1   0   7 148   8   1]\n",
      " [  0   0   1   0   0   0   0   0   2   2 264   2]\n",
      " [  0   0   0   2   0   0   0   0   0   0   1 341]]\n",
      "0.9708078750848609\n",
      "classification_report of model2:\n",
      "              precision    recall  f1-score   support\n",
      "\n",
      "           0       0.99      0.97      0.98        78\n",
      "           1       1.00      0.98      0.99       303\n",
      "           2       0.96      0.97      0.96       288\n",
      "           3       0.97      0.94      0.96       294\n",
      "           4       1.00      0.99      0.99       336\n",
      "           5       0.99      0.96      0.98       140\n",
      "           6       0.99      1.00      0.99       254\n",
      "           7       0.98      0.99      0.99       289\n",
      "           8       0.94      0.96      0.95       181\n",
      "           9       0.98      0.88      0.93       168\n",
      "          10       0.91      0.97      0.94       271\n",
      "          11       0.96      0.99      0.97       344\n",
      "\n",
      "    accuracy                           0.97      2946\n",
      "   macro avg       0.97      0.97      0.97      2946\n",
      "weighted avg       0.97      0.97      0.97      2946\n",
      "\n"
     ]
    },
    {
     "data": {
      "text/plain": [
       "<AxesSubplot:>"
      ]
     },
     "execution_count": 22,
     "metadata": {},
     "output_type": "execute_result"
    },
    {
     "data": {
      "image/png": "[encoded data removed]",
      "text/plain": [
       "<Figure size 432x288 with 2 Axes>"
      ]
     },
     "metadata": {
      "needs_background": "light"
     },
     "output_type": "display_data"
    }
   ],
   "source": [
    "predy=m2.prediction(X_test)\n",
    "cm=confusion_matrix(y_test,predy)\n",
    "print(cm)\n",
    "print(acc(y_test,predy))\n",
    "print(\"classification_report of model2:\")\n",
    "print(classification_report(y_test,predy))\n",
    "sns.heatmap(cm, annot=True)"
   ]
  },
  {
   "cell_type": "code",
   "execution_count": 23,
   "metadata": {},
   "outputs": [],
   "source": [
    "model2.save(\"Models_h5//model2.h5\")"
   ]
  },
  {
   "cell_type": "code",
   "execution_count": 21,
   "metadata": {},
   "outputs": [],
   "source": [
    "from model3 import Conv_LSTM"
   ]
  },
  {
   "cell_type": "code",
   "execution_count": 25,
   "metadata": {},
   "outputs": [],
   "source": [
    "m3=Conv_LSTM(n_timesteps, n_features, n_outputs)"
   ]
  },
  {
   "cell_type": "code",
   "execution_count": 26,
   "metadata": {},
   "outputs": [
    {
     "name": "stdout",
     "output_type": "stream",
     "text": [
      "INFO:tensorflow:Reloading Oracle from existing project output\\HAR_ConvLstm\\oracle.json\n",
      "INFO:tensorflow:Reloading Tuner from output\\HAR_ConvLstm\\tuner0.json\n",
      "INFO:tensorflow:Oracle triggered exit\n"
     ]
    },
    {
     "ename": "NotFoundError",
     "evalue": "Unsuccessful TensorSliceReader constructor: Failed to find any matching files for output\\HAR_ConvLstm\\trial_a341852071a398bd254ecfdee9cee07d\\checkpoint",
     "output_type": "error",
     "traceback": [
      "\u001b[1;31m---------------------------------------------------------------------------\u001b[0m",
      "\u001b[1;31mNotFoundError\u001b[0m                             Traceback (most recent call last)",
      "\u001b[1;32me:\\Research_work\\src_idea\\Implementation_on_PAMAP2\\Model_training.ipynb Cell 27'\u001b[0m in \u001b[0;36m<cell line: 1>\u001b[1;34m()\u001b[0m\n\u001b[1;32m----> <a href='vscode-notebook-cell:/e%3A/Research_work/src_idea/Implementation_on_PAMAP2/Model_training.ipynb#ch0000026?line=0'>1</a>\u001b[0m model3\u001b[39m=\u001b[39mm3\u001b[39m.\u001b[39;49mdo_compile(X_train,X_test,trainy_one_hot,testy_one_hot)\n",
      "File \u001b[1;32me:\\Research_work\\src_idea\\Base_Models\\model3.py:86\u001b[0m, in \u001b[0;36mConv_LSTM.do_compile\u001b[1;34m(self, trainX, testX, trainy_one_hot, testy_one_hot)\u001b[0m\n\u001b[0;32m     <a href='file:///e%3A/Research_work/src_idea/Base_Models/model3.py?line=82'>83</a>\u001b[0m tuner_search\u001b[39m.\u001b[39msearch(trainX,trainy_one_hot,epochs\u001b[39m=\u001b[39m\u001b[39m10\u001b[39m,batch_size\u001b[39m=\u001b[39m\u001b[39m32\u001b[39m,validation_data\u001b[39m=\u001b[39m (testX,testy_one_hot))\n\u001b[0;32m     <a href='file:///e%3A/Research_work/src_idea/Base_Models/model3.py?line=83'>84</a>\u001b[0m \u001b[39m# opt = keras.optimizers.Adam(learning_rate=1e-2)\u001b[39;00m\n\u001b[0;32m     <a href='file:///e%3A/Research_work/src_idea/Base_Models/model3.py?line=84'>85</a>\u001b[0m \u001b[39m# self.model.compile(loss='categorical_crossentropy', optimizer=opt, metrics=['accuracy'])\u001b[39;00m\n\u001b[1;32m---> <a href='file:///e%3A/Research_work/src_idea/Base_Models/model3.py?line=85'>86</a>\u001b[0m \u001b[39mself\u001b[39m\u001b[39m.\u001b[39mbest_model\u001b[39m=\u001b[39mtuner_search\u001b[39m.\u001b[39;49mget_best_models(num_models\u001b[39m=\u001b[39;49m\u001b[39m1\u001b[39;49m)[\u001b[39m0\u001b[39m]\n\u001b[0;32m     <a href='file:///e%3A/Research_work/src_idea/Base_Models/model3.py?line=86'>87</a>\u001b[0m \u001b[39mself\u001b[39m\u001b[39m.\u001b[39mbest_model\u001b[39m.\u001b[39mfit(trainX,trainy_one_hot,epochs\u001b[39m=\u001b[39m\u001b[39m30\u001b[39m,validation_data\u001b[39m=\u001b[39m (testX,testy_one_hot), initial_epoch\u001b[39m=\u001b[39m\u001b[39m10\u001b[39m)\n\u001b[0;32m     <a href='file:///e%3A/Research_work/src_idea/Base_Models/model3.py?line=87'>88</a>\u001b[0m \u001b[39mreturn\u001b[39;00m \u001b[39mself\u001b[39m\u001b[39m.\u001b[39mbest_model\n",
      "File \u001b[1;32m~\\anaconda3\\envs\\dLenv\\lib\\site-packages\\keras_tuner\\engine\\tuner.py:364\u001b[0m, in \u001b[0;36mTuner.get_best_models\u001b[1;34m(self, num_models)\u001b[0m\n\u001b[0;32m    <a href='file:///c%3A/Users/bhatt/anaconda3/envs/dLenv/lib/site-packages/keras_tuner/engine/tuner.py?line=345'>346</a>\u001b[0m \u001b[39m\"\"\"Returns the best model(s), as determined by the tuner's objective.\u001b[39;00m\n\u001b[0;32m    <a href='file:///c%3A/Users/bhatt/anaconda3/envs/dLenv/lib/site-packages/keras_tuner/engine/tuner.py?line=346'>347</a>\u001b[0m \n\u001b[0;32m    <a href='file:///c%3A/Users/bhatt/anaconda3/envs/dLenv/lib/site-packages/keras_tuner/engine/tuner.py?line=347'>348</a>\u001b[0m \u001b[39mThe models are loaded with the weights corresponding to\u001b[39;00m\n\u001b[1;32m   (...)\u001b[0m\n\u001b[0;32m    <a href='file:///c%3A/Users/bhatt/anaconda3/envs/dLenv/lib/site-packages/keras_tuner/engine/tuner.py?line=360'>361</a>\u001b[0m \u001b[39m    List of trained model instances sorted from the best to the worst.\u001b[39;00m\n\u001b[0;32m    <a href='file:///c%3A/Users/bhatt/anaconda3/envs/dLenv/lib/site-packages/keras_tuner/engine/tuner.py?line=361'>362</a>\u001b[0m \u001b[39m\"\"\"\u001b[39;00m\n\u001b[0;32m    <a href='file:///c%3A/Users/bhatt/anaconda3/envs/dLenv/lib/site-packages/keras_tuner/engine/tuner.py?line=362'>363</a>\u001b[0m \u001b[39m# Method only exists in this class for the docstring override.\u001b[39;00m\n\u001b[1;32m--> <a href='file:///c%3A/Users/bhatt/anaconda3/envs/dLenv/lib/site-packages/keras_tuner/engine/tuner.py?line=363'>364</a>\u001b[0m \u001b[39mreturn\u001b[39;00m \u001b[39msuper\u001b[39;49m(Tuner, \u001b[39mself\u001b[39;49m)\u001b[39m.\u001b[39;49mget_best_models(num_models)\n",
      "File \u001b[1;32m~\\anaconda3\\envs\\dLenv\\lib\\site-packages\\keras_tuner\\engine\\base_tuner.py:284\u001b[0m, in \u001b[0;36mBaseTuner.get_best_models\u001b[1;34m(self, num_models)\u001b[0m\n\u001b[0;32m    <a href='file:///c%3A/Users/bhatt/anaconda3/envs/dLenv/lib/site-packages/keras_tuner/engine/base_tuner.py?line=268'>269</a>\u001b[0m \u001b[39m\"\"\"Returns the best model(s), as determined by the objective.\u001b[39;00m\n\u001b[0;32m    <a href='file:///c%3A/Users/bhatt/anaconda3/envs/dLenv/lib/site-packages/keras_tuner/engine/base_tuner.py?line=269'>270</a>\u001b[0m \n\u001b[0;32m    <a href='file:///c%3A/Users/bhatt/anaconda3/envs/dLenv/lib/site-packages/keras_tuner/engine/base_tuner.py?line=270'>271</a>\u001b[0m \u001b[39mThis method is for querying the models trained during the search.\u001b[39;00m\n\u001b[1;32m   (...)\u001b[0m\n\u001b[0;32m    <a href='file:///c%3A/Users/bhatt/anaconda3/envs/dLenv/lib/site-packages/keras_tuner/engine/base_tuner.py?line=280'>281</a>\u001b[0m \u001b[39m    List of trained models sorted from the best to the worst.\u001b[39;00m\n\u001b[0;32m    <a href='file:///c%3A/Users/bhatt/anaconda3/envs/dLenv/lib/site-packages/keras_tuner/engine/base_tuner.py?line=281'>282</a>\u001b[0m \u001b[39m\"\"\"\u001b[39;00m\n\u001b[0;32m    <a href='file:///c%3A/Users/bhatt/anaconda3/envs/dLenv/lib/site-packages/keras_tuner/engine/base_tuner.py?line=282'>283</a>\u001b[0m best_trials \u001b[39m=\u001b[39m \u001b[39mself\u001b[39m\u001b[39m.\u001b[39moracle\u001b[39m.\u001b[39mget_best_trials(num_models)\n\u001b[1;32m--> <a href='file:///c%3A/Users/bhatt/anaconda3/envs/dLenv/lib/site-packages/keras_tuner/engine/base_tuner.py?line=283'>284</a>\u001b[0m models \u001b[39m=\u001b[39m [\u001b[39mself\u001b[39m\u001b[39m.\u001b[39mload_model(trial) \u001b[39mfor\u001b[39;00m trial \u001b[39min\u001b[39;00m best_trials]\n\u001b[0;32m    <a href='file:///c%3A/Users/bhatt/anaconda3/envs/dLenv/lib/site-packages/keras_tuner/engine/base_tuner.py?line=284'>285</a>\u001b[0m \u001b[39mreturn\u001b[39;00m models\n",
      "File \u001b[1;32m~\\anaconda3\\envs\\dLenv\\lib\\site-packages\\keras_tuner\\engine\\base_tuner.py:284\u001b[0m, in \u001b[0;36m<listcomp>\u001b[1;34m(.0)\u001b[0m\n\u001b[0;32m    <a href='file:///c%3A/Users/bhatt/anaconda3/envs/dLenv/lib/site-packages/keras_tuner/engine/base_tuner.py?line=268'>269</a>\u001b[0m \u001b[39m\"\"\"Returns the best model(s), as determined by the objective.\u001b[39;00m\n\u001b[0;32m    <a href='file:///c%3A/Users/bhatt/anaconda3/envs/dLenv/lib/site-packages/keras_tuner/engine/base_tuner.py?line=269'>270</a>\u001b[0m \n\u001b[0;32m    <a href='file:///c%3A/Users/bhatt/anaconda3/envs/dLenv/lib/site-packages/keras_tuner/engine/base_tuner.py?line=270'>271</a>\u001b[0m \u001b[39mThis method is for querying the models trained during the search.\u001b[39;00m\n\u001b[1;32m   (...)\u001b[0m\n\u001b[0;32m    <a href='file:///c%3A/Users/bhatt/anaconda3/envs/dLenv/lib/site-packages/keras_tuner/engine/base_tuner.py?line=280'>281</a>\u001b[0m \u001b[39m    List of trained models sorted from the best to the worst.\u001b[39;00m\n\u001b[0;32m    <a href='file:///c%3A/Users/bhatt/anaconda3/envs/dLenv/lib/site-packages/keras_tuner/engine/base_tuner.py?line=281'>282</a>\u001b[0m \u001b[39m\"\"\"\u001b[39;00m\n\u001b[0;32m    <a href='file:///c%3A/Users/bhatt/anaconda3/envs/dLenv/lib/site-packages/keras_tuner/engine/base_tuner.py?line=282'>283</a>\u001b[0m best_trials \u001b[39m=\u001b[39m \u001b[39mself\u001b[39m\u001b[39m.\u001b[39moracle\u001b[39m.\u001b[39mget_best_trials(num_models)\n\u001b[1;32m--> <a href='file:///c%3A/Users/bhatt/anaconda3/envs/dLenv/lib/site-packages/keras_tuner/engine/base_tuner.py?line=283'>284</a>\u001b[0m models \u001b[39m=\u001b[39m [\u001b[39mself\u001b[39;49m\u001b[39m.\u001b[39;49mload_model(trial) \u001b[39mfor\u001b[39;00m trial \u001b[39min\u001b[39;00m best_trials]\n\u001b[0;32m    <a href='file:///c%3A/Users/bhatt/anaconda3/envs/dLenv/lib/site-packages/keras_tuner/engine/base_tuner.py?line=284'>285</a>\u001b[0m \u001b[39mreturn\u001b[39;00m models\n",
      "File \u001b[1;32m~\\anaconda3\\envs\\dLenv\\lib\\site-packages\\keras_tuner\\engine\\tuner.py:304\u001b[0m, in \u001b[0;36mTuner.load_model\u001b[1;34m(self, trial)\u001b[0m\n\u001b[0;32m    <a href='file:///c%3A/Users/bhatt/anaconda3/envs/dLenv/lib/site-packages/keras_tuner/engine/tuner.py?line=300'>301</a>\u001b[0m \u001b[39m# Reload best checkpoint.\u001b[39;00m\n\u001b[0;32m    <a href='file:///c%3A/Users/bhatt/anaconda3/envs/dLenv/lib/site-packages/keras_tuner/engine/tuner.py?line=301'>302</a>\u001b[0m \u001b[39m# Only load weights to avoid loading `custom_objects`.\u001b[39;00m\n\u001b[0;32m    <a href='file:///c%3A/Users/bhatt/anaconda3/envs/dLenv/lib/site-packages/keras_tuner/engine/tuner.py?line=302'>303</a>\u001b[0m \u001b[39mwith\u001b[39;00m maybe_distribute(\u001b[39mself\u001b[39m\u001b[39m.\u001b[39mdistribution_strategy):\n\u001b[1;32m--> <a href='file:///c%3A/Users/bhatt/anaconda3/envs/dLenv/lib/site-packages/keras_tuner/engine/tuner.py?line=303'>304</a>\u001b[0m     model\u001b[39m.\u001b[39;49mload_weights(\u001b[39mself\u001b[39;49m\u001b[39m.\u001b[39;49m_get_checkpoint_fname(trial\u001b[39m.\u001b[39;49mtrial_id))\n\u001b[0;32m    <a href='file:///c%3A/Users/bhatt/anaconda3/envs/dLenv/lib/site-packages/keras_tuner/engine/tuner.py?line=304'>305</a>\u001b[0m \u001b[39mreturn\u001b[39;00m model\n",
      "File \u001b[1;32m~\\anaconda3\\envs\\dLenv\\lib\\site-packages\\keras\\utils\\traceback_utils.py:67\u001b[0m, in \u001b[0;36mfilter_traceback.<locals>.error_handler\u001b[1;34m(*args, **kwargs)\u001b[0m\n\u001b[0;32m     <a href='file:///c%3A/Users/bhatt/anaconda3/envs/dLenv/lib/site-packages/keras/utils/traceback_utils.py?line=64'>65</a>\u001b[0m \u001b[39mexcept\u001b[39;00m \u001b[39mException\u001b[39;00m \u001b[39mas\u001b[39;00m e:  \u001b[39m# pylint: disable=broad-except\u001b[39;00m\n\u001b[0;32m     <a href='file:///c%3A/Users/bhatt/anaconda3/envs/dLenv/lib/site-packages/keras/utils/traceback_utils.py?line=65'>66</a>\u001b[0m   filtered_tb \u001b[39m=\u001b[39m _process_traceback_frames(e\u001b[39m.\u001b[39m__traceback__)\n\u001b[1;32m---> <a href='file:///c%3A/Users/bhatt/anaconda3/envs/dLenv/lib/site-packages/keras/utils/traceback_utils.py?line=66'>67</a>\u001b[0m   \u001b[39mraise\u001b[39;00m e\u001b[39m.\u001b[39mwith_traceback(filtered_tb) \u001b[39mfrom\u001b[39;00m \u001b[39mNone\u001b[39m\n\u001b[0;32m     <a href='file:///c%3A/Users/bhatt/anaconda3/envs/dLenv/lib/site-packages/keras/utils/traceback_utils.py?line=67'>68</a>\u001b[0m \u001b[39mfinally\u001b[39;00m:\n\u001b[0;32m     <a href='file:///c%3A/Users/bhatt/anaconda3/envs/dLenv/lib/site-packages/keras/utils/traceback_utils.py?line=68'>69</a>\u001b[0m   \u001b[39mdel\u001b[39;00m filtered_tb\n",
      "File \u001b[1;32m~\\anaconda3\\envs\\dLenv\\lib\\site-packages\\tensorflow\\python\\training\\py_checkpoint_reader.py:35\u001b[0m, in \u001b[0;36merror_translator\u001b[1;34m(e)\u001b[0m\n\u001b[0;32m     <a href='file:///c%3A/Users/bhatt/anaconda3/envs/dLenv/lib/site-packages/tensorflow/python/training/py_checkpoint_reader.py?line=30'>31</a>\u001b[0m error_message \u001b[39m=\u001b[39m \u001b[39mstr\u001b[39m(e)\n\u001b[0;32m     <a href='file:///c%3A/Users/bhatt/anaconda3/envs/dLenv/lib/site-packages/tensorflow/python/training/py_checkpoint_reader.py?line=31'>32</a>\u001b[0m \u001b[39mif\u001b[39;00m \u001b[39m'\u001b[39m\u001b[39mnot found in checkpoint\u001b[39m\u001b[39m'\u001b[39m \u001b[39min\u001b[39;00m error_message \u001b[39mor\u001b[39;00m (\n\u001b[0;32m     <a href='file:///c%3A/Users/bhatt/anaconda3/envs/dLenv/lib/site-packages/tensorflow/python/training/py_checkpoint_reader.py?line=32'>33</a>\u001b[0m     \u001b[39m'\u001b[39m\u001b[39mFailed to find any \u001b[39m\u001b[39m'\u001b[39m\n\u001b[0;32m     <a href='file:///c%3A/Users/bhatt/anaconda3/envs/dLenv/lib/site-packages/tensorflow/python/training/py_checkpoint_reader.py?line=33'>34</a>\u001b[0m     \u001b[39m'\u001b[39m\u001b[39mmatching files for\u001b[39m\u001b[39m'\u001b[39m) \u001b[39min\u001b[39;00m error_message:\n\u001b[1;32m---> <a href='file:///c%3A/Users/bhatt/anaconda3/envs/dLenv/lib/site-packages/tensorflow/python/training/py_checkpoint_reader.py?line=34'>35</a>\u001b[0m   \u001b[39mraise\u001b[39;00m errors_impl\u001b[39m.\u001b[39mNotFoundError(\u001b[39mNone\u001b[39;00m, \u001b[39mNone\u001b[39;00m, error_message)\n\u001b[0;32m     <a href='file:///c%3A/Users/bhatt/anaconda3/envs/dLenv/lib/site-packages/tensorflow/python/training/py_checkpoint_reader.py?line=35'>36</a>\u001b[0m \u001b[39melif\u001b[39;00m \u001b[39m'\u001b[39m\u001b[39mSliced checkpoints are not supported\u001b[39m\u001b[39m'\u001b[39m \u001b[39min\u001b[39;00m error_message \u001b[39mor\u001b[39;00m (\n\u001b[0;32m     <a href='file:///c%3A/Users/bhatt/anaconda3/envs/dLenv/lib/site-packages/tensorflow/python/training/py_checkpoint_reader.py?line=36'>37</a>\u001b[0m     \u001b[39m'\u001b[39m\u001b[39mData type \u001b[39m\u001b[39m'\u001b[39m\n\u001b[0;32m     <a href='file:///c%3A/Users/bhatt/anaconda3/envs/dLenv/lib/site-packages/tensorflow/python/training/py_checkpoint_reader.py?line=37'>38</a>\u001b[0m     \u001b[39m'\u001b[39m\u001b[39mnot \u001b[39m\u001b[39m'\u001b[39m\n\u001b[0;32m     <a href='file:///c%3A/Users/bhatt/anaconda3/envs/dLenv/lib/site-packages/tensorflow/python/training/py_checkpoint_reader.py?line=38'>39</a>\u001b[0m     \u001b[39m'\u001b[39m\u001b[39msupported\u001b[39m\u001b[39m'\u001b[39m) \u001b[39min\u001b[39;00m error_message:\n\u001b[0;32m     <a href='file:///c%3A/Users/bhatt/anaconda3/envs/dLenv/lib/site-packages/tensorflow/python/training/py_checkpoint_reader.py?line=39'>40</a>\u001b[0m   \u001b[39mraise\u001b[39;00m errors_impl\u001b[39m.\u001b[39mUnimplementedError(\u001b[39mNone\u001b[39;00m, \u001b[39mNone\u001b[39;00m, error_message)\n",
      "\u001b[1;31mNotFoundError\u001b[0m: Unsuccessful TensorSliceReader constructor: Failed to find any matching files for output\\HAR_ConvLstm\\trial_a341852071a398bd254ecfdee9cee07d\\checkpoint"
     ]
    }
   ],
   "source": [
    "model3=m3.do_compile(X_train,X_test,trainy_one_hot,testy_one_hot)"
   ]
  },
  {
   "cell_type": "code",
   "execution_count": 30,
   "metadata": {},
   "outputs": [
    {
     "name": "stdout",
     "output_type": "stream",
     "text": [
      "[[ 56   0   0   0   0   0   0   0   0   0   0   0]\n",
      " [  3 267   1   0   0   0   0   0   2   1   0   0]\n",
      " [  0   0 270   5   0   1   0   0   0   1   2   0]\n",
      " [  0   0   1 306   0   0   0   0   0   0   4   3]\n",
      " [  0   0   0   0 336   0   0   1  11   0   0   0]\n",
      " [  2   0   0   0   1 146   0   2   1   0   0   0]\n",
      " [  0   0   0   0   0   1 258   0   1   0   0   2]\n",
      " [  3   0   0   0   0   0   1 282   0   0   0   0]\n",
      " [  0   0   0   0   0   0   0   0 187   5   3   1]\n",
      " [  0   1   2   0   0   0   0   0  12 146   1   0]\n",
      " [  0   0   2   2   0   0   0   0   2   1 234   3]\n",
      " [  0   0   0   6   0   0   0   0   0   0   1 366]]\n",
      "0.9687712152070604\n",
      "classification_report of model3:\n",
      "              precision    recall  f1-score   support\n",
      "\n",
      "           0       0.88      1.00      0.93        56\n",
      "           1       1.00      0.97      0.99       274\n",
      "           2       0.98      0.97      0.97       279\n",
      "           3       0.96      0.97      0.97       314\n",
      "           4       1.00      0.97      0.98       348\n",
      "           5       0.99      0.96      0.97       152\n",
      "           6       1.00      0.98      0.99       262\n",
      "           7       0.99      0.99      0.99       286\n",
      "           8       0.87      0.95      0.91       196\n",
      "           9       0.95      0.90      0.92       162\n",
      "          10       0.96      0.96      0.96       244\n",
      "          11       0.98      0.98      0.98       373\n",
      "\n",
      "    accuracy                           0.97      2946\n",
      "   macro avg       0.96      0.97      0.96      2946\n",
      "weighted avg       0.97      0.97      0.97      2946\n",
      "\n"
     ]
    },
    {
     "data": {
      "text/plain": [
       "<AxesSubplot:>"
      ]
     },
     "execution_count": 30,
     "metadata": {},
     "output_type": "execute_result"
    }
   ],
   "source": [
    "predy=m3.prediction(X_test)\n",
    "cm=confusion_matrix(y_test,predy)\n",
    "print(cm)\n",
    "print(acc(y_test,predy))\n",
    "print(\"classification_report of model3:\")\n",
    "print(classification_report(y_test,predy))\n",
    "sns.heatmap(cm, annot=True)"
   ]
  },
  {
   "cell_type": "code",
   "execution_count": 31,
   "metadata": {},
   "outputs": [],
   "source": [
    "model3.save(\"Models_h5//model3.h5\")"
   ]
  },
  {
   "cell_type": "code",
   "execution_count": 27,
   "metadata": {},
   "outputs": [],
   "source": [
    "from model4 import Layered_LSTM"
   ]
  },
  {
   "cell_type": "code",
   "execution_count": 28,
   "metadata": {},
   "outputs": [],
   "source": [
    "m4=Layered_LSTM(n_timesteps, n_features, n_outputs)"
   ]
  },
  {
   "cell_type": "code",
   "execution_count": 29,
   "metadata": {},
   "outputs": [
    {
     "name": "stdout",
     "output_type": "stream",
     "text": [
      "Epoch 1/30\n",
      "69/69 [==============================] - 9s 77ms/step - loss: 0.5807 - accuracy: 0.8284 - val_loss: 1.8065 - val_accuracy: 0.4425\n",
      "Epoch 2/30\n",
      "69/69 [==============================] - 4s 52ms/step - loss: 0.0914 - accuracy: 0.9863 - val_loss: 0.8474 - val_accuracy: 0.7978\n",
      "Epoch 3/30\n",
      "69/69 [==============================] - 4s 52ms/step - loss: 0.1278 - accuracy: 0.9712 - val_loss: 1.1866 - val_accuracy: 0.7384\n",
      "Epoch 4/30\n",
      "69/69 [==============================] - 4s 53ms/step - loss: 0.0716 - accuracy: 0.9876 - val_loss: 0.6491 - val_accuracy: 0.8688\n",
      "Epoch 5/30\n",
      "69/69 [==============================] - 4s 52ms/step - loss: 0.0587 - accuracy: 0.9872 - val_loss: 0.2624 - val_accuracy: 0.9454\n",
      "Epoch 6/30\n",
      "69/69 [==============================] - 4s 53ms/step - loss: 0.0435 - accuracy: 0.9902 - val_loss: 0.0795 - val_accuracy: 0.9854\n",
      "Epoch 7/30\n",
      "69/69 [==============================] - 4s 52ms/step - loss: 0.0719 - accuracy: 0.9826 - val_loss: 2.4449 - val_accuracy: 0.6229\n",
      "Epoch 8/30\n",
      "69/69 [==============================] - 4s 53ms/step - loss: 0.0566 - accuracy: 0.9888 - val_loss: 0.2836 - val_accuracy: 0.9040\n",
      "Epoch 9/30\n",
      "69/69 [==============================] - 4s 52ms/step - loss: 0.0370 - accuracy: 0.9922 - val_loss: 0.0549 - val_accuracy: 0.9817\n",
      "Epoch 10/30\n",
      "69/69 [==============================] - 4s 52ms/step - loss: 0.0239 - accuracy: 0.9947 - val_loss: 0.0149 - val_accuracy: 0.9978\n",
      "Epoch 11/30\n",
      "69/69 [==============================] - 4s 52ms/step - loss: 0.0205 - accuracy: 0.9959 - val_loss: 0.2062 - val_accuracy: 0.9223\n",
      "Epoch 12/30\n",
      "69/69 [==============================] - 4s 53ms/step - loss: 0.0367 - accuracy: 0.9915 - val_loss: 0.9162 - val_accuracy: 0.8823\n",
      "Epoch 13/30\n",
      "69/69 [==============================] - 4s 53ms/step - loss: 0.0428 - accuracy: 0.9897 - val_loss: 0.1190 - val_accuracy: 0.9742\n",
      "Epoch 14/30\n",
      "69/69 [==============================] - 4s 53ms/step - loss: 0.0558 - accuracy: 0.9842 - val_loss: 0.1696 - val_accuracy: 0.9552\n",
      "Epoch 15/30\n",
      "69/69 [==============================] - 4s 53ms/step - loss: 0.0761 - accuracy: 0.9831 - val_loss: 1.4064 - val_accuracy: 0.7037\n",
      "Epoch 16/30\n",
      "69/69 [==============================] - 4s 54ms/step - loss: 0.0531 - accuracy: 0.9911 - val_loss: 0.1050 - val_accuracy: 0.9727\n",
      "Epoch 17/30\n",
      "69/69 [==============================] - 4s 53ms/step - loss: 0.0252 - accuracy: 0.9950 - val_loss: 0.0170 - val_accuracy: 0.9959\n",
      "Epoch 18/30\n",
      "69/69 [==============================] - 4s 54ms/step - loss: 0.0295 - accuracy: 0.9929 - val_loss: 0.0374 - val_accuracy: 0.9892\n",
      "Epoch 19/30\n",
      "69/69 [==============================] - 4s 53ms/step - loss: 0.0546 - accuracy: 0.9856 - val_loss: 3.8026 - val_accuracy: 0.3173\n",
      "Epoch 20/30\n",
      "69/69 [==============================] - 4s 53ms/step - loss: 0.0219 - accuracy: 0.9954 - val_loss: 0.2803 - val_accuracy: 0.9309\n",
      "Epoch 21/30\n",
      "69/69 [==============================] - 4s 52ms/step - loss: 0.0265 - accuracy: 0.9936 - val_loss: 0.0690 - val_accuracy: 0.9839\n",
      "Epoch 22/30\n",
      "69/69 [==============================] - 4s 52ms/step - loss: 0.0199 - accuracy: 0.9952 - val_loss: 0.0157 - val_accuracy: 0.9970\n",
      "Epoch 23/30\n",
      "69/69 [==============================] - 4s 53ms/step - loss: 0.0143 - accuracy: 0.9963 - val_loss: 0.0089 - val_accuracy: 0.9989\n",
      "Epoch 24/30\n",
      "69/69 [==============================] - 4s 52ms/step - loss: 0.0200 - accuracy: 0.9952 - val_loss: 0.0492 - val_accuracy: 0.9933\n",
      "Epoch 25/30\n",
      "69/69 [==============================] - 4s 52ms/step - loss: 0.0254 - accuracy: 0.9938 - val_loss: 0.0125 - val_accuracy: 0.9985\n",
      "Epoch 26/30\n",
      "69/69 [==============================] - 4s 53ms/step - loss: 0.0154 - accuracy: 0.9970 - val_loss: 0.0143 - val_accuracy: 0.9989\n",
      "Epoch 27/30\n",
      "69/69 [==============================] - 4s 53ms/step - loss: 0.0312 - accuracy: 0.9911 - val_loss: 0.8917 - val_accuracy: 0.9197\n",
      "Epoch 28/30\n",
      "69/69 [==============================] - 4s 52ms/step - loss: 0.0226 - accuracy: 0.9945 - val_loss: 0.1549 - val_accuracy: 0.9425\n",
      "Epoch 29/30\n",
      "69/69 [==============================] - 4s 52ms/step - loss: 0.0254 - accuracy: 0.9957 - val_loss: 0.0324 - val_accuracy: 0.9951\n",
      "Epoch 30/30\n",
      "69/69 [==============================] - 4s 53ms/step - loss: 0.0247 - accuracy: 0.9947 - val_loss: 0.0201 - val_accuracy: 0.9963\n"
     ]
    }
   ],
   "source": [
    "model4=m4.do_compile(X_train,X_test,trainy_one_hot,testy_one_hot)"
   ]
  },
  {
   "cell_type": "code",
   "execution_count": 30,
   "metadata": {},
   "outputs": [
    {
     "name": "stdout",
     "output_type": "stream",
     "text": [
      "[[213   0   0   1   0   0   0   0   0   0   0   0]\n",
      " [  0 197   0   0   0   0   0   0   0   0   0   0]\n",
      " [  0   0 232   6   0   0   0   0   0   0   0   0]\n",
      " [  0   0   0 232   1   0   0   0   0   0   0   0]\n",
      " [  0   0   0   0 212   1   0   0   0   0   0   0]\n",
      " [  0   0   0   0   0 244   0   0   0   0   0   0]\n",
      " [  0   0   0   0   0   0 234   0   0   0   0   0]\n",
      " [  0   0   0   0   0   0   0 214   0   0   0   0]\n",
      " [  0   0   0   0   0   0   0   0 231   0   0   0]\n",
      " [  0   0   0   0   0   0   0   0   0 211   0   0]\n",
      " [  0   0   0   0   0   0   0   0   0   0 223   0]\n",
      " [  0   0   0   0   0   0   0   1   0   0   0 223]]\n",
      "0.9962630792227205\n",
      "classification_report of model4:\n",
      "              precision    recall  f1-score   support\n",
      "\n",
      "           0       1.00      1.00      1.00       214\n",
      "           1       1.00      1.00      1.00       197\n",
      "           2       1.00      0.97      0.99       238\n",
      "           3       0.97      1.00      0.98       233\n",
      "           4       1.00      1.00      1.00       213\n",
      "           5       1.00      1.00      1.00       244\n",
      "           6       1.00      1.00      1.00       234\n",
      "           7       1.00      1.00      1.00       214\n",
      "           8       1.00      1.00      1.00       231\n",
      "           9       1.00      1.00      1.00       211\n",
      "          10       1.00      1.00      1.00       223\n",
      "          11       1.00      1.00      1.00       224\n",
      "\n",
      "    accuracy                           1.00      2676\n",
      "   macro avg       1.00      1.00      1.00      2676\n",
      "weighted avg       1.00      1.00      1.00      2676\n",
      "\n"
     ]
    },
    {
     "data": {
      "text/plain": [
       "<AxesSubplot:>"
      ]
     },
     "execution_count": 30,
     "metadata": {},
     "output_type": "execute_result"
    },
    {
     "data": {
      "image/png": "[encoded data removed]",
      "text/plain": [
       "<Figure size 432x288 with 2 Axes>"
      ]
     },
     "metadata": {
      "needs_background": "light"
     },
     "output_type": "display_data"
    }
   ],
   "source": [
    "predy=m4.prediction(X_test)\n",
    "cm=confusion_matrix(y_test,predy)\n",
    "print(cm)\n",
    "print(acc(y_test,predy))\n",
    "print(\"classification_report of model4:\")\n",
    "print(classification_report(y_test,predy))\n",
    "sns.heatmap(cm, annot=True)"
   ]
  },
  {
   "cell_type": "code",
   "execution_count": 36,
   "metadata": {},
   "outputs": [],
   "source": [
    "model4.save(\"Models_h5//model4.h5\")"
   ]
  },
  {
   "cell_type": "code",
   "execution_count": null,
   "metadata": {},
   "outputs": [],
   "source": []
  }
 ],
 "metadata": {
  "interpreter": {
   "hash": "430cf71330057c3667661f8009a18fe65a7652eec0a123d908058e168adcc71d"
  },
  "kernelspec": {
   "display_name": "Python 3.9.0 ('dLenv')",
   "language": "python",
   "name": "python3"
  },
  "language_info": {
   "codemirror_mode": {
    "name": "ipython",
    "version": 3
   },
   "file_extension": ".py",
   "mimetype": "text/x-python",
   "name": "python",
   "nbconvert_exporter": "python",
   "pygments_lexer": "ipython3",
   "version": "3.9.0"
  }
 },
 "nbformat": 4,
 "nbformat_minor": 5
}
