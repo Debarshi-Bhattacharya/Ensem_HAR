{
 "cells": [
  {
   "cell_type": "code",
   "execution_count": 19,
   "id": "8eb82b1f",
   "metadata": {},
   "outputs": [],
   "source": [
    "import pandas as pd\n",
    "import numpy as np\n",
    "import matplotlib.pyplot as plt\n",
    "from scipy import stats\n",
    "import tensorflow as tf\n",
    "from sklearn import metrics\n",
    "import h5py\n",
    "import matplotlib.pyplot as plt\n",
    "from sklearn.model_selection import train_test_split\n",
    "from sklearn.metrics import confusion_matrix\n",
    "from tensorflow.keras.utils import to_categorical"
   ]
  },
  {
   "cell_type": "code",
   "execution_count": 3,
   "id": "4fd6ef23",
   "metadata": {},
   "outputs": [],
   "source": [
    "path = \"pamap_scaled.h5\""
   ]
  },
  {
   "cell_type": "code",
   "execution_count": 7,
   "id": "c65c2e15",
   "metadata": {},
   "outputs": [],
   "source": [
    "f = h5py.File(path, 'r')\n",
    "X = f.get('inputs')\n",
    "y = f.get('labels') \n",
    "#print(type(X))\n",
    "#print(type(y))\n",
    "X = np.array(X)\n",
    "y = np.array(y)\n",
    "X_train, X_test, y_train, y_test = train_test_split(X, y, test_size=0.3, random_state = 1)"
   ]
  },
  {
   "cell_type": "code",
   "execution_count": 20,
   "id": "c74c35e8",
   "metadata": {},
   "outputs": [],
   "source": [
    "trainy_one_hot = to_categorical(y_train)\n",
    "testy_one_hot = to_categorical(y_test)"
   ]
  },
  {
   "cell_type": "code",
   "execution_count": 23,
   "id": "5b92d259",
   "metadata": {},
   "outputs": [],
   "source": [
    "n_timesteps, n_features, n_outputs = X_train.shape[1], X_train.shape[2], trainy_one_hot.shape[1]"
   ]
  },
  {
   "cell_type": "code",
   "execution_count": 24,
   "id": "7eec39ea",
   "metadata": {},
   "outputs": [
    {
     "data": {
      "text/plain": [
       "(128, 40, 12)"
      ]
     },
     "execution_count": 24,
     "metadata": {},
     "output_type": "execute_result"
    }
   ],
   "source": [
    "n_timesteps, n_features, n_outputs"
   ]
  },
  {
   "cell_type": "code",
   "execution_count": 26,
   "id": "0fdd089c",
   "metadata": {},
   "outputs": [],
   "source": [
    "from model1 import cnn"
   ]
  },
  {
   "cell_type": "code",
   "execution_count": 27,
   "id": "76391361",
   "metadata": {},
   "outputs": [],
   "source": [
    "m1=cnn(n_timesteps, n_features, n_outputs)"
   ]
  },
  {
   "cell_type": "code",
   "execution_count": 29,
   "id": "2847616f",
   "metadata": {},
   "outputs": [
    {
     "name": "stdout",
     "output_type": "stream",
     "text": [
      "Epoch 1/10\n",
      "57/57 [==============================] - 24s 255ms/step - loss: 7.5676 - accuracy: 0.5372 - val_loss: 0.4996 - val_accuracy: 0.8318\n",
      "Epoch 2/10\n",
      "57/57 [==============================] - 4s 71ms/step - loss: 0.2877 - accuracy: 0.9184 - val_loss: 0.1953 - val_accuracy: 0.9379\n",
      "Epoch 3/10\n",
      "57/57 [==============================] - 4s 70ms/step - loss: 0.1125 - accuracy: 0.9684 - val_loss: 0.1842 - val_accuracy: 0.9340\n",
      "Epoch 4/10\n",
      "57/57 [==============================] - 4s 71ms/step - loss: 0.0743 - accuracy: 0.9789 - val_loss: 0.1931 - val_accuracy: 0.9327\n",
      "Epoch 5/10\n",
      "57/57 [==============================] - 4s 68ms/step - loss: 0.1137 - accuracy: 0.9656 - val_loss: 0.1508 - val_accuracy: 0.9547\n",
      "Epoch 6/10\n",
      "57/57 [==============================] - 4s 68ms/step - loss: 0.0250 - accuracy: 0.9933 - val_loss: 0.0714 - val_accuracy: 0.9806\n",
      "Epoch 7/10\n",
      "57/57 [==============================] - 4s 68ms/step - loss: 0.0087 - accuracy: 0.9983 - val_loss: 0.0757 - val_accuracy: 0.9728\n",
      "Epoch 8/10\n",
      "57/57 [==============================] - 4s 69ms/step - loss: 0.0013 - accuracy: 1.0000 - val_loss: 0.0661 - val_accuracy: 0.9793\n",
      "Epoch 9/10\n",
      "57/57 [==============================] - 4s 69ms/step - loss: 7.0200e-04 - accuracy: 1.0000 - val_loss: 0.0632 - val_accuracy: 0.9793\n",
      "Epoch 10/10\n",
      "57/57 [==============================] - 4s 67ms/step - loss: 4.9586e-04 - accuracy: 1.0000 - val_loss: 0.0628 - val_accuracy: 0.9806\n",
      "Model: \"model\"\n",
      "__________________________________________________________________________________________________\n",
      "Layer (type)                    Output Shape         Param #     Connected to                     \n",
      "==================================================================================================\n",
      "input_1 (InputLayer)            [(None, 128, 40)]    0                                            \n",
      "__________________________________________________________________________________________________\n",
      "input_2 (InputLayer)            [(None, 128, 40)]    0                                            \n",
      "__________________________________________________________________________________________________\n",
      "input_3 (InputLayer)            [(None, 128, 40)]    0                                            \n",
      "__________________________________________________________________________________________________\n",
      "input_4 (InputLayer)            [(None, 128, 40)]    0                                            \n",
      "__________________________________________________________________________________________________\n",
      "conv1d (Conv1D)                 (None, 126, 128)     15488       input_1[0][0]                    \n",
      "__________________________________________________________________________________________________\n",
      "conv1d_1 (Conv1D)               (None, 124, 128)     25728       input_2[0][0]                    \n",
      "__________________________________________________________________________________________________\n",
      "conv1d_2 (Conv1D)               (None, 122, 128)     35968       input_3[0][0]                    \n",
      "__________________________________________________________________________________________________\n",
      "conv1d_3 (Conv1D)               (None, 120, 128)     46208       input_4[0][0]                    \n",
      "__________________________________________________________________________________________________\n",
      "concatenate (Concatenate)       (None, 492, 128)     0           conv1d[0][0]                     \n",
      "                                                                 conv1d_1[0][0]                   \n",
      "                                                                 conv1d_2[0][0]                   \n",
      "                                                                 conv1d_3[0][0]                   \n",
      "__________________________________________________________________________________________________\n",
      "max_pooling1d (MaxPooling1D)    (None, 98, 128)      0           concatenate[0][0]                \n",
      "__________________________________________________________________________________________________\n",
      "conv1d_4 (Conv1D)               (None, 96, 64)       24640       max_pooling1d[0][0]              \n",
      "__________________________________________________________________________________________________\n",
      "conv1d_5 (Conv1D)               (None, 94, 64)       41024       max_pooling1d[0][0]              \n",
      "__________________________________________________________________________________________________\n",
      "conv1d_6 (Conv1D)               (None, 92, 64)       57408       max_pooling1d[0][0]              \n",
      "__________________________________________________________________________________________________\n",
      "conv1d_7 (Conv1D)               (None, 90, 64)       73792       max_pooling1d[0][0]              \n",
      "__________________________________________________________________________________________________\n",
      "concatenate_1 (Concatenate)     (None, 372, 64)      0           conv1d_4[0][0]                   \n",
      "                                                                 conv1d_5[0][0]                   \n",
      "                                                                 conv1d_6[0][0]                   \n",
      "                                                                 conv1d_7[0][0]                   \n",
      "__________________________________________________________________________________________________\n",
      "max_pooling1d_1 (MaxPooling1D)  (None, 74, 64)       0           concatenate_1[0][0]              \n",
      "__________________________________________________________________________________________________\n",
      "conv1d_8 (Conv1D)               (None, 72, 32)       6176        max_pooling1d_1[0][0]            \n",
      "__________________________________________________________________________________________________\n",
      "conv1d_9 (Conv1D)               (None, 70, 32)       10272       max_pooling1d_1[0][0]            \n",
      "__________________________________________________________________________________________________\n",
      "conv1d_10 (Conv1D)              (None, 68, 32)       14368       max_pooling1d_1[0][0]            \n",
      "__________________________________________________________________________________________________\n",
      "conv1d_11 (Conv1D)              (None, 66, 32)       18464       max_pooling1d_1[0][0]            \n",
      "__________________________________________________________________________________________________\n",
      "concatenate_2 (Concatenate)     (None, 276, 32)      0           conv1d_8[0][0]                   \n",
      "                                                                 conv1d_9[0][0]                   \n",
      "                                                                 conv1d_10[0][0]                  \n",
      "                                                                 conv1d_11[0][0]                  \n",
      "__________________________________________________________________________________________________\n",
      "max_pooling1d_2 (MaxPooling1D)  (None, 55, 32)       0           concatenate_2[0][0]              \n",
      "__________________________________________________________________________________________________\n",
      "flatten (Flatten)               (None, 1760)         0           max_pooling1d_2[0][0]            \n",
      "__________________________________________________________________________________________________\n",
      "dense (Dense)                   (None, 512)          901632      flatten[0][0]                    \n",
      "__________________________________________________________________________________________________\n",
      "dense_1 (Dense)                 (None, 12)           6156        dense[0][0]                      \n",
      "==================================================================================================\n",
      "Total params: 1,277,324\n",
      "Trainable params: 1,277,324\n",
      "Non-trainable params: 0\n",
      "__________________________________________________________________________________________________\n"
     ]
    }
   ],
   "source": [
    "m1.do_compile(X_train, X_test,trainy_one_hot,testy_one_hot)"
   ]
  },
  {
   "cell_type": "code",
   "execution_count": 36,
   "id": "bfd7b421",
   "metadata": {},
   "outputs": [],
   "source": [
    "from model2 import cnn_lstm"
   ]
  },
  {
   "cell_type": "code",
   "execution_count": 37,
   "id": "2ef8ffb7",
   "metadata": {},
   "outputs": [],
   "source": [
    "m2=cnn_lstm(n_timesteps, n_features, n_outputs)"
   ]
  },
  {
   "cell_type": "code",
   "execution_count": 38,
   "id": "67e9e724",
   "metadata": {},
   "outputs": [
    {
     "ename": "AttributeError",
     "evalue": "'cnn_lstm' object has no attribute 'class_weight'",
     "output_type": "error",
     "traceback": [
      "\u001b[1;31m---------------------------------------------------------------------------\u001b[0m",
      "\u001b[1;31mAttributeError\u001b[0m                            Traceback (most recent call last)",
      "\u001b[1;32m<ipython-input-38-0d480b6be405>\u001b[0m in \u001b[0;36m<module>\u001b[1;34m\u001b[0m\n\u001b[1;32m----> 1\u001b[1;33m \u001b[0mm2\u001b[0m\u001b[1;33m.\u001b[0m\u001b[0mdo_compile\u001b[0m\u001b[1;33m(\u001b[0m\u001b[0mX_train\u001b[0m\u001b[1;33m,\u001b[0m\u001b[0mX_test\u001b[0m\u001b[1;33m,\u001b[0m\u001b[0mtrainy_one_hot\u001b[0m\u001b[1;33m,\u001b[0m\u001b[0mtesty_one_hot\u001b[0m\u001b[1;33m)\u001b[0m\u001b[1;33m\u001b[0m\u001b[1;33m\u001b[0m\u001b[0m\n\u001b[0m",
      "\u001b[1;32m~\\Desktop\\idea_1\\Implementation_on_PAMAP2\\model2.py\u001b[0m in \u001b[0;36mdo_compile\u001b[1;34m(self, trainX, testX, trainy_one_hot, testy_one_hot)\u001b[0m\n\u001b[0;32m     85\u001b[0m         \u001b[0mself\u001b[0m\u001b[1;33m.\u001b[0m\u001b[0mcnnlstm_model\u001b[0m\u001b[1;33m.\u001b[0m\u001b[0mcompile\u001b[0m\u001b[1;33m(\u001b[0m\u001b[0mloss\u001b[0m\u001b[1;33m=\u001b[0m\u001b[1;34m'categorical_crossentropy'\u001b[0m\u001b[1;33m,\u001b[0m \u001b[0moptimizer\u001b[0m\u001b[1;33m=\u001b[0m\u001b[1;34m'adam'\u001b[0m\u001b[1;33m,\u001b[0m \u001b[0mmetrics\u001b[0m\u001b[1;33m=\u001b[0m\u001b[1;33m[\u001b[0m\u001b[1;34m'accuracy'\u001b[0m\u001b[1;33m]\u001b[0m\u001b[1;33m)\u001b[0m\u001b[1;33m\u001b[0m\u001b[1;33m\u001b[0m\u001b[0m\n\u001b[0;32m     86\u001b[0m         \u001b[1;31m# fit network\u001b[0m\u001b[1;33m\u001b[0m\u001b[1;33m\u001b[0m\u001b[1;33m\u001b[0m\u001b[0m\n\u001b[1;32m---> 87\u001b[1;33m         \u001b[0mmodel_history\u001b[0m\u001b[1;33m=\u001b[0m\u001b[0mself\u001b[0m\u001b[1;33m.\u001b[0m\u001b[0mcnnlstm_model\u001b[0m\u001b[1;33m.\u001b[0m\u001b[0mfit\u001b[0m\u001b[1;33m(\u001b[0m\u001b[0mx\u001b[0m\u001b[1;33m=\u001b[0m\u001b[1;33m[\u001b[0m\u001b[0mtrainX\u001b[0m\u001b[1;33m,\u001b[0m\u001b[0mtrainX\u001b[0m\u001b[1;33m,\u001b[0m\u001b[0mtrainX\u001b[0m\u001b[1;33m,\u001b[0m\u001b[0mtrainX\u001b[0m\u001b[1;33m,\u001b[0m\u001b[0mtrainX\u001b[0m\u001b[1;33m]\u001b[0m\u001b[1;33m,\u001b[0m \u001b[0my\u001b[0m\u001b[1;33m=\u001b[0m\u001b[0mtrainy_one_hot\u001b[0m\u001b[1;33m,\u001b[0m \u001b[0mepochs\u001b[0m\u001b[1;33m=\u001b[0m\u001b[1;36m10\u001b[0m\u001b[1;33m,\u001b[0m \u001b[0mbatch_size\u001b[0m\u001b[1;33m=\u001b[0m\u001b[1;36m32\u001b[0m\u001b[1;33m,\u001b[0m\u001b[0mclass_weight\u001b[0m\u001b[1;33m=\u001b[0m\u001b[0mself\u001b[0m\u001b[1;33m.\u001b[0m\u001b[0mclass_weight\u001b[0m\u001b[1;33m,\u001b[0m\u001b[0mvalidation_data\u001b[0m\u001b[1;33m=\u001b[0m \u001b[1;33m(\u001b[0m\u001b[1;33m[\u001b[0m\u001b[0mtestX\u001b[0m\u001b[1;33m,\u001b[0m\u001b[0mtestX\u001b[0m\u001b[1;33m,\u001b[0m\u001b[0mtestX\u001b[0m\u001b[1;33m,\u001b[0m\u001b[0mtestX\u001b[0m\u001b[1;33m,\u001b[0m\u001b[0mtestX\u001b[0m\u001b[1;33m]\u001b[0m\u001b[1;33m,\u001b[0m\u001b[0mtesty_one_hot\u001b[0m\u001b[1;33m)\u001b[0m\u001b[1;33m)\u001b[0m\u001b[1;33m\u001b[0m\u001b[1;33m\u001b[0m\u001b[0m\n\u001b[0m\u001b[0;32m     88\u001b[0m \u001b[1;33m\u001b[0m\u001b[0m\n\u001b[0;32m     89\u001b[0m     \u001b[1;32mdef\u001b[0m \u001b[0mprediction\u001b[0m\u001b[1;33m(\u001b[0m\u001b[0mself\u001b[0m\u001b[1;33m,\u001b[0m\u001b[0mtestX\u001b[0m\u001b[1;33m)\u001b[0m\u001b[1;33m:\u001b[0m\u001b[1;33m\u001b[0m\u001b[1;33m\u001b[0m\u001b[0m\n",
      "\u001b[1;31mAttributeError\u001b[0m: 'cnn_lstm' object has no attribute 'class_weight'"
     ]
    }
   ],
   "source": [
    "m2.do_compile(X_train,X_test,trainy_one_hot,testy_one_hot)"
   ]
  },
  {
   "cell_type": "code",
   "execution_count": null,
   "id": "f011dfbf",
   "metadata": {},
   "outputs": [],
   "source": []
  }
 ],
 "metadata": {
  "kernelspec": {
   "display_name": "dLenv",
   "language": "python",
   "name": "dlenv"
  },
  "language_info": {
   "codemirror_mode": {
    "name": "ipython",
    "version": 3
   },
   "file_extension": ".py",
   "mimetype": "text/x-python",
   "name": "python",
   "nbconvert_exporter": "python",
   "pygments_lexer": "ipython3",
   "version": "3.8.11"
  }
 },
 "nbformat": 4,
 "nbformat_minor": 5
}
