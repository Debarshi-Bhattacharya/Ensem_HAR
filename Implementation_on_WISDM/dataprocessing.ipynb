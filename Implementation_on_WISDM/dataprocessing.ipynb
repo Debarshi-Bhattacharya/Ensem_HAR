{
 "cells": [
  {
   "cell_type": "code",
   "execution_count": 1,
   "metadata": {},
   "outputs": [],
   "source": [
    "from matplotlib import pyplot as plt\n",
    "import pandas as pd\n",
    "import numpy as np\n",
    "from scipy import stats\n",
    "import math\n",
    "import h5py"
   ]
  },
  {
   "cell_type": "code",
   "execution_count": 2,
   "metadata": {},
   "outputs": [],
   "source": [
    "def read_data(file_path):\n",
    "    print(\"reading data\")\n",
    "    column_names = ['user-id','activity','timestamp', 'x-axis', 'y-axis', 'z-axis']\n",
    "    data = pd.read_csv(file_path,header = None, names = column_names)\n",
    "    print(\"finished reading data\")\n",
    "    return data"
   ]
  },
  {
   "cell_type": "code",
   "execution_count": 4,
   "metadata": {},
   "outputs": [
    {
     "name": "stdout",
     "output_type": "stream",
     "text": [
      "reading data\n",
      "finished reading data\n"
     ]
    }
   ],
   "source": [
    "#READING DATA\n",
    "dataset = read_data('..//Datasets//WISDM_Dataset//WISDM_ar_v1.1_raw.txt')"
   ]
  },
  {
   "cell_type": "code",
   "execution_count": 5,
   "metadata": {},
   "outputs": [
    {
     "data": {
      "text/plain": [
       "user-id      0\n",
       "activity     0\n",
       "timestamp    0\n",
       "x-axis       0\n",
       "y-axis       0\n",
       "z-axis       1\n",
       "dtype: int64"
      ]
     },
     "execution_count": 5,
     "metadata": {},
     "output_type": "execute_result"
    }
   ],
   "source": [
    "dataset.isnull().sum()"
   ]
  },
  {
   "cell_type": "code",
   "execution_count": 6,
   "metadata": {},
   "outputs": [],
   "source": [
    "dataset.dropna(axis=0, how='any', inplace= True)"
   ]
  },
  {
   "cell_type": "code",
   "execution_count": 7,
   "metadata": {},
   "outputs": [
    {
     "data": {
      "text/plain": [
       "user-id      0\n",
       "activity     0\n",
       "timestamp    0\n",
       "x-axis       0\n",
       "y-axis       0\n",
       "z-axis       0\n",
       "dtype: int64"
      ]
     },
     "execution_count": 7,
     "metadata": {},
     "output_type": "execute_result"
    }
   ],
   "source": [
    "dataset.isnull().sum()"
   ]
  },
  {
   "cell_type": "code",
   "execution_count": 8,
   "metadata": {},
   "outputs": [
    {
     "data": {
      "text/plain": [
       "['Walking', 'Jogging', 'Upstairs', 'Downstairs', 'Sitting', 'Standing']"
      ]
     },
     "execution_count": 8,
     "metadata": {},
     "output_type": "execute_result"
    }
   ],
   "source": [
    "['Walking','Jogging','Upstairs','Downstairs','Sitting','Standing']"
   ]
  },
  {
   "cell_type": "code",
   "execution_count": 9,
   "metadata": {},
   "outputs": [],
   "source": [
    "def reset_label(dataCollection): \n",
    "    # Converting original labels {'Walking','Jogging','Upstairs','Downstairs','Sitting','Standing'} to new labels, to store it in a .h5 file format\n",
    "    mapping = {'Walking':0,'Jogging':1,'Upstairs':2,'Downstairs':3,'Sitting':4,'Standing':5} # old activity Id to new activity Id \n",
    "    for i in  ['Walking','Jogging','Upstairs','Downstairs','Sitting','Standing']:\n",
    "        dataCollection.loc[dataCollection.activity == i, 'activity'] = mapping[i]\n",
    "\n",
    "    return dataCollection"
   ]
  },
  {
   "cell_type": "code",
   "execution_count": 10,
   "metadata": {},
   "outputs": [],
   "source": [
    "dataset_reset=reset_label(dataset)"
   ]
  },
  {
   "cell_type": "code",
   "execution_count": 11,
   "metadata": {},
   "outputs": [
    {
     "data": {
      "text/html": [
       "<div>\n",
       "<style scoped>\n",
       "    .dataframe tbody tr th:only-of-type {\n",
       "        vertical-align: middle;\n",
       "    }\n",
       "\n",
       "    .dataframe tbody tr th {\n",
       "        vertical-align: top;\n",
       "    }\n",
       "\n",
       "    .dataframe thead th {\n",
       "        text-align: right;\n",
       "    }\n",
       "</style>\n",
       "<table border=\"1\" class=\"dataframe\">\n",
       "  <thead>\n",
       "    <tr style=\"text-align: right;\">\n",
       "      <th></th>\n",
       "      <th>user-id</th>\n",
       "      <th>activity</th>\n",
       "      <th>timestamp</th>\n",
       "      <th>x-axis</th>\n",
       "      <th>y-axis</th>\n",
       "      <th>z-axis</th>\n",
       "    </tr>\n",
       "  </thead>\n",
       "  <tbody>\n",
       "    <tr>\n",
       "      <th>0</th>\n",
       "      <td>33</td>\n",
       "      <td>1</td>\n",
       "      <td>49105962326000</td>\n",
       "      <td>-0.694638</td>\n",
       "      <td>12.680544</td>\n",
       "      <td>0.503953</td>\n",
       "    </tr>\n",
       "    <tr>\n",
       "      <th>1</th>\n",
       "      <td>33</td>\n",
       "      <td>1</td>\n",
       "      <td>49106062271000</td>\n",
       "      <td>5.012288</td>\n",
       "      <td>11.264028</td>\n",
       "      <td>0.953424</td>\n",
       "    </tr>\n",
       "    <tr>\n",
       "      <th>2</th>\n",
       "      <td>33</td>\n",
       "      <td>1</td>\n",
       "      <td>49106112167000</td>\n",
       "      <td>4.903325</td>\n",
       "      <td>10.882658</td>\n",
       "      <td>-0.081722</td>\n",
       "    </tr>\n",
       "    <tr>\n",
       "      <th>3</th>\n",
       "      <td>33</td>\n",
       "      <td>1</td>\n",
       "      <td>49106222305000</td>\n",
       "      <td>-0.612916</td>\n",
       "      <td>18.496431</td>\n",
       "      <td>3.023717</td>\n",
       "    </tr>\n",
       "    <tr>\n",
       "      <th>4</th>\n",
       "      <td>33</td>\n",
       "      <td>1</td>\n",
       "      <td>49106332290000</td>\n",
       "      <td>-1.184970</td>\n",
       "      <td>12.108489</td>\n",
       "      <td>7.205164</td>\n",
       "    </tr>\n",
       "  </tbody>\n",
       "</table>\n",
       "</div>"
      ],
      "text/plain": [
       "   user-id activity       timestamp    x-axis     y-axis    z-axis\n",
       "0       33        1  49105962326000 -0.694638  12.680544  0.503953\n",
       "1       33        1  49106062271000  5.012288  11.264028  0.953424\n",
       "2       33        1  49106112167000  4.903325  10.882658 -0.081722\n",
       "3       33        1  49106222305000 -0.612916  18.496431  3.023717\n",
       "4       33        1  49106332290000 -1.184970  12.108489  7.205164"
      ]
     },
     "execution_count": 11,
     "metadata": {},
     "output_type": "execute_result"
    }
   ],
   "source": [
    "dataset_reset.head()"
   ]
  },
  {
   "cell_type": "code",
   "execution_count": 12,
   "metadata": {},
   "outputs": [],
   "source": [
    "def class_breakdown(data,col):\n",
    "    # group data by the class value and calculate the number of rows\n",
    "    counts = data.groupby(col).size()\n",
    "    # retrieve raw rows\n",
    "    counts = counts.values\n",
    "    # summarize\n",
    "    for i in range(len(counts)):\n",
    "        percent = counts[i] / len(data) * 100\n",
    "        print('Class=%d, total=%d, percentage=%.3f' % (i+1, counts[i], percent))"
   ]
  },
  {
   "cell_type": "code",
   "execution_count": 13,
   "metadata": {},
   "outputs": [
    {
     "name": "stdout",
     "output_type": "stream",
     "text": [
      "Class=1, total=424397, percentage=38.645\n",
      "Class=2, total=342176, percentage=31.158\n",
      "Class=3, total=122869, percentage=11.188\n",
      "Class=4, total=100427, percentage=9.145\n",
      "Class=5, total=59939, percentage=5.458\n",
      "Class=6, total=48395, percentage=4.407\n"
     ]
    }
   ],
   "source": [
    "class_breakdown(dataset_reset,'activity')"
   ]
  },
  {
   "cell_type": "code",
   "execution_count": 14,
   "metadata": {},
   "outputs": [],
   "source": [
    "X=dataset_reset.drop(['activity'],axis=1)\n",
    "y=dataset_reset['activity']"
   ]
  },
  {
   "cell_type": "markdown",
   "metadata": {},
   "source": [
    "#### code for remove class imbalance"
   ]
  },
  {
   "cell_type": "code",
   "execution_count": 15,
   "metadata": {},
   "outputs": [],
   "source": [
    "from imblearn.over_sampling import SMOTE\n",
    "from sklearn.preprocessing import LabelEncoder\n",
    "def class_balance(X,y):\n",
    "    oversample = SMOTE()\n",
    "    y = LabelEncoder().fit_transform(y)\n",
    "    X, y = oversample.fit_resample(X, y)\n",
    "    return X,y"
   ]
  },
  {
   "cell_type": "markdown",
   "metadata": {},
   "source": [
    "#### code for data segmentation into windows"
   ]
  },
  {
   "cell_type": "code",
   "execution_count": 16,
   "metadata": {},
   "outputs": [],
   "source": [
    "# ##code_1:\n",
    "# def windows(data, size):\n",
    "#     start = 0\n",
    "#     while start < data.count():\n",
    "#         yield int(start), int(start + size)\n",
    "#         start += (size / 2)\n",
    "\n",
    "# def segment_signal(data,window_size):\n",
    "#     segments = np.empty((0,window_size,3))\n",
    "#     labels = np.empty((0))\n",
    "#     for (start, end) in windows(data[\"timestamp\"], window_size):\n",
    "#         x = data[\"x-axis\"][start:end]\n",
    "#         y = data[\"y-axis\"][start:end]\n",
    "#         z = data[\"z-axis\"][start:end]\n",
    "#         if(len(dataset[\"timestamp\"][start:end]) == window_size and len(y)==window_size and len(x)==window_size and len(z)==window_size):\n",
    "#             segments = np.vstack([segments,np.dstack([x,y,z])])\n",
    "#             labels = np.append(labels,stats.mode(data[\"activity\"][start:end])[0][0])\n",
    "#     return {'input' : np.asarray(segments), 'label': labels}"
   ]
  },
  {
   "cell_type": "code",
   "execution_count": 17,
   "metadata": {},
   "outputs": [],
   "source": [
    "# code_2\n",
    "def segment_signal(data,window_size):\n",
    "    segments = np.empty((0,window_size,3))\n",
    "    labels = np.empty((0))\n",
    "    start=0\n",
    "    while start+window_size < data.shape[0]:\n",
    "        end=start + window_size\n",
    "        x = data[\"x-axis\"][start:end]\n",
    "        y = data[\"y-axis\"][start:end]\n",
    "        z = data[\"z-axis\"][start:end]\n",
    "        # if(len(dataset[\"timestamp\"][start:end]) == window_size and len(y)==window_size and len(x)==window_size and len(z)==window_size):\n",
    "        segments = np.vstack([segments,np.dstack([x,y,z])])\n",
    "        labels = np.append(labels,stats.mode(data[\"activity\"][start:end])[0][0])\n",
    "        start+=int(window_size/2)\n",
    "    return {'input' : np.asarray(segments), 'label': labels}"
   ]
  },
  {
   "cell_type": "code",
   "execution_count": 18,
   "metadata": {},
   "outputs": [],
   "source": [
    "#SEGMENT DATA, LABELS INTO WINDOW_SIZE\n",
    "window_size=128"
   ]
  },
  {
   "cell_type": "markdown",
   "metadata": {},
   "source": [
    "### save the data in h5 format\n"
   ]
  },
  {
   "cell_type": "code",
   "execution_count": 20,
   "metadata": {},
   "outputs": [],
   "source": [
    "def save_data(data,file_name): \n",
    "    f = h5py.File(file_name,'w')\n",
    "    for key in data:\n",
    "        print(key)\n",
    "        f.create_dataset(key,data = data[key])       \n",
    "    f.close()\n",
    "    print('Done.')    "
   ]
  },
  {
   "cell_type": "markdown",
   "metadata": {},
   "source": [
    "### sample the whole data first, then segmented & saved:"
   ]
  },
  {
   "cell_type": "code",
   "execution_count": 21,
   "metadata": {},
   "outputs": [],
   "source": [
    "#data sampled\n",
    "X_sampled,y_sampled=class_balance(X,y)"
   ]
  },
  {
   "cell_type": "code",
   "execution_count": 22,
   "metadata": {},
   "outputs": [],
   "source": [
    "data_sampled=pd.concat([pd.DataFrame(X_sampled),pd.DataFrame(y_sampled,columns = ['activity'])],axis=1)"
   ]
  },
  {
   "cell_type": "code",
   "execution_count": 23,
   "metadata": {},
   "outputs": [
    {
     "name": "stdout",
     "output_type": "stream",
     "text": [
      "Class=1, total=424397, percentage=16.667\n",
      "Class=2, total=424397, percentage=16.667\n",
      "Class=3, total=424397, percentage=16.667\n",
      "Class=4, total=424397, percentage=16.667\n",
      "Class=5, total=424397, percentage=16.667\n",
      "Class=6, total=424397, percentage=16.667\n"
     ]
    }
   ],
   "source": [
    "class_breakdown(data_sampled,'activity')"
   ]
  },
  {
   "cell_type": "code",
   "execution_count": 24,
   "metadata": {},
   "outputs": [],
   "source": [
    "# data segmented\n",
    "data_segmented=segment_signal(data_sampled,window_size)"
   ]
  },
  {
   "cell_type": "code",
   "execution_count": 25,
   "metadata": {},
   "outputs": [
    {
     "name": "stdout",
     "output_type": "stream",
     "text": [
      "input\n",
      "label\n",
      "Done.\n"
     ]
    }
   ],
   "source": [
    "file=\"wisdm_sampled_segmented.h5\"\n",
    "save_data(data_segmented,file)"
   ]
  }
 ],
 "metadata": {
  "interpreter": {
   "hash": "b88909b7410d2ec5c519e3dda149c3970124874d7da8616ec07adb4aadd07c54"
  },
  "kernelspec": {
   "display_name": "Python 3.8.11 64-bit ('dLenv': conda)",
   "name": "python3"
  },
  "language_info": {
   "codemirror_mode": {
    "name": "ipython",
    "version": 3
   },
   "file_extension": ".py",
   "mimetype": "text/x-python",
   "name": "python",
   "nbconvert_exporter": "python",
   "pygments_lexer": "ipython3",
   "version": "3.8.12"
  },
  "orig_nbformat": 4
 },
 "nbformat": 4,
 "nbformat_minor": 2
}
