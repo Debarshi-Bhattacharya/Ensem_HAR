{
 "cells": [
  {
   "cell_type": "code",
   "execution_count": 1,
   "id": "e8ead99e",
   "metadata": {},
   "outputs": [],
   "source": [
    "import sys\n",
    "# from keras.models import Model\n",
    "import pandas as pd\n",
    "import numpy as np\n",
    "import matplotlib.pyplot as plt\n",
    "from scipy import stats\n",
    "import tensorflow as tf\n",
    "from sklearn import metrics\n",
    "import h5py\n",
    "import matplotlib.pyplot as plt\n",
    "from sklearn.model_selection import train_test_split\n",
    "from sklearn.metrics import confusion_matrix\n",
    "from tensorflow.keras.utils import to_categorical"
   ]
  },
  {
   "cell_type": "code",
   "execution_count": 2,
   "id": "8e6e63dd",
   "metadata": {},
   "outputs": [],
   "source": [
    "path=\"wisdm_sampled_segmented.h5\"\n"
   ]
  },
  {
   "cell_type": "code",
   "execution_count": 3,
   "id": "1bb6f3a9",
   "metadata": {},
   "outputs": [],
   "source": [
    "f = h5py.File(path, 'r')\n",
    "X = f.get('input')\n",
    "y = f.get('label') \n",
    "X = np.array(X)\n",
    "y = np.array(y)"
   ]
  },
  {
   "cell_type": "code",
   "execution_count": 4,
   "id": "f57c945b",
   "metadata": {},
   "outputs": [],
   "source": [
    "X_train, X_test, y_train, y_test=train_test_split(X, y, test_size=0.3, random_state = 1)"
   ]
  },
  {
   "cell_type": "code",
   "execution_count": 5,
   "id": "a71d3e2c",
   "metadata": {},
   "outputs": [],
   "source": [
    "X_train, X_val, y_train, y_val=train_test_split(X_train, y_train, test_size=0.3, random_state = 1)"
   ]
  },
  {
   "cell_type": "code",
   "execution_count": 6,
   "id": "ae2857d7",
   "metadata": {},
   "outputs": [],
   "source": [
    "trainy_one_hot = to_categorical(y_train)\n",
    "testy_one_hot = to_categorical(y_test)\n"
   ]
  },
  {
   "cell_type": "code",
   "execution_count": 7,
   "id": "70b11dd2",
   "metadata": {},
   "outputs": [
    {
     "data": {
      "text/plain": [
       "((19495, 128, 3), (11936, 128, 3))"
      ]
     },
     "execution_count": 7,
     "metadata": {},
     "output_type": "execute_result"
    }
   ],
   "source": [
    "X_train.shape, X_test.shape"
   ]
  },
  {
   "cell_type": "code",
   "execution_count": 8,
   "id": "dcf981be",
   "metadata": {},
   "outputs": [
    {
     "data": {
      "text/plain": [
       "((19495,), (11936,))"
      ]
     },
     "execution_count": 8,
     "metadata": {},
     "output_type": "execute_result"
    }
   ],
   "source": [
    "y_train.shape, y_test.shape"
   ]
  },
  {
   "cell_type": "code",
   "execution_count": 9,
   "id": "78d57034",
   "metadata": {},
   "outputs": [
    {
     "data": {
      "text/plain": [
       "((19495, 6), (11936, 6))"
      ]
     },
     "execution_count": 9,
     "metadata": {},
     "output_type": "execute_result"
    }
   ],
   "source": [
    "trainy_one_hot.shape, testy_one_hot.shape"
   ]
  },
  {
   "cell_type": "code",
   "execution_count": 10,
   "id": "ee2e7f83",
   "metadata": {},
   "outputs": [
    {
     "data": {
      "text/plain": [
       "array([[0., 0., 0., 0., 1., 0.],\n",
       "       [0., 0., 0., 1., 0., 0.],\n",
       "       [0., 0., 1., 0., 0., 0.],\n",
       "       ...,\n",
       "       [0., 1., 0., 0., 0., 0.],\n",
       "       [0., 0., 1., 0., 0., 0.],\n",
       "       [0., 0., 0., 0., 1., 0.]], dtype=float32)"
      ]
     },
     "execution_count": 10,
     "metadata": {},
     "output_type": "execute_result"
    }
   ],
   "source": [
    "testy_one_hot"
   ]
  },
  {
   "cell_type": "code",
   "execution_count": 11,
   "id": "562b4745",
   "metadata": {},
   "outputs": [],
   "source": [
    "def class_breakdown(data):\n",
    "    # convert the numpy array into a dataframe\n",
    "    df = pd.DataFrame(data)\n",
    "    # group data by the class value and calculate the number of rows\n",
    "    counts = df.groupby(0).size()\n",
    "    # retrieve raw rows\n",
    "    counts = counts.values\n",
    "    # summarize\n",
    "    for i in range(len(counts)):\n",
    "        percent = counts[i] / len(df) * 100\n",
    "        print('Class=%d, total=%d, percentage=%.3f' % (i+1, counts[i], percent))"
   ]
  },
  {
   "cell_type": "code",
   "execution_count": 12,
   "id": "68e902b9",
   "metadata": {},
   "outputs": [
    {
     "name": "stdout",
     "output_type": "stream",
     "text": [
      "Class=1, total=3202, percentage=16.425\n",
      "Class=2, total=3256, percentage=16.702\n",
      "Class=3, total=3191, percentage=16.368\n",
      "Class=4, total=3258, percentage=16.712\n",
      "Class=5, total=3290, percentage=16.876\n",
      "Class=6, total=3298, percentage=16.917\n"
     ]
    }
   ],
   "source": [
    "class_breakdown(y_train)"
   ]
  },
  {
   "cell_type": "code",
   "execution_count": 13,
   "id": "bce68f9f",
   "metadata": {},
   "outputs": [
    {
     "name": "stdout",
     "output_type": "stream",
     "text": [
      "Class=1, total=1962, percentage=16.438\n",
      "Class=2, total=2004, percentage=16.790\n",
      "Class=3, total=2063, percentage=17.284\n",
      "Class=4, total=1978, percentage=16.572\n",
      "Class=5, total=1955, percentage=16.379\n",
      "Class=6, total=1974, percentage=16.538\n"
     ]
    }
   ],
   "source": [
    "class_breakdown(y_test)"
   ]
  },
  {
   "cell_type": "code",
   "execution_count": 14,
   "id": "2b38eb81",
   "metadata": {},
   "outputs": [],
   "source": [
    "n_timesteps, n_features, n_outputs = X_train.shape[1], X_train.shape[2], trainy_one_hot.shape[1]"
   ]
  },
  {
   "cell_type": "code",
   "execution_count": 15,
   "id": "d822581a",
   "metadata": {},
   "outputs": [
    {
     "data": {
      "text/plain": [
       "(128, 3, 6)"
      ]
     },
     "execution_count": 15,
     "metadata": {},
     "output_type": "execute_result"
    }
   ],
   "source": [
    "n_timesteps, n_features, n_outputs"
   ]
  },
  {
   "cell_type": "code",
   "execution_count": 16,
   "id": "2bdab538",
   "metadata": {},
   "outputs": [],
   "source": [
    "sys.path.append(\"..//Base_Models\")"
   ]
  },
  {
   "cell_type": "code",
   "execution_count": 17,
   "id": "1feca4cb",
   "metadata": {},
   "outputs": [],
   "source": [
    "import seaborn as sns\n",
    "from sklearn.metrics import accuracy_score as acc\n",
    "from sklearn.metrics import confusion_matrix,classification_report"
   ]
  },
  {
   "cell_type": "code",
   "execution_count": 18,
   "id": "2710ff9f",
   "metadata": {},
   "outputs": [],
   "source": [
    "from model1 import cnn"
   ]
  },
  {
   "cell_type": "code",
   "execution_count": 19,
   "id": "73955d44",
   "metadata": {},
   "outputs": [],
   "source": [
    "m1=cnn(n_timesteps, n_features, n_outputs)"
   ]
  },
  {
   "cell_type": "code",
   "execution_count": 20,
   "id": "cd8800b1",
   "metadata": {},
   "outputs": [
    {
     "name": "stdout",
     "output_type": "stream",
     "text": [
      "Epoch 1/30\n",
      "153/153 [==============================] - 48s 257ms/step - loss: 0.8265 - accuracy: 0.7836 - val_loss: 0.2573 - val_accuracy: 0.9030\n",
      "Epoch 2/30\n",
      "153/153 [==============================] - 31s 204ms/step - loss: 0.2051 - accuracy: 0.9220 - val_loss: 0.1822 - val_accuracy: 0.9300\n",
      "Epoch 3/30\n",
      "153/153 [==============================] - 25s 162ms/step - loss: 0.1367 - accuracy: 0.9462 - val_loss: 0.1280 - val_accuracy: 0.9527\n",
      "Epoch 4/30\n",
      "153/153 [==============================] - 30s 196ms/step - loss: 0.1007 - accuracy: 0.9625 - val_loss: 0.1644 - val_accuracy: 0.9357\n",
      "Epoch 5/30\n",
      "153/153 [==============================] - 28s 182ms/step - loss: 0.0812 - accuracy: 0.9699 - val_loss: 0.1537 - val_accuracy: 0.9450\n",
      "Epoch 6/30\n",
      "153/153 [==============================] - 38s 252ms/step - loss: 0.0658 - accuracy: 0.9749 - val_loss: 0.1301 - val_accuracy: 0.9518\n",
      "Epoch 7/30\n",
      "153/153 [==============================] - 31s 206ms/step - loss: 0.0456 - accuracy: 0.9828 - val_loss: 0.0962 - val_accuracy: 0.9641\n",
      "Epoch 8/30\n",
      "153/153 [==============================] - 27s 174ms/step - loss: 0.0325 - accuracy: 0.9890 - val_loss: 0.0972 - val_accuracy: 0.9677\n",
      "Epoch 9/30\n",
      "153/153 [==============================] - 30s 193ms/step - loss: 0.0570 - accuracy: 0.9812 - val_loss: 0.0977 - val_accuracy: 0.9655\n",
      "Epoch 10/30\n",
      "153/153 [==============================] - 26s 169ms/step - loss: 0.0171 - accuracy: 0.9946 - val_loss: 0.1092 - val_accuracy: 0.9682\n",
      "Epoch 11/30\n",
      "153/153 [==============================] - 30s 197ms/step - loss: 0.0079 - accuracy: 0.9983 - val_loss: 0.0960 - val_accuracy: 0.9716\n",
      "Epoch 12/30\n",
      "153/153 [==============================] - 29s 187ms/step - loss: 0.0046 - accuracy: 0.9989 - val_loss: 0.1098 - val_accuracy: 0.9698\n",
      "Epoch 13/30\n",
      "153/153 [==============================] - 30s 196ms/step - loss: 0.0112 - accuracy: 0.9971 - val_loss: 0.1267 - val_accuracy: 0.9674\n",
      "Epoch 14/30\n",
      "153/153 [==============================] - 29s 187ms/step - loss: 0.0451 - accuracy: 0.9844 - val_loss: 0.1190 - val_accuracy: 0.9664\n",
      "Epoch 15/30\n",
      "153/153 [==============================] - 28s 181ms/step - loss: 0.0352 - accuracy: 0.9870 - val_loss: 0.1032 - val_accuracy: 0.9707\n",
      "Epoch 16/30\n",
      "153/153 [==============================] - 39s 259ms/step - loss: 0.0070 - accuracy: 0.9979 - val_loss: 0.1078 - val_accuracy: 0.9709\n",
      "Epoch 17/30\n",
      "153/153 [==============================] - 32s 209ms/step - loss: 0.0126 - accuracy: 0.9959 - val_loss: 0.1129 - val_accuracy: 0.9717\n",
      "Epoch 18/30\n",
      "153/153 [==============================] - 28s 182ms/step - loss: 0.0190 - accuracy: 0.9939 - val_loss: 0.1786 - val_accuracy: 0.9543\n",
      "Epoch 19/30\n",
      "153/153 [==============================] - 31s 203ms/step - loss: 0.0284 - accuracy: 0.9903 - val_loss: 0.0972 - val_accuracy: 0.9693\n",
      "Epoch 20/30\n",
      "153/153 [==============================] - 26s 170ms/step - loss: 0.0162 - accuracy: 0.9940 - val_loss: 0.0990 - val_accuracy: 0.9722\n",
      "Epoch 21/30\n",
      "153/153 [==============================] - 33s 217ms/step - loss: 0.0054 - accuracy: 0.9982 - val_loss: 0.1151 - val_accuracy: 0.9717\n",
      "Epoch 22/30\n",
      "153/153 [==============================] - 27s 178ms/step - loss: 0.0066 - accuracy: 0.9982 - val_loss: 0.1451 - val_accuracy: 0.9702\n",
      "Epoch 23/30\n",
      "153/153 [==============================] - 30s 196ms/step - loss: 0.0296 - accuracy: 0.9902 - val_loss: 0.1485 - val_accuracy: 0.9626\n",
      "Epoch 24/30\n",
      "153/153 [==============================] - 31s 201ms/step - loss: 0.0179 - accuracy: 0.9937 - val_loss: 0.1158 - val_accuracy: 0.9697\n",
      "Epoch 25/30\n",
      "153/153 [==============================] - 28s 183ms/step - loss: 0.0127 - accuracy: 0.9965 - val_loss: 0.1103 - val_accuracy: 0.9731\n",
      "Epoch 26/30\n",
      "153/153 [==============================] - 31s 206ms/step - loss: 0.0042 - accuracy: 0.9989 - val_loss: 0.1195 - val_accuracy: 0.9739\n",
      "Epoch 27/30\n",
      "153/153 [==============================] - 27s 178ms/step - loss: 0.0064 - accuracy: 0.9979 - val_loss: 0.1277 - val_accuracy: 0.9708\n",
      "Epoch 28/30\n",
      "153/153 [==============================] - 33s 214ms/step - loss: 0.0170 - accuracy: 0.9946 - val_loss: 0.1314 - val_accuracy: 0.9690\n",
      "Epoch 29/30\n",
      "153/153 [==============================] - 29s 193ms/step - loss: 0.0161 - accuracy: 0.9954 - val_loss: 0.1185 - val_accuracy: 0.9703\n",
      "Epoch 30/30\n",
      "153/153 [==============================] - 27s 177ms/step - loss: 0.0250 - accuracy: 0.9916 - val_loss: 0.1435 - val_accuracy: 0.9662\n",
      "Model: \"model\"\n",
      "__________________________________________________________________________________________________\n",
      " Layer (type)                   Output Shape         Param #     Connected to                     \n",
      "==================================================================================================\n",
      " input_1 (InputLayer)           [(None, 128, 3)]     0           []                               \n",
      "                                                                                                  \n",
      " input_2 (InputLayer)           [(None, 128, 3)]     0           []                               \n",
      "                                                                                                  \n",
      " input_3 (InputLayer)           [(None, 128, 3)]     0           []                               \n",
      "                                                                                                  \n",
      " input_4 (InputLayer)           [(None, 128, 3)]     0           []                               \n",
      "                                                                                                  \n",
      " conv1d (Conv1D)                (None, 126, 128)     1280        ['input_1[0][0]']                \n",
      "                                                                                                  \n",
      " conv1d_1 (Conv1D)              (None, 124, 128)     2048        ['input_2[0][0]']                \n",
      "                                                                                                  \n",
      " conv1d_2 (Conv1D)              (None, 122, 128)     2816        ['input_3[0][0]']                \n",
      "                                                                                                  \n",
      " conv1d_3 (Conv1D)              (None, 120, 128)     3584        ['input_4[0][0]']                \n",
      "                                                                                                  \n",
      " concatenate (Concatenate)      (None, 492, 128)     0           ['conv1d[0][0]',                 \n",
      "                                                                  'conv1d_1[0][0]',               \n",
      "                                                                  'conv1d_2[0][0]',               \n",
      "                                                                  'conv1d_3[0][0]']               \n",
      "                                                                                                  \n",
      " max_pooling1d (MaxPooling1D)   (None, 98, 128)      0           ['concatenate[0][0]']            \n",
      "                                                                                                  \n",
      " conv1d_4 (Conv1D)              (None, 96, 64)       24640       ['max_pooling1d[0][0]']          \n",
      "                                                                                                  \n",
      " conv1d_5 (Conv1D)              (None, 94, 64)       41024       ['max_pooling1d[0][0]']          \n",
      "                                                                                                  \n",
      " conv1d_6 (Conv1D)              (None, 92, 64)       57408       ['max_pooling1d[0][0]']          \n",
      "                                                                                                  \n",
      " conv1d_7 (Conv1D)              (None, 90, 64)       73792       ['max_pooling1d[0][0]']          \n",
      "                                                                                                  \n",
      " concatenate_1 (Concatenate)    (None, 372, 64)      0           ['conv1d_4[0][0]',               \n",
      "                                                                  'conv1d_5[0][0]',               \n",
      "                                                                  'conv1d_6[0][0]',               \n",
      "                                                                  'conv1d_7[0][0]']               \n",
      "                                                                                                  \n",
      " max_pooling1d_1 (MaxPooling1D)  (None, 74, 64)      0           ['concatenate_1[0][0]']          \n",
      "                                                                                                  \n",
      " conv1d_8 (Conv1D)              (None, 72, 32)       6176        ['max_pooling1d_1[0][0]']        \n",
      "                                                                                                  \n",
      " conv1d_9 (Conv1D)              (None, 70, 32)       10272       ['max_pooling1d_1[0][0]']        \n",
      "                                                                                                  \n",
      " conv1d_10 (Conv1D)             (None, 68, 32)       14368       ['max_pooling1d_1[0][0]']        \n",
      "                                                                                                  \n",
      " conv1d_11 (Conv1D)             (None, 66, 32)       18464       ['max_pooling1d_1[0][0]']        \n",
      "                                                                                                  \n",
      " concatenate_2 (Concatenate)    (None, 276, 32)      0           ['conv1d_8[0][0]',               \n",
      "                                                                  'conv1d_9[0][0]',               \n",
      "                                                                  'conv1d_10[0][0]',              \n",
      "                                                                  'conv1d_11[0][0]']              \n",
      "                                                                                                  \n",
      " max_pooling1d_2 (MaxPooling1D)  (None, 55, 32)      0           ['concatenate_2[0][0]']          \n",
      "                                                                                                  \n",
      " flatten (Flatten)              (None, 1760)         0           ['max_pooling1d_2[0][0]']        \n",
      "                                                                                                  \n",
      " dense (Dense)                  (None, 512)          901632      ['flatten[0][0]']                \n",
      "                                                                                                  \n",
      " dense_1 (Dense)                (None, 6)            3078        ['dense[0][0]']                  \n",
      "                                                                                                  \n",
      "==================================================================================================\n",
      "Total params: 1,160,582\n",
      "Trainable params: 1,160,582\n",
      "Non-trainable params: 0\n",
      "__________________________________________________________________________________________________\n"
     ]
    }
   ],
   "source": [
    "model1=m1.do_compile(X_train, X_test,trainy_one_hot,testy_one_hot,128)"
   ]
  },
  {
   "cell_type": "code",
   "execution_count": 30,
   "id": "74208ef9",
   "metadata": {
    "scrolled": false
   },
   "outputs": [
    {
     "name": "stdout",
     "output_type": "stream",
     "text": [
      "[[1937    2    5    6    0    0]\n",
      " [   3 1624    2    3    0    0]\n",
      " [   2    6  578   19    1    0]\n",
      " [   2    1   25  421    0    1]\n",
      " [   0    0    0    1  275    0]\n",
      " [   0    0    1    0    3  230]]\n",
      "0.9838772338772339\n",
      "classification_report of model1:\n",
      "              precision    recall  f1-score   support\n",
      "\n",
      "         0.0       1.00      0.99      0.99      1950\n",
      "         1.0       0.99      1.00      0.99      1632\n",
      "         2.0       0.95      0.95      0.95       606\n",
      "         3.0       0.94      0.94      0.94       450\n",
      "         4.0       0.99      1.00      0.99       276\n",
      "         5.0       1.00      0.98      0.99       234\n",
      "\n",
      "    accuracy                           0.98      5148\n",
      "   macro avg       0.98      0.98      0.98      5148\n",
      "weighted avg       0.98      0.98      0.98      5148\n",
      "\n"
     ]
    },
    {
     "data": {
      "text/plain": [
       "<AxesSubplot:>"
      ]
     },
     "execution_count": 30,
     "metadata": {},
     "output_type": "execute_result"
    }
   ],
   "source": [
    "predy=m1.prediction(X_test)\n",
    "cm=confusion_matrix(y_test,predy)\n",
    "print(cm)\n",
    "print(acc(y_test,predy))\n",
    "print(\"classification_report of model1:\")\n",
    "print(classification_report(y_test,predy))\n",
    "sns.heatmap(cm, annot=True)"
   ]
  },
  {
   "cell_type": "code",
   "execution_count": 38,
   "id": "280ca572",
   "metadata": {},
   "outputs": [],
   "source": [
    "model1.save(\"Models_h5//model1.h5\")"
   ]
  },
  {
   "cell_type": "code",
   "execution_count": 22,
   "id": "f763dd2a",
   "metadata": {},
   "outputs": [],
   "source": [
    "from model2 import cnn_lstm"
   ]
  },
  {
   "cell_type": "code",
   "execution_count": 23,
   "id": "988cb847",
   "metadata": {},
   "outputs": [],
   "source": [
    "m2=cnn_lstm(n_timesteps, n_features, n_outputs)"
   ]
  },
  {
   "cell_type": "code",
   "execution_count": 24,
   "id": "fe7bd518",
   "metadata": {},
   "outputs": [
    {
     "name": "stdout",
     "output_type": "stream",
     "text": [
      "Epoch 1/30\n",
      "305/305 [==============================] - 49s 137ms/step - loss: 0.5443 - accuracy: 0.8076 - val_loss: 0.2428 - val_accuracy: 0.9170\n",
      "Epoch 2/30\n",
      "305/305 [==============================] - 36s 118ms/step - loss: 0.2087 - accuracy: 0.9219 - val_loss: 0.1495 - val_accuracy: 0.9411\n",
      "Epoch 3/30\n",
      "305/305 [==============================] - 54s 176ms/step - loss: 0.1510 - accuracy: 0.9443 - val_loss: 0.1176 - val_accuracy: 0.9548\n",
      "Epoch 4/30\n",
      "305/305 [==============================] - 36s 117ms/step - loss: 0.1113 - accuracy: 0.9599 - val_loss: 0.1171 - val_accuracy: 0.9533\n",
      "Epoch 5/30\n",
      "305/305 [==============================] - 41s 136ms/step - loss: 0.1021 - accuracy: 0.9631 - val_loss: 0.0986 - val_accuracy: 0.9653\n",
      "Epoch 6/30\n",
      "305/305 [==============================] - 47s 154ms/step - loss: 0.0847 - accuracy: 0.9705 - val_loss: 0.0901 - val_accuracy: 0.9700\n",
      "Epoch 7/30\n",
      "305/305 [==============================] - 43s 142ms/step - loss: 0.0756 - accuracy: 0.9733 - val_loss: 0.0816 - val_accuracy: 0.9704\n",
      "Epoch 8/30\n",
      "305/305 [==============================] - 35s 116ms/step - loss: 0.0640 - accuracy: 0.9779 - val_loss: 0.0926 - val_accuracy: 0.9675\n",
      "Epoch 9/30\n",
      "305/305 [==============================] - 36s 117ms/step - loss: 0.0505 - accuracy: 0.9838 - val_loss: 0.0948 - val_accuracy: 0.9720\n",
      "Epoch 10/30\n",
      "305/305 [==============================] - 35s 115ms/step - loss: 0.0606 - accuracy: 0.9797 - val_loss: 0.1073 - val_accuracy: 0.9665\n",
      "Epoch 11/30\n",
      "305/305 [==============================] - 36s 119ms/step - loss: 0.0443 - accuracy: 0.9849 - val_loss: 0.0886 - val_accuracy: 0.9733\n",
      "Epoch 12/30\n",
      "305/305 [==============================] - 42s 138ms/step - loss: 0.0357 - accuracy: 0.9876 - val_loss: 0.2337 - val_accuracy: 0.9357\n",
      "Epoch 13/30\n",
      "305/305 [==============================] - 37s 121ms/step - loss: 0.0407 - accuracy: 0.9879 - val_loss: 0.1011 - val_accuracy: 0.9734\n",
      "Epoch 14/30\n",
      "305/305 [==============================] - 30s 99ms/step - loss: 0.0341 - accuracy: 0.9894 - val_loss: 0.1130 - val_accuracy: 0.9677\n",
      "Epoch 15/30\n",
      "305/305 [==============================] - 30s 100ms/step - loss: 0.0431 - accuracy: 0.9872 - val_loss: 0.0986 - val_accuracy: 0.9708\n",
      "Epoch 16/30\n",
      "305/305 [==============================] - 30s 99ms/step - loss: 0.0362 - accuracy: 0.9879 - val_loss: 0.1224 - val_accuracy: 0.9662\n",
      "Epoch 17/30\n",
      "305/305 [==============================] - 30s 99ms/step - loss: 0.0330 - accuracy: 0.9887 - val_loss: 0.0904 - val_accuracy: 0.9749\n",
      "Epoch 18/30\n",
      "305/305 [==============================] - 30s 100ms/step - loss: 0.0169 - accuracy: 0.9943 - val_loss: 0.1083 - val_accuracy: 0.9751\n",
      "Epoch 19/30\n",
      "305/305 [==============================] - 30s 99ms/step - loss: 0.0477 - accuracy: 0.9868 - val_loss: 0.1213 - val_accuracy: 0.9672\n",
      "Epoch 20/30\n",
      "305/305 [==============================] - 30s 100ms/step - loss: 0.0302 - accuracy: 0.9906 - val_loss: 0.1022 - val_accuracy: 0.9744\n",
      "Epoch 21/30\n",
      "305/305 [==============================] - 30s 99ms/step - loss: 0.0274 - accuracy: 0.9916 - val_loss: 0.1302 - val_accuracy: 0.9695\n",
      "Epoch 22/30\n",
      "305/305 [==============================] - 31s 101ms/step - loss: 0.0208 - accuracy: 0.9939 - val_loss: 0.1232 - val_accuracy: 0.9733\n",
      "Epoch 23/30\n",
      "305/305 [==============================] - 30s 99ms/step - loss: 0.0298 - accuracy: 0.9908 - val_loss: 0.1394 - val_accuracy: 0.9699\n",
      "Epoch 24/30\n",
      "305/305 [==============================] - 31s 101ms/step - loss: 0.0286 - accuracy: 0.9910 - val_loss: 0.1176 - val_accuracy: 0.9749\n",
      "Epoch 25/30\n",
      "305/305 [==============================] - 31s 100ms/step - loss: 0.0259 - accuracy: 0.9917 - val_loss: 0.1067 - val_accuracy: 0.9759\n",
      "Epoch 26/30\n",
      "305/305 [==============================] - 31s 101ms/step - loss: 0.0184 - accuracy: 0.9937 - val_loss: 0.1084 - val_accuracy: 0.9758\n",
      "Epoch 27/30\n",
      "305/305 [==============================] - 30s 100ms/step - loss: 0.0305 - accuracy: 0.9913 - val_loss: 0.1483 - val_accuracy: 0.9722\n",
      "Epoch 28/30\n",
      "305/305 [==============================] - 31s 101ms/step - loss: 0.0290 - accuracy: 0.9916 - val_loss: 0.1634 - val_accuracy: 0.9621\n",
      "Epoch 29/30\n",
      "305/305 [==============================] - 36s 119ms/step - loss: 0.0329 - accuracy: 0.9914 - val_loss: 0.1839 - val_accuracy: 0.9640\n",
      "Epoch 30/30\n",
      "305/305 [==============================] - 49s 160ms/step - loss: 0.0318 - accuracy: 0.9907 - val_loss: 0.1016 - val_accuracy: 0.9784\n"
     ]
    }
   ],
   "source": [
    "model2=m2.do_compile(X_train,X_test,trainy_one_hot,testy_one_hot)"
   ]
  },
  {
   "cell_type": "code",
   "execution_count": 25,
   "id": "5e06d4c3",
   "metadata": {
    "scrolled": true
   },
   "outputs": [
    {
     "name": "stdout",
     "output_type": "stream",
     "text": [
      "[[1955    3    2    2    0    0]\n",
      " [   4 1987    7    6    0    0]\n",
      " [   7    4 1943  106    3    0]\n",
      " [   9    0   97 1870    2    0]\n",
      " [   0    0    1    0 1951    3]\n",
      " [   0    0    0    0    2 1972]]\n",
      "0.9783847184986595\n",
      "classification_report of model2:\n",
      "              precision    recall  f1-score   support\n",
      "\n",
      "         0.0       0.99      1.00      0.99      1962\n",
      "         1.0       1.00      0.99      0.99      2004\n",
      "         2.0       0.95      0.94      0.94      2063\n",
      "         3.0       0.94      0.95      0.94      1978\n",
      "         4.0       1.00      1.00      1.00      1955\n",
      "         5.0       1.00      1.00      1.00      1974\n",
      "\n",
      "    accuracy                           0.98     11936\n",
      "   macro avg       0.98      0.98      0.98     11936\n",
      "weighted avg       0.98      0.98      0.98     11936\n",
      "\n"
     ]
    },
    {
     "data": {
      "text/plain": [
       "<AxesSubplot:>"
      ]
     },
     "execution_count": 25,
     "metadata": {},
     "output_type": "execute_result"
    },
    {
     "data": {
      "image/png": "[encoded data removed]",
      "text/plain": [
       "<Figure size 432x288 with 2 Axes>"
      ]
     },
     "metadata": {
      "needs_background": "light"
     },
     "output_type": "display_data"
    }
   ],
   "source": [
    "predy=m2.prediction(X_test)\n",
    "cm=confusion_matrix(y_test,predy)\n",
    "print(cm)\n",
    "print(acc(y_test,predy))\n",
    "print(\"classification_report of model2:\")\n",
    "print(classification_report(y_test,predy))\n",
    "sns.heatmap(cm, annot=True)"
   ]
  },
  {
   "cell_type": "code",
   "execution_count": 26,
   "id": "714e0624",
   "metadata": {},
   "outputs": [],
   "source": [
    "model2.save(\"Models_h5//model2.h5\")"
   ]
  },
  {
   "cell_type": "code",
   "execution_count": 32,
   "id": "83c3b3f7",
   "metadata": {},
   "outputs": [],
   "source": [
    "from model3 import Conv_LSTM"
   ]
  },
  {
   "cell_type": "code",
   "execution_count": 33,
   "id": "7f1d2560",
   "metadata": {},
   "outputs": [],
   "source": [
    "m3=Conv_LSTM(n_timesteps, n_features, n_outputs)"
   ]
  },
  {
   "cell_type": "code",
   "execution_count": 35,
   "id": "9d0c747e",
   "metadata": {},
   "outputs": [
    {
     "name": "stdout",
     "output_type": "stream",
     "text": [
      "Trial 10 Complete [00h 02m 38s]\n",
      "val_accuracy: 0.9567694664001465\n",
      "\n",
      "Best val_accuracy So Far: 0.9663203954696655\n",
      "Total elapsed time: 00h 28m 23s\n",
      "INFO:tensorflow:Oracle triggered exit\n"
     ]
    },
    {
     "name": "stdout",
     "output_type": "stream",
     "text": [
      "Epoch 11/30\n",
      "610/610 [==============================] - 19s 25ms/step - loss: 0.0695 - accuracy: 0.9759 - val_loss: 0.1238 - val_accuracy: 0.9572\n",
      "Epoch 12/30\n",
      "610/610 [==============================] - 15s 25ms/step - loss: 0.0726 - accuracy: 0.9755 - val_loss: 0.0927 - val_accuracy: 0.9691\n",
      "Epoch 13/30\n",
      "610/610 [==============================] - 15s 25ms/step - loss: 0.0538 - accuracy: 0.9825 - val_loss: 0.1271 - val_accuracy: 0.9622\n",
      "Epoch 14/30\n",
      "610/610 [==============================] - 16s 26ms/step - loss: 0.0562 - accuracy: 0.9808 - val_loss: 0.0999 - val_accuracy: 0.9704\n",
      "Epoch 15/30\n",
      "610/610 [==============================] - 16s 26ms/step - loss: 0.0458 - accuracy: 0.9841 - val_loss: 0.0977 - val_accuracy: 0.9691\n",
      "Epoch 16/30\n",
      "610/610 [==============================] - 17s 28ms/step - loss: 0.0449 - accuracy: 0.9846 - val_loss: 0.1313 - val_accuracy: 0.9628\n",
      "Epoch 17/30\n",
      "610/610 [==============================] - 18s 29ms/step - loss: 0.0535 - accuracy: 0.9830 - val_loss: 0.1200 - val_accuracy: 0.9626\n",
      "Epoch 18/30\n",
      "610/610 [==============================] - 18s 29ms/step - loss: 0.0533 - accuracy: 0.9826 - val_loss: 0.0946 - val_accuracy: 0.9731\n",
      "Epoch 19/30\n",
      "610/610 [==============================] - 18s 30ms/step - loss: 0.0383 - accuracy: 0.9875 - val_loss: 0.0985 - val_accuracy: 0.9726\n",
      "Epoch 20/30\n",
      "610/610 [==============================] - 18s 30ms/step - loss: 0.0406 - accuracy: 0.9863 - val_loss: 0.1027 - val_accuracy: 0.9699\n",
      "Epoch 21/30\n",
      "610/610 [==============================] - 19s 31ms/step - loss: 0.0388 - accuracy: 0.9868 - val_loss: 0.1041 - val_accuracy: 0.9720\n",
      "Epoch 22/30\n",
      "610/610 [==============================] - 17s 28ms/step - loss: 0.0452 - accuracy: 0.9850 - val_loss: 0.0979 - val_accuracy: 0.9728\n",
      "Epoch 23/30\n",
      "610/610 [==============================] - 18s 30ms/step - loss: 0.0396 - accuracy: 0.9875 - val_loss: 0.1029 - val_accuracy: 0.9724\n",
      "Epoch 24/30\n",
      "610/610 [==============================] - 18s 29ms/step - loss: 0.0332 - accuracy: 0.9896 - val_loss: 0.1639 - val_accuracy: 0.9573\n",
      "Epoch 25/30\n",
      "610/610 [==============================] - 17s 28ms/step - loss: 0.0415 - accuracy: 0.9869 - val_loss: 0.0852 - val_accuracy: 0.9736\n",
      "Epoch 26/30\n",
      "610/610 [==============================] - 19s 31ms/step - loss: 0.0350 - accuracy: 0.9885 - val_loss: 0.0950 - val_accuracy: 0.9740\n",
      "Epoch 27/30\n",
      "610/610 [==============================] - 21s 35ms/step - loss: 0.0324 - accuracy: 0.9889 - val_loss: 0.0941 - val_accuracy: 0.9729\n",
      "Epoch 28/30\n",
      "610/610 [==============================] - 22s 36ms/step - loss: 0.0327 - accuracy: 0.9889 - val_loss: 0.0977 - val_accuracy: 0.9746\n",
      "Epoch 29/30\n",
      "610/610 [==============================] - 22s 36ms/step - loss: 0.0331 - accuracy: 0.9893 - val_loss: 0.0989 - val_accuracy: 0.9724\n",
      "Epoch 30/30\n",
      "610/610 [==============================] - 22s 37ms/step - loss: 0.0319 - accuracy: 0.9889 - val_loss: 0.0967 - val_accuracy: 0.9733\n"
     ]
    }
   ],
   "source": [
    "model3=m3.do_compile(X_train,X_test,trainy_one_hot,testy_one_hot)"
   ]
  },
  {
   "cell_type": "code",
   "execution_count": 40,
   "id": "b743b969",
   "metadata": {},
   "outputs": [
    {
     "name": "stdout",
     "output_type": "stream",
     "text": [
      "[[1935    3   11   13    0    0]\n",
      " [   1 1991   10    1    1    0]\n",
      " [   4    5 1934  115    4    1]\n",
      " [   1    2  133 1842    0    0]\n",
      " [   0    0    0    0 1947    8]\n",
      " [   0    1    2    0    3 1968]]\n",
      "0.9732741286863271\n",
      "classification_report of model3:\n",
      "              precision    recall  f1-score   support\n",
      "\n",
      "         0.0       1.00      0.99      0.99      1962\n",
      "         1.0       0.99      0.99      0.99      2004\n",
      "         2.0       0.93      0.94      0.93      2063\n",
      "         3.0       0.93      0.93      0.93      1978\n",
      "         4.0       1.00      1.00      1.00      1955\n",
      "         5.0       1.00      1.00      1.00      1974\n",
      "\n",
      "    accuracy                           0.97     11936\n",
      "   macro avg       0.97      0.97      0.97     11936\n",
      "weighted avg       0.97      0.97      0.97     11936\n",
      "\n"
     ]
    },
    {
     "data": {
      "text/plain": [
       "<AxesSubplot:>"
      ]
     },
     "execution_count": 40,
     "metadata": {},
     "output_type": "execute_result"
    },
    {
     "data": {
      "image/png": "[encoded data removed]",
      "text/plain": [
       "<Figure size 432x288 with 2 Axes>"
      ]
     },
     "metadata": {
      "needs_background": "light"
     },
     "output_type": "display_data"
    }
   ],
   "source": [
    "predy=m3.prediction(X_test)\n",
    "cm=confusion_matrix(y_test,predy)\n",
    "print(cm)\n",
    "print(acc(y_test,predy))\n",
    "print(\"classification_report of model3:\")\n",
    "print(classification_report(y_test,predy))\n",
    "sns.heatmap(cm, annot=True)"
   ]
  },
  {
   "cell_type": "code",
   "execution_count": 39,
   "id": "c6c3f5b9",
   "metadata": {},
   "outputs": [],
   "source": [
    "model3.save(\"Models_h5//model3.h5\")"
   ]
  },
  {
   "cell_type": "code",
   "execution_count": 27,
   "id": "df4c74c2",
   "metadata": {},
   "outputs": [],
   "source": [
    "from model4 import Layered_LSTM"
   ]
  },
  {
   "cell_type": "code",
   "execution_count": 28,
   "id": "bd8b64f3",
   "metadata": {},
   "outputs": [],
   "source": [
    "m4=Layered_LSTM(n_timesteps, n_features, n_outputs)"
   ]
  },
  {
   "cell_type": "code",
   "execution_count": 29,
   "id": "3ca5a77f",
   "metadata": {},
   "outputs": [
    {
     "name": "stdout",
     "output_type": "stream",
     "text": [
      "Epoch 1/30\n",
      "305/305 [==============================] - 21s 55ms/step - loss: 0.5538 - accuracy: 0.7987 - val_loss: 0.5088 - val_accuracy: 0.8022\n",
      "Epoch 2/30\n",
      "305/305 [==============================] - 15s 51ms/step - loss: 0.3490 - accuracy: 0.8768 - val_loss: 0.3138 - val_accuracy: 0.8835\n",
      "Epoch 3/30\n",
      "305/305 [==============================] - 16s 51ms/step - loss: 0.2619 - accuracy: 0.9105 - val_loss: 0.1858 - val_accuracy: 0.9354\n",
      "Epoch 4/30\n",
      "305/305 [==============================] - 16s 51ms/step - loss: 0.2240 - accuracy: 0.9230 - val_loss: 0.6917 - val_accuracy: 0.8316\n",
      "Epoch 5/30\n",
      "305/305 [==============================] - 16s 51ms/step - loss: 0.1694 - accuracy: 0.9420 - val_loss: 0.1346 - val_accuracy: 0.9502\n",
      "Epoch 6/30\n",
      "305/305 [==============================] - 16s 51ms/step - loss: 0.1484 - accuracy: 0.9491 - val_loss: 0.1444 - val_accuracy: 0.9465\n",
      "Epoch 7/30\n",
      "305/305 [==============================] - 16s 52ms/step - loss: 0.1333 - accuracy: 0.9535 - val_loss: 0.1054 - val_accuracy: 0.9633\n",
      "Epoch 8/30\n",
      "305/305 [==============================] - 16s 51ms/step - loss: 0.1143 - accuracy: 0.9603 - val_loss: 0.1004 - val_accuracy: 0.9642\n",
      "Epoch 9/30\n",
      "305/305 [==============================] - 16s 52ms/step - loss: 0.1130 - accuracy: 0.9631 - val_loss: 0.0980 - val_accuracy: 0.9651\n",
      "Epoch 10/30\n",
      "305/305 [==============================] - 16s 52ms/step - loss: 0.0970 - accuracy: 0.9681 - val_loss: 0.1622 - val_accuracy: 0.9480\n",
      "Epoch 11/30\n",
      "305/305 [==============================] - 17s 55ms/step - loss: 0.0826 - accuracy: 0.9726 - val_loss: 0.1154 - val_accuracy: 0.9626\n",
      "Epoch 12/30\n",
      "305/305 [==============================] - 16s 52ms/step - loss: 0.0758 - accuracy: 0.9753 - val_loss: 0.1720 - val_accuracy: 0.9476\n",
      "Epoch 13/30\n",
      "305/305 [==============================] - 17s 54ms/step - loss: 0.0776 - accuracy: 0.9752 - val_loss: 0.0949 - val_accuracy: 0.9705\n",
      "Epoch 14/30\n",
      "305/305 [==============================] - 16s 52ms/step - loss: 0.0676 - accuracy: 0.9780 - val_loss: 0.0804 - val_accuracy: 0.9746\n",
      "Epoch 15/30\n",
      "305/305 [==============================] - 17s 55ms/step - loss: 0.0526 - accuracy: 0.9829 - val_loss: 0.0667 - val_accuracy: 0.9799\n",
      "Epoch 16/30\n",
      "305/305 [==============================] - 16s 52ms/step - loss: 0.0556 - accuracy: 0.9834 - val_loss: 0.1095 - val_accuracy: 0.9672\n",
      "Epoch 17/30\n",
      "305/305 [==============================] - 18s 59ms/step - loss: 0.0543 - accuracy: 0.9825 - val_loss: 0.0771 - val_accuracy: 0.9776\n",
      "Epoch 18/30\n",
      "305/305 [==============================] - 16s 52ms/step - loss: 0.0517 - accuracy: 0.9832 - val_loss: 0.0655 - val_accuracy: 0.9812\n",
      "Epoch 19/30\n",
      "305/305 [==============================] - 17s 55ms/step - loss: 0.0400 - accuracy: 0.9877 - val_loss: 0.1964 - val_accuracy: 0.9481\n",
      "Epoch 20/30\n",
      "305/305 [==============================] - 16s 52ms/step - loss: 0.0475 - accuracy: 0.9845 - val_loss: 0.0810 - val_accuracy: 0.9779\n",
      "Epoch 21/30\n",
      "305/305 [==============================] - 17s 55ms/step - loss: 0.0362 - accuracy: 0.9886 - val_loss: 0.0634 - val_accuracy: 0.9830\n",
      "Epoch 22/30\n",
      "305/305 [==============================] - 16s 53ms/step - loss: 0.0400 - accuracy: 0.9877 - val_loss: 0.0710 - val_accuracy: 0.9821\n",
      "Epoch 23/30\n",
      "305/305 [==============================] - 17s 55ms/step - loss: 0.0323 - accuracy: 0.9900 - val_loss: 0.0707 - val_accuracy: 0.9818\n",
      "Epoch 24/30\n",
      "305/305 [==============================] - 16s 52ms/step - loss: 0.0297 - accuracy: 0.9907 - val_loss: 0.0836 - val_accuracy: 0.9755\n",
      "Epoch 25/30\n",
      "305/305 [==============================] - 16s 54ms/step - loss: 0.0297 - accuracy: 0.9904 - val_loss: 0.0801 - val_accuracy: 0.9770\n",
      "Epoch 26/30\n",
      "305/305 [==============================] - 16s 53ms/step - loss: 0.0264 - accuracy: 0.9909 - val_loss: 0.0580 - val_accuracy: 0.9864\n",
      "Epoch 27/30\n",
      "305/305 [==============================] - 16s 53ms/step - loss: 0.0278 - accuracy: 0.9917 - val_loss: 0.0628 - val_accuracy: 0.9850\n",
      "Epoch 28/30\n",
      "305/305 [==============================] - 16s 54ms/step - loss: 0.0204 - accuracy: 0.9937 - val_loss: 0.0609 - val_accuracy: 0.9859\n",
      "Epoch 29/30\n",
      "305/305 [==============================] - 17s 57ms/step - loss: 0.0208 - accuracy: 0.9940 - val_loss: 0.0806 - val_accuracy: 0.9811\n",
      "Epoch 30/30\n",
      "305/305 [==============================] - 16s 53ms/step - loss: 0.0183 - accuracy: 0.9936 - val_loss: 0.0693 - val_accuracy: 0.9861\n"
     ]
    }
   ],
   "source": [
    "model4=m4.do_compile(X_train,X_test,trainy_one_hot,testy_one_hot)"
   ]
  },
  {
   "cell_type": "code",
   "execution_count": 30,
   "id": "060bb622",
   "metadata": {},
   "outputs": [
    {
     "name": "stdout",
     "output_type": "stream",
     "text": [
      "[[1944    2    8    7    1    0]\n",
      " [   1 1987    7    6    2    1]\n",
      " [   0    2 1966   94    1    0]\n",
      " [   0    0   25 1952    1    0]\n",
      " [   0    1    0    0 1950    4]\n",
      " [   0    1    1    0    1 1971]]\n",
      "0.9860924932975871\n",
      "classification_report of model4:\n",
      "              precision    recall  f1-score   support\n",
      "\n",
      "         0.0       1.00      0.99      1.00      1962\n",
      "         1.0       1.00      0.99      0.99      2004\n",
      "         2.0       0.98      0.95      0.97      2063\n",
      "         3.0       0.95      0.99      0.97      1978\n",
      "         4.0       1.00      1.00      1.00      1955\n",
      "         5.0       1.00      1.00      1.00      1974\n",
      "\n",
      "    accuracy                           0.99     11936\n",
      "   macro avg       0.99      0.99      0.99     11936\n",
      "weighted avg       0.99      0.99      0.99     11936\n",
      "\n"
     ]
    },
    {
     "data": {
      "text/plain": [
       "<AxesSubplot:>"
      ]
     },
     "execution_count": 30,
     "metadata": {},
     "output_type": "execute_result"
    },
    {
     "data": {
      "image/png": "[encoded data removed]",
      "text/plain": [
       "<Figure size 432x288 with 2 Axes>"
      ]
     },
     "metadata": {
      "needs_background": "light"
     },
     "output_type": "display_data"
    }
   ],
   "source": [
    "predy=m4.prediction(X_test)\n",
    "cm=confusion_matrix(y_test,predy)\n",
    "print(cm)\n",
    "print(acc(y_test,predy))\n",
    "print(\"classification_report of model4:\")\n",
    "print(classification_report(y_test,predy))\n",
    "sns.heatmap(cm, annot=True)"
   ]
  },
  {
   "cell_type": "code",
   "execution_count": 31,
   "id": "2741118d",
   "metadata": {},
   "outputs": [],
   "source": [
    "model4.save(\"Models_h5//model4.h5\")"
   ]
  },
  {
   "cell_type": "code",
   "execution_count": null,
   "id": "0d5dc8b5",
   "metadata": {},
   "outputs": [],
   "source": []
  }
 ],
 "metadata": {
  "interpreter": {
   "hash": "b88909b7410d2ec5c519e3dda149c3970124874d7da8616ec07adb4aadd07c54"
  },
  "kernelspec": {
   "display_name": "Python 3.8.11 64-bit ('dLenv': conda)",
   "name": "python3"
  },
  "language_info": {
   "codemirror_mode": {
    "name": "ipython",
    "version": 3
   },
   "file_extension": ".py",
   "mimetype": "text/x-python",
   "name": "python",
   "nbconvert_exporter": "python",
   "pygments_lexer": "ipython3",
   "version": "3.9.0"
  }
 },
 "nbformat": 4,
 "nbformat_minor": 5
}
