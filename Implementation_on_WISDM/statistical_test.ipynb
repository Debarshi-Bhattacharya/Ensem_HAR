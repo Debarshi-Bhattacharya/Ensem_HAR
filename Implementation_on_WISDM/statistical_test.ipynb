{
 "cells": [
  {
   "cell_type": "code",
   "execution_count": 1,
   "metadata": {},
   "outputs": [],
   "source": [
    "import pandas as pd\n",
    "import numpy as np\n",
    "from scipy import stats\n",
    "import scikit_posthocs as sp \n",
    "import stac\n",
    "import matplotlib.pyplot as plt"
   ]
  },
  {
   "cell_type": "code",
   "execution_count": 2,
   "metadata": {},
   "outputs": [],
   "source": [
    "df = pd.read_csv(\"accuracies.csv\", index_col=0)\n",
    "data = np.asarray(df)\n"
   ]
  },
  {
   "cell_type": "code",
   "execution_count": 3,
   "metadata": {},
   "outputs": [],
   "source": [
    "rankings=np.empty([10,5])\n",
    "for j in range(10):\n",
    "    row=np.ravel(data[j:j+1])\n",
    "    row_sort=np.sort(row)\n",
    "    row_sort=row_sort[::-1]\n",
    "    ranking=np.empty(5)\n",
    "    list=[]\n",
    "    count=0\n",
    "    for i in range(1,6):\n",
    "        if (row_sort[i-1] in list):\n",
    "            continue\n",
    "        list.append(row_sort[i-1])\n",
    "        k=np.where(row==row_sort[i-1])[0]\n",
    "        rank=float((count+1)+(count+len(k)))/2\n",
    "        for pos in k:\n",
    "            ranking[pos]=rank\n",
    "        count+=len(k)\n",
    "    rankings[j]=ranking\n",
    "df_ranking=pd.DataFrame(rankings,columns=['CNN-net','CNN_LSTM-net','ConvLSTM-net','Stacked_LSTM-net','Ensem-HAR'])\n",
    "#mean rank of each model for all sample datasets\n",
    "avg_ranking=[]\n",
    "for i in range(5):\n",
    "    avg=np.average(rankings[:,i]) \n",
    "    avg_ranking.append(avg)\n",
    "\n",
    "\n",
    "avg_ranking_modelwise=pd.DataFrame(avg_ranking,index =['CNN-net','CNN_LSTM-net','ConvLSTM-net','Stacked_LSTM-net','Ensem-HAR'],\n",
    "               columns =['Mean Rank'])"
   ]
  },
  {
   "cell_type": "code",
   "execution_count": 4,
   "metadata": {},
   "outputs": [
    {
     "data": {
      "text/html": [
       "<div>\n",
       "<style scoped>\n",
       "    .dataframe tbody tr th:only-of-type {\n",
       "        vertical-align: middle;\n",
       "    }\n",
       "\n",
       "    .dataframe tbody tr th {\n",
       "        vertical-align: top;\n",
       "    }\n",
       "\n",
       "    .dataframe thead th {\n",
       "        text-align: right;\n",
       "    }\n",
       "</style>\n",
       "<table border=\"1\" class=\"dataframe\">\n",
       "  <thead>\n",
       "    <tr style=\"text-align: right;\">\n",
       "      <th></th>\n",
       "      <th>CNN-net</th>\n",
       "      <th>CNN_LSTM-net</th>\n",
       "      <th>ConvLSTM-net</th>\n",
       "      <th>Stacked_LSTM-net</th>\n",
       "      <th>Ensem-HAR</th>\n",
       "    </tr>\n",
       "  </thead>\n",
       "  <tbody>\n",
       "    <tr>\n",
       "      <th>0</th>\n",
       "      <td>5.0</td>\n",
       "      <td>2.5</td>\n",
       "      <td>4.0</td>\n",
       "      <td>2.5</td>\n",
       "      <td>1.0</td>\n",
       "    </tr>\n",
       "    <tr>\n",
       "      <th>1</th>\n",
       "      <td>4.0</td>\n",
       "      <td>2.5</td>\n",
       "      <td>2.5</td>\n",
       "      <td>5.0</td>\n",
       "      <td>1.0</td>\n",
       "    </tr>\n",
       "    <tr>\n",
       "      <th>2</th>\n",
       "      <td>2.0</td>\n",
       "      <td>2.0</td>\n",
       "      <td>4.5</td>\n",
       "      <td>4.5</td>\n",
       "      <td>2.0</td>\n",
       "    </tr>\n",
       "    <tr>\n",
       "      <th>3</th>\n",
       "      <td>1.5</td>\n",
       "      <td>5.0</td>\n",
       "      <td>3.5</td>\n",
       "      <td>3.5</td>\n",
       "      <td>1.5</td>\n",
       "    </tr>\n",
       "    <tr>\n",
       "      <th>4</th>\n",
       "      <td>3.5</td>\n",
       "      <td>5.0</td>\n",
       "      <td>1.5</td>\n",
       "      <td>3.5</td>\n",
       "      <td>1.5</td>\n",
       "    </tr>\n",
       "    <tr>\n",
       "      <th>5</th>\n",
       "      <td>4.5</td>\n",
       "      <td>4.5</td>\n",
       "      <td>2.0</td>\n",
       "      <td>3.0</td>\n",
       "      <td>1.0</td>\n",
       "    </tr>\n",
       "    <tr>\n",
       "      <th>6</th>\n",
       "      <td>3.5</td>\n",
       "      <td>5.0</td>\n",
       "      <td>3.5</td>\n",
       "      <td>2.0</td>\n",
       "      <td>1.0</td>\n",
       "    </tr>\n",
       "    <tr>\n",
       "      <th>7</th>\n",
       "      <td>5.0</td>\n",
       "      <td>2.5</td>\n",
       "      <td>4.0</td>\n",
       "      <td>2.5</td>\n",
       "      <td>1.0</td>\n",
       "    </tr>\n",
       "    <tr>\n",
       "      <th>8</th>\n",
       "      <td>4.5</td>\n",
       "      <td>3.0</td>\n",
       "      <td>2.0</td>\n",
       "      <td>4.5</td>\n",
       "      <td>1.0</td>\n",
       "    </tr>\n",
       "    <tr>\n",
       "      <th>9</th>\n",
       "      <td>2.0</td>\n",
       "      <td>3.0</td>\n",
       "      <td>4.5</td>\n",
       "      <td>4.5</td>\n",
       "      <td>1.0</td>\n",
       "    </tr>\n",
       "  </tbody>\n",
       "</table>\n",
       "</div>"
      ],
      "text/plain": [
       "   CNN-net  CNN_LSTM-net  ConvLSTM-net  Stacked_LSTM-net  Ensem-HAR\n",
       "0      5.0           2.5           4.0               2.5        1.0\n",
       "1      4.0           2.5           2.5               5.0        1.0\n",
       "2      2.0           2.0           4.5               4.5        2.0\n",
       "3      1.5           5.0           3.5               3.5        1.5\n",
       "4      3.5           5.0           1.5               3.5        1.5\n",
       "5      4.5           4.5           2.0               3.0        1.0\n",
       "6      3.5           5.0           3.5               2.0        1.0\n",
       "7      5.0           2.5           4.0               2.5        1.0\n",
       "8      4.5           3.0           2.0               4.5        1.0\n",
       "9      2.0           3.0           4.5               4.5        1.0"
      ]
     },
     "execution_count": 4,
     "metadata": {},
     "output_type": "execute_result"
    }
   ],
   "source": [
    "df_ranking"
   ]
  },
  {
   "cell_type": "code",
   "execution_count": 5,
   "metadata": {},
   "outputs": [
    {
     "data": {
      "text/html": [
       "<div>\n",
       "<style scoped>\n",
       "    .dataframe tbody tr th:only-of-type {\n",
       "        vertical-align: middle;\n",
       "    }\n",
       "\n",
       "    .dataframe tbody tr th {\n",
       "        vertical-align: top;\n",
       "    }\n",
       "\n",
       "    .dataframe thead th {\n",
       "        text-align: right;\n",
       "    }\n",
       "</style>\n",
       "<table border=\"1\" class=\"dataframe\">\n",
       "  <thead>\n",
       "    <tr style=\"text-align: right;\">\n",
       "      <th></th>\n",
       "      <th>Mean Rank</th>\n",
       "    </tr>\n",
       "  </thead>\n",
       "  <tbody>\n",
       "    <tr>\n",
       "      <th>CNN-net</th>\n",
       "      <td>3.55</td>\n",
       "    </tr>\n",
       "    <tr>\n",
       "      <th>CNN_LSTM-net</th>\n",
       "      <td>3.50</td>\n",
       "    </tr>\n",
       "    <tr>\n",
       "      <th>ConvLSTM-net</th>\n",
       "      <td>3.20</td>\n",
       "    </tr>\n",
       "    <tr>\n",
       "      <th>Stacked_LSTM-net</th>\n",
       "      <td>3.55</td>\n",
       "    </tr>\n",
       "    <tr>\n",
       "      <th>Ensem-HAR</th>\n",
       "      <td>1.20</td>\n",
       "    </tr>\n",
       "  </tbody>\n",
       "</table>\n",
       "</div>"
      ],
      "text/plain": [
       "                  Mean Rank\n",
       "CNN-net                3.55\n",
       "CNN_LSTM-net           3.50\n",
       "ConvLSTM-net           3.20\n",
       "Stacked_LSTM-net       3.55\n",
       "Ensem-HAR              1.20"
      ]
     },
     "execution_count": 5,
     "metadata": {},
     "output_type": "execute_result"
    }
   ],
   "source": [
    "avg_ranking_modelwise"
   ]
  },
  {
   "cell_type": "code",
   "execution_count": 6,
   "metadata": {},
   "outputs": [],
   "source": [
    "df_ranking.to_csv('ranking.csv')\n",
    "avg_ranking_modelwise.to_csv('avg_ranking.csv')"
   ]
  },
  {
   "cell_type": "code",
   "execution_count": 7,
   "metadata": {},
   "outputs": [],
   "source": [
    "# Helper functions for performing the statistical tests\n",
    "def generate_scores(method, method_args, data, labels):\n",
    "    pairwise_scores = method(data, **method_args) # Matrix for all pairwise comaprisons\n",
    "    pairwise_scores.set_axis(labels, axis='columns', inplace=True) # Label the cols\n",
    "    pairwise_scores.set_axis(labels, axis='rows', inplace=True) # Label the rows, note: same label as pairwise combinations\n",
    "    return pairwise_scores\n",
    "\n",
    "def plot(scores):\n",
    "    # Pretty plot of significance\n",
    "    heatmap_args = {'linewidths': 0.25, 'linecolor': '0.5', 'square': True,\n",
    "                    'cbar_ax_bbox': [0.80, 0.35, 0.04, 0.3]}\n",
    "\n",
    "    sp.sign_plot(scores, **heatmap_args)"
   ]
  },
  {
   "cell_type": "code",
   "execution_count": 8,
   "metadata": {},
   "outputs": [],
   "source": [
    "nemenyi_scores = generate_scores(sp.posthoc_nemenyi_friedman, {}, data, df.columns)"
   ]
  },
  {
   "cell_type": "code",
   "execution_count": 9,
   "metadata": {},
   "outputs": [
    {
     "data": {
      "text/html": [
       "<div>\n",
       "<style scoped>\n",
       "    .dataframe tbody tr th:only-of-type {\n",
       "        vertical-align: middle;\n",
       "    }\n",
       "\n",
       "    .dataframe tbody tr th {\n",
       "        vertical-align: top;\n",
       "    }\n",
       "\n",
       "    .dataframe thead th {\n",
       "        text-align: right;\n",
       "    }\n",
       "</style>\n",
       "<table border=\"1\" class=\"dataframe\">\n",
       "  <thead>\n",
       "    <tr style=\"text-align: right;\">\n",
       "      <th></th>\n",
       "      <th>CNN-net</th>\n",
       "      <th>CNN_LSTM-net</th>\n",
       "      <th>ConvLSTM-net</th>\n",
       "      <th>Stacked_LSTM-net</th>\n",
       "      <th>Ensem-HAR</th>\n",
       "    </tr>\n",
       "  </thead>\n",
       "  <tbody>\n",
       "    <tr>\n",
       "      <th>CNN-net</th>\n",
       "      <td>1.00000</td>\n",
       "      <td>0.900000</td>\n",
       "      <td>0.900000</td>\n",
       "      <td>0.90000</td>\n",
       "      <td>0.007920</td>\n",
       "    </tr>\n",
       "    <tr>\n",
       "      <th>CNN_LSTM-net</th>\n",
       "      <td>0.90000</td>\n",
       "      <td>1.000000</td>\n",
       "      <td>0.900000</td>\n",
       "      <td>0.90000</td>\n",
       "      <td>0.010068</td>\n",
       "    </tr>\n",
       "    <tr>\n",
       "      <th>ConvLSTM-net</th>\n",
       "      <td>0.90000</td>\n",
       "      <td>0.900000</td>\n",
       "      <td>1.000000</td>\n",
       "      <td>0.90000</td>\n",
       "      <td>0.037722</td>\n",
       "    </tr>\n",
       "    <tr>\n",
       "      <th>Stacked_LSTM-net</th>\n",
       "      <td>0.90000</td>\n",
       "      <td>0.900000</td>\n",
       "      <td>0.900000</td>\n",
       "      <td>1.00000</td>\n",
       "      <td>0.007920</td>\n",
       "    </tr>\n",
       "    <tr>\n",
       "      <th>Ensem-HAR</th>\n",
       "      <td>0.00792</td>\n",
       "      <td>0.010068</td>\n",
       "      <td>0.037722</td>\n",
       "      <td>0.00792</td>\n",
       "      <td>1.000000</td>\n",
       "    </tr>\n",
       "  </tbody>\n",
       "</table>\n",
       "</div>"
      ],
      "text/plain": [
       "                  CNN-net  CNN_LSTM-net  ConvLSTM-net  Stacked_LSTM-net  \\\n",
       "CNN-net           1.00000      0.900000      0.900000           0.90000   \n",
       "CNN_LSTM-net      0.90000      1.000000      0.900000           0.90000   \n",
       "ConvLSTM-net      0.90000      0.900000      1.000000           0.90000   \n",
       "Stacked_LSTM-net  0.90000      0.900000      0.900000           1.00000   \n",
       "Ensem-HAR         0.00792      0.010068      0.037722           0.00792   \n",
       "\n",
       "                  Ensem-HAR  \n",
       "CNN-net            0.007920  \n",
       "CNN_LSTM-net       0.010068  \n",
       "ConvLSTM-net       0.037722  \n",
       "Stacked_LSTM-net   0.007920  \n",
       "Ensem-HAR          1.000000  "
      ]
     },
     "execution_count": 9,
     "metadata": {},
     "output_type": "execute_result"
    }
   ],
   "source": [
    "nemenyi_scores"
   ]
  },
  {
   "cell_type": "code",
   "execution_count": 10,
   "metadata": {},
   "outputs": [
    {
     "data": {
      "image/png": "[encoded data removed]",
      "text/plain": [
       "<Figure size 432x288 with 2 Axes>"
      ]
     },
     "metadata": {
      "needs_background": "light"
     },
     "output_type": "display_data"
    }
   ],
   "source": [
    "plot(nemenyi_scores)"
   ]
  }
 ],
 "metadata": {
  "interpreter": {
   "hash": "430cf71330057c3667661f8009a18fe65a7652eec0a123d908058e168adcc71d"
  },
  "kernelspec": {
   "display_name": "Python 3.9.0 ('dLenv')",
   "language": "python",
   "name": "python3"
  },
  "language_info": {
   "codemirror_mode": {
    "name": "ipython",
    "version": 3
   },
   "file_extension": ".py",
   "mimetype": "text/x-python",
   "name": "python",
   "nbconvert_exporter": "python",
   "pygments_lexer": "ipython3",
   "version": "3.9.0"
  },
  "orig_nbformat": 4
 },
 "nbformat": 4,
 "nbformat_minor": 2
}
