{
 "cells": [
  {
   "cell_type": "code",
   "execution_count": 14,
   "id": "1e0f4eb1",
   "metadata": {},
   "outputs": [],
   "source": [
    "from tensorflow import keras\n",
    "from keras.models import Sequential\n",
    "from keras.layers import Dense,Reshape\n",
    "from keras.layers import Flatten\n",
    "from keras.layers import Input\n",
    "from keras.layers import Dropout\n",
    "from keras.layers import LSTM\n",
    "from keras.layers import TimeDistributed\n",
    "from keras.layers.convolutional import Conv1D,Conv2D\n",
    "from keras.layers.convolutional import MaxPooling1D"
   ]
  },
  {
   "cell_type": "code",
   "execution_count": 27,
   "id": "9e4ddf78",
   "metadata": {},
   "outputs": [],
   "source": [
    "from typing import Any, Dict, List, Tuple\n",
    "import matplotlib.pyplot as plt\n",
    "import seaborn as sns"
   ]
  },
  {
   "cell_type": "code",
   "execution_count": 2,
   "id": "cca0e85c",
   "metadata": {},
   "outputs": [],
   "source": [
    "import numpy as np\n",
    "import pandas as pd\n",
    "from tensorflow.keras.utils import to_categorical\n",
    "import matplotlib.pyplot as plt\n",
    "import seaborn as sns\n",
    "\n",
    "\n",
    "def load_file(filepath):\n",
    "    dataframe = pd.read_csv(filepath, header=None, delim_whitespace=True)\n",
    "    return dataframe.values\n",
    "\n",
    "\n",
    "\n",
    "# load a list of files and return as a 3d numpy array\n",
    "def load_group(filenames, prefix=''):\n",
    "    loaded = list()\n",
    "    for name in filenames:\n",
    "        data = load_file(prefix + name)\n",
    "        loaded.append(data)\n",
    "    # stack group so that features are the 3rd dimension\n",
    "    loaded = np.dstack(loaded)\n",
    "    return loaded\n",
    "\n",
    "# load a dataset group, such as train or test\n",
    "def load_dataset_group(group, prefix=''):\n",
    "    filepath = prefix + group + '/Inertial Signals/'\n",
    "    # load all 9 files as a single array\n",
    "    filenames = list()\n",
    "    # total acceleration\n",
    "    filenames += ['total_acc_x_'+group+'.txt', 'total_acc_y_'+group+'.txt', 'total_acc_z_'+group+'.txt']\n",
    "    # body acceleration\n",
    "    filenames += ['body_acc_x_'+group+'.txt', 'body_acc_y_'+group+'.txt', 'body_acc_z_'+group+'.txt']\n",
    "    # body gyroscope\n",
    "    filenames += ['body_gyro_x_'+group+'.txt', 'body_gyro_y_'+group+'.txt', 'body_gyro_z_'+group+'.txt']\n",
    "    # load input data\n",
    "    X = load_group(filenames, filepath)\n",
    "    # load class output\n",
    "    y = load_file(prefix + group + '/y_'+group+'.txt')\n",
    "    return X, y\n",
    "\n",
    "\n",
    "# load the dataset, returns train and test X and y elements\n",
    "def load_dataset(prefix=''):\n",
    "    # load all train\n",
    "    trainX, trainy = load_dataset_group('train', prefix + 'C:/Users/bhatt/Desktop/Research_work/Dataset/UCI HAR Dataset/')\n",
    "    # load all test\n",
    "    testX, testy = load_dataset_group('test', prefix + 'C:/Users/bhatt/Desktop/Research_work/Dataset/UCI HAR Dataset/')\n",
    "    \n",
    "    #zero-offset class values\n",
    "    trainy = trainy - 1\n",
    "    testy = testy - 1\n",
    "    #one hot encode y\n",
    "    trainy_one_hot = to_categorical(trainy)\n",
    "    testy_one_hot = to_categorical(testy)\n",
    "    print(trainX.shape, trainy.shape, trainy_one_hot.shape, testX.shape, testy.shape, testy_one_hot.shape)\n",
    "    return trainX, trainy, trainy_one_hot, testX, testy, testy_one_hot\n"
   ]
  },
  {
   "cell_type": "code",
   "execution_count": 3,
   "id": "9778c5c8",
   "metadata": {},
   "outputs": [
    {
     "name": "stdout",
     "output_type": "stream",
     "text": [
      "(7352, 128, 9) (7352, 1) (7352, 6) (2947, 128, 9) (2947, 1) (2947, 6)\n"
     ]
    }
   ],
   "source": [
    "trainX, trainy, trainy_one_hot, testX, testy, testy_one_hot = load_dataset()"
   ]
  },
  {
   "cell_type": "code",
   "execution_count": 4,
   "id": "494e221d",
   "metadata": {},
   "outputs": [],
   "source": [
    "n_timesteps, n_features, n_outputs = trainX.shape[1], trainX.shape[2], trainy_one_hot.shape[1]"
   ]
  },
  {
   "cell_type": "code",
   "execution_count": 5,
   "id": "d661fefc",
   "metadata": {},
   "outputs": [
    {
     "data": {
      "text/plain": [
       "(128, 9)"
      ]
     },
     "execution_count": 5,
     "metadata": {},
     "output_type": "execute_result"
    }
   ],
   "source": [
    "n_timesteps,n_features"
   ]
  },
  {
   "cell_type": "code",
   "execution_count": 19,
   "id": "0fcda532",
   "metadata": {},
   "outputs": [],
   "source": [
    "trainX=trainX.reshape(len(trainX),n_timesteps, n_features,1)\n",
    "testX=testX.reshape(len(testX),n_timesteps, n_features,1)"
   ]
  },
  {
   "cell_type": "code",
   "execution_count": 20,
   "id": "2c1c3986",
   "metadata": {},
   "outputs": [
    {
     "data": {
      "text/plain": [
       "(7352, 128, 9, 1)"
      ]
     },
     "execution_count": 20,
     "metadata": {},
     "output_type": "execute_result"
    }
   ],
   "source": [
    "trainX.shape"
   ]
  },
  {
   "cell_type": "code",
   "execution_count": 24,
   "id": "19ed84da",
   "metadata": {},
   "outputs": [],
   "source": [
    "input_shape: Tuple[int, int, int] = (128, 9, 1)\n",
    "model=Sequential()\n",
    "model.add(Conv2D(filters=64, kernel_size=(5,1), activation='relu',input_shape=input_shape))\n",
    "model.add(Conv2D(64, kernel_size=(5, 1), activation='relu'))\n",
    "model.add(Conv2D(64, kernel_size=(5, 1), activation='relu'))\n",
    "model.add(Conv2D(64, kernel_size=(5, 1), activation='relu'))\n",
    "model.add(Reshape((112, 9 * 64)))\n",
    "model.add(LSTM(128, activation=\"tanh\", return_sequences=True))\n",
    "model.add(Dropout(0.5, seed=0))\n",
    "model.add(LSTM(128, activation=\"tanh\"))\n",
    "model.add(Dropout(0.5, seed=1))\n",
    "model.add(Dense(n_outputs, activation='softmax'))\n",
    "model.compile(loss=\"categorical_crossentropy\", optimizer=keras.optimizers.Adam(learning_rate=0.001), metrics=[\"accuracy\"])"
   ]
  },
  {
   "cell_type": "code",
   "execution_count": 25,
   "id": "76196d10",
   "metadata": {},
   "outputs": [
    {
     "name": "stdout",
     "output_type": "stream",
     "text": [
      "Model: \"sequential_6\"\n",
      "_________________________________________________________________\n",
      "Layer (type)                 Output Shape              Param #   \n",
      "=================================================================\n",
      "conv2d_19 (Conv2D)           (None, 124, 9, 64)        384       \n",
      "_________________________________________________________________\n",
      "conv2d_20 (Conv2D)           (None, 120, 9, 64)        20544     \n",
      "_________________________________________________________________\n",
      "conv2d_21 (Conv2D)           (None, 116, 9, 64)        20544     \n",
      "_________________________________________________________________\n",
      "conv2d_22 (Conv2D)           (None, 112, 9, 64)        20544     \n",
      "_________________________________________________________________\n",
      "reshape_3 (Reshape)          (None, 112, 576)          0         \n",
      "_________________________________________________________________\n",
      "lstm_4 (LSTM)                (None, 112, 128)          360960    \n",
      "_________________________________________________________________\n",
      "dropout_4 (Dropout)          (None, 112, 128)          0         \n",
      "_________________________________________________________________\n",
      "lstm_5 (LSTM)                (None, 128)               131584    \n",
      "_________________________________________________________________\n",
      "dropout_5 (Dropout)          (None, 128)               0         \n",
      "_________________________________________________________________\n",
      "dense_2 (Dense)              (None, 6)                 774       \n",
      "=================================================================\n",
      "Total params: 555,334\n",
      "Trainable params: 555,334\n",
      "Non-trainable params: 0\n",
      "_________________________________________________________________\n"
     ]
    }
   ],
   "source": [
    "model.summary()"
   ]
  },
  {
   "cell_type": "code",
   "execution_count": 26,
   "id": "26c1b1dc",
   "metadata": {},
   "outputs": [
    {
     "name": "stdout",
     "output_type": "stream",
     "text": [
      "Epoch 1/30\n",
      "230/230 [==============================] - 41s 73ms/step - loss: 0.7835 - accuracy: 0.6679 - val_loss: 0.5210 - val_accuracy: 0.8185\n",
      "Epoch 2/30\n",
      "230/230 [==============================] - 14s 61ms/step - loss: 0.2713 - accuracy: 0.9080 - val_loss: 0.4732 - val_accuracy: 0.8544\n",
      "Epoch 3/30\n",
      "230/230 [==============================] - 14s 60ms/step - loss: 0.1800 - accuracy: 0.9354 - val_loss: 0.3969 - val_accuracy: 0.8836\n",
      "Epoch 4/30\n",
      "230/230 [==============================] - 14s 61ms/step - loss: 0.1427 - accuracy: 0.9461 - val_loss: 0.3953 - val_accuracy: 0.8694\n",
      "Epoch 5/30\n",
      "230/230 [==============================] - 14s 61ms/step - loss: 0.1329 - accuracy: 0.9494 - val_loss: 0.4833 - val_accuracy: 0.8670\n",
      "Epoch 6/30\n",
      "230/230 [==============================] - 14s 61ms/step - loss: 0.1028 - accuracy: 0.9580 - val_loss: 0.4355 - val_accuracy: 0.8782\n",
      "Epoch 7/30\n",
      "230/230 [==============================] - 14s 61ms/step - loss: 0.1221 - accuracy: 0.9507 - val_loss: 0.4340 - val_accuracy: 0.8843\n",
      "Epoch 8/30\n",
      "230/230 [==============================] - 14s 61ms/step - loss: 0.1352 - accuracy: 0.9475 - val_loss: 0.5484 - val_accuracy: 0.8677\n",
      "Epoch 9/30\n",
      "230/230 [==============================] - 14s 62ms/step - loss: 0.1061 - accuracy: 0.9577 - val_loss: 0.4168 - val_accuracy: 0.8931\n",
      "Epoch 10/30\n",
      "230/230 [==============================] - 14s 63ms/step - loss: 0.1190 - accuracy: 0.9492 - val_loss: 0.3966 - val_accuracy: 0.8965\n",
      "Epoch 11/30\n",
      "230/230 [==============================] - 14s 63ms/step - loss: 0.1125 - accuracy: 0.9515 - val_loss: 0.5325 - val_accuracy: 0.8711\n",
      "Epoch 12/30\n",
      "230/230 [==============================] - 14s 63ms/step - loss: 0.1132 - accuracy: 0.9526 - val_loss: 0.4317 - val_accuracy: 0.8962\n",
      "Epoch 13/30\n",
      "230/230 [==============================] - 14s 63ms/step - loss: 0.0952 - accuracy: 0.9565 - val_loss: 0.3604 - val_accuracy: 0.9077\n",
      "Epoch 14/30\n",
      "230/230 [==============================] - 14s 63ms/step - loss: 0.0987 - accuracy: 0.9549 - val_loss: 0.4337 - val_accuracy: 0.9019\n",
      "Epoch 15/30\n",
      "230/230 [==============================] - 15s 64ms/step - loss: 0.1020 - accuracy: 0.9552 - val_loss: 0.3794 - val_accuracy: 0.9019\n",
      "Epoch 16/30\n",
      "230/230 [==============================] - 15s 63ms/step - loss: 0.0961 - accuracy: 0.9631 - val_loss: 0.3705 - val_accuracy: 0.8989\n",
      "Epoch 17/30\n",
      "230/230 [==============================] - 15s 65ms/step - loss: 0.0810 - accuracy: 0.9664 - val_loss: 0.5184 - val_accuracy: 0.8897\n",
      "Epoch 18/30\n",
      "230/230 [==============================] - 15s 65ms/step - loss: 0.0840 - accuracy: 0.9633 - val_loss: 0.3676 - val_accuracy: 0.9111\n",
      "Epoch 19/30\n",
      "230/230 [==============================] - 15s 64ms/step - loss: 0.0843 - accuracy: 0.9675 - val_loss: 0.4895 - val_accuracy: 0.8914\n",
      "Epoch 20/30\n",
      "230/230 [==============================] - 15s 66ms/step - loss: 0.1118 - accuracy: 0.9521 - val_loss: 0.3668 - val_accuracy: 0.9148\n",
      "Epoch 21/30\n",
      "230/230 [==============================] - 15s 65ms/step - loss: 0.0714 - accuracy: 0.9674 - val_loss: 0.3532 - val_accuracy: 0.9152\n",
      "Epoch 22/30\n",
      "230/230 [==============================] - 15s 64ms/step - loss: 0.0858 - accuracy: 0.9651 - val_loss: 0.4052 - val_accuracy: 0.8958\n",
      "Epoch 23/30\n",
      "230/230 [==============================] - 14s 62ms/step - loss: 0.0712 - accuracy: 0.9667 - val_loss: 0.3841 - val_accuracy: 0.9182\n",
      "Epoch 24/30\n",
      "230/230 [==============================] - 15s 66ms/step - loss: 0.0789 - accuracy: 0.9711 - val_loss: 0.4314 - val_accuracy: 0.8860\n",
      "Epoch 25/30\n",
      "230/230 [==============================] - 15s 64ms/step - loss: 0.0899 - accuracy: 0.9651 - val_loss: 0.3451 - val_accuracy: 0.9260\n",
      "Epoch 26/30\n",
      "230/230 [==============================] - 14s 63ms/step - loss: 0.0779 - accuracy: 0.9669 - val_loss: 0.3172 - val_accuracy: 0.9145\n",
      "Epoch 27/30\n",
      "230/230 [==============================] - 15s 64ms/step - loss: 0.0747 - accuracy: 0.9662 - val_loss: 0.4556 - val_accuracy: 0.9023\n",
      "Epoch 28/30\n",
      "230/230 [==============================] - 17s 72ms/step - loss: 0.0529 - accuracy: 0.9779 - val_loss: 0.4860 - val_accuracy: 0.9165\n",
      "Epoch 29/30\n",
      "230/230 [==============================] - 15s 64ms/step - loss: 0.0590 - accuracy: 0.9738 - val_loss: 0.5035 - val_accuracy: 0.9104\n",
      "Epoch 30/30\n",
      "230/230 [==============================] - 16s 67ms/step - loss: 0.0532 - accuracy: 0.9791 - val_loss: 0.4496 - val_accuracy: 0.9016\n"
     ]
    }
   ],
   "source": [
    "model_history=model.fit(trainX, trainy_one_hot, epochs=30, batch_size=32,validation_data=(testX,testy_one_hot))"
   ]
  },
  {
   "cell_type": "code",
   "execution_count": 28,
   "id": "9408232a",
   "metadata": {},
   "outputs": [
    {
     "data": {
      "image/png": "[encoded data removed]",
      "text/plain": [
       "<Figure size 432x288 with 1 Axes>"
      ]
     },
     "metadata": {
      "needs_background": "light"
     },
     "output_type": "display_data"
    }
   ],
   "source": [
    "loss =model_history.history['loss']\n",
    "val_loss =model_history.history['val_loss']\n",
    "epochs = range(1, len(loss) + 1)\n",
    "plt.plot(epochs, loss, 'y', label='Training loss')\n",
    "plt.plot(epochs, val_loss, 'r', label='Validation loss')\n",
    "plt.title('Training and validation loss')\n",
    "plt.xlabel('Epochs')\n",
    "plt.ylabel('Loss')\n",
    "plt.legend()\n",
    "plt.show()"
   ]
  },
  {
   "cell_type": "code",
   "execution_count": 29,
   "id": "58324e55",
   "metadata": {},
   "outputs": [
    {
     "data": {
      "image/png": "[encoded data removed]",
      "text/plain": [
       "<Figure size 432x288 with 1 Axes>"
      ]
     },
     "metadata": {
      "needs_background": "light"
     },
     "output_type": "display_data"
    }
   ],
   "source": [
    "acc =model_history.history['accuracy']\n",
    "val_acc =model_history.history['val_accuracy']\n",
    "plt.plot(epochs, acc, 'y', label='Training acc')\n",
    "plt.plot(epochs, val_acc, 'r', label='Validation acc')\n",
    "plt.title('Training and validation accuracy')\n",
    "plt.xlabel('Epochs')\n",
    "plt.ylabel('Accuracy')\n",
    "plt.legend()\n",
    "plt.show()"
   ]
  },
  {
   "cell_type": "code",
   "execution_count": 30,
   "id": "99314cc3",
   "metadata": {},
   "outputs": [
    {
     "name": "stdout",
     "output_type": "stream",
     "text": [
      "[[465   1  30   0   0   0]\n",
      " [ 12 427  32   0   0   0]\n",
      " [  5  12 403   0   0   0]\n",
      " [  1   2   0 384 104   0]\n",
      " [  0   0   0  91 441   0]\n",
      " [  0   0   0   0   0 537]]\n",
      "0.9015948422124194\n",
      "              precision    recall  f1-score   support\n",
      "\n",
      "           0       0.96      0.94      0.95       496\n",
      "           1       0.97      0.91      0.94       471\n",
      "           2       0.87      0.96      0.91       420\n",
      "           3       0.81      0.78      0.80       491\n",
      "           4       0.81      0.83      0.82       532\n",
      "           5       1.00      1.00      1.00       537\n",
      "\n",
      "    accuracy                           0.90      2947\n",
      "   macro avg       0.90      0.90      0.90      2947\n",
      "weighted avg       0.90      0.90      0.90      2947\n",
      "\n"
     ]
    },
    {
     "data": {
      "text/plain": [
       "<AxesSubplot:>"
      ]
     },
     "execution_count": 30,
     "metadata": {},
     "output_type": "execute_result"
    },
    {
     "data": {
      "image/png": "[encoded data removed]",
      "text/plain": [
       "<Figure size 432x288 with 2 Axes>"
      ]
     },
     "metadata": {
      "needs_background": "light"
     },
     "output_type": "display_data"
    }
   ],
   "source": [
    "predy=model.predict(testX)\n",
    "predy=np.argmax(predy, axis=-1)\n",
    "from sklearn.metrics import confusion_matrix,classification_report,accuracy_score\n",
    "cm=confusion_matrix(testy,predy)\n",
    "print(cm)\n",
    "print(accuracy_score(testy,predy))\n",
    "print(classification_report(testy,predy))\n",
    "sns.heatmap(cm, annot=True)"
   ]
  },
  {
   "cell_type": "code",
   "execution_count": null,
   "id": "02745007",
   "metadata": {},
   "outputs": [],
   "source": []
  }
 ],
 "metadata": {
  "kernelspec": {
   "display_name": "dLenv",
   "language": "python",
   "name": "dlenv"
  },
  "language_info": {
   "codemirror_mode": {
    "name": "ipython",
    "version": 3
   },
   "file_extension": ".py",
   "mimetype": "text/x-python",
   "name": "python",
   "nbconvert_exporter": "python",
   "pygments_lexer": "ipython3",
   "version": "3.8.10"
  }
 },
 "nbformat": 4,
 "nbformat_minor": 5
}
