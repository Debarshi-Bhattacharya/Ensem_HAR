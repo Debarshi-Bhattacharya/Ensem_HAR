{
 "cells": [
  {
   "cell_type": "code",
   "execution_count": 1,
   "id": "fedce926",
   "metadata": {},
   "outputs": [],
   "source": [
    "import numpy as np\n",
    "import pandas as pd\n",
    "from tensorflow.keras.utils import to_categorical\n",
    "import matplotlib.pyplot as plt\n",
    "\n",
    "\n",
    "def load_file(filepath):\n",
    "    dataframe = pd.read_csv(filepath, header=None, delim_whitespace=True)\n",
    "    return dataframe.values\n",
    "\n",
    "\n",
    "\n",
    "# load a list of files and return as a 3d numpy array\n",
    "def load_group(filenames, prefix=''):\n",
    "    loaded = list()\n",
    "    for name in filenames:\n",
    "        data = load_file(prefix + name)\n",
    "        loaded.append(data)\n",
    "    # stack group so that features are the 3rd dimension\n",
    "    loaded = np.dstack(loaded)\n",
    "    return loaded\n",
    "\n",
    "# load a dataset group, such as train or test\n",
    "def load_dataset_group(group, prefix=''):\n",
    "    filepath = prefix + group + '/Inertial Signals/'\n",
    "    # load all 9 files as a single array\n",
    "    filenames = list()\n",
    "    # total acceleration\n",
    "    filenames += ['total_acc_x_'+group+'.txt', 'total_acc_y_'+group+'.txt', 'total_acc_z_'+group+'.txt']\n",
    "    # body acceleration\n",
    "    filenames += ['body_acc_x_'+group+'.txt', 'body_acc_y_'+group+'.txt', 'body_acc_z_'+group+'.txt']\n",
    "    # body gyroscope\n",
    "    filenames += ['body_gyro_x_'+group+'.txt', 'body_gyro_y_'+group+'.txt', 'body_gyro_z_'+group+'.txt']\n",
    "    # load input data\n",
    "    X = load_group(filenames, filepath)\n",
    "    # load class output\n",
    "    y = load_file(prefix + group + '/y_'+group+'.txt')\n",
    "    return X, y\n",
    "\n",
    "\n",
    "# load the dataset, returns train and test X and y elements\n",
    "def load_dataset(prefix=''):\n",
    "    # load all train\n",
    "    trainX, trainy = load_dataset_group('train', prefix + 'C:/Users/bhatt/Desktop/Research_work/Dataset/UCI HAR Dataset/')\n",
    "    # load all test\n",
    "    testX, testy = load_dataset_group('test', prefix + 'C:/Users/bhatt/Desktop/Research_work/Dataset/UCI HAR Dataset/')\n",
    "    \n",
    "    #zero-offset class values\n",
    "    trainy = trainy - 1\n",
    "    testy = testy - 1\n",
    "    #one hot encode y\n",
    "    trainy_one_hot = to_categorical(trainy)\n",
    "    testy_one_hot = to_categorical(testy)\n",
    "    print(trainX.shape, trainy.shape, trainy_one_hot.shape, testX.shape, testy.shape, testy_one_hot.shape)\n",
    "    return trainX, trainy, trainy_one_hot, testX, testy, testy_one_hot\n"
   ]
  },
  {
   "cell_type": "code",
   "execution_count": 2,
   "id": "d6ffb60c",
   "metadata": {},
   "outputs": [
    {
     "name": "stdout",
     "output_type": "stream",
     "text": [
      "(7352, 128, 9) (7352, 1) (7352, 6) (2947, 128, 9) (2947, 1) (2947, 6)\n"
     ]
    }
   ],
   "source": [
    "trainX, trainy, trainy_one_hot, testX, testy, testy_one_hot = load_dataset()"
   ]
  },
  {
   "cell_type": "code",
   "execution_count": 3,
   "id": "e341b693",
   "metadata": {},
   "outputs": [],
   "source": [
    "n_timesteps, n_features, n_outputs = trainX.shape[1], trainX.shape[2], trainy_one_hot.shape[1]"
   ]
  },
  {
   "cell_type": "code",
   "execution_count": 4,
   "id": "5918d591",
   "metadata": {},
   "outputs": [],
   "source": [
    "from keras.models import Model\n",
    "from keras.utils.vis_utils import plot_model\n",
    "from keras.models import Sequential\n",
    "from keras.layers import LSTM\n",
    "from keras.layers import Input\n",
    "from keras.layers import Dense\n",
    "from keras.layers import Flatten\n",
    "from keras.layers import Dropout\n",
    "from keras.layers.convolutional import Conv1D\n",
    "from keras.layers.convolutional import MaxPooling1D\n",
    "from keras.layers.merge import concatenate"
   ]
  },
  {
   "cell_type": "code",
   "execution_count": 5,
   "id": "a516d2df",
   "metadata": {},
   "outputs": [],
   "source": [
    "##Level_1\n",
    "# layer 1\n",
    "inputs1_1= Input(shape=(n_timesteps,n_features))##128,9\n",
    "conv1_1 = Conv1D(filters=128, kernel_size=3, activation='relu')(inputs1_1) ##none,126,128\n",
    "    # layer 2\n",
    "inputs1_2= Input(shape=(n_timesteps,n_features))\n",
    "conv1_2 = Conv1D(filters=128, kernel_size=5, activation='relu')(inputs1_2)##124,128\n",
    "    # layer 3\n",
    "inputs1_3= Input(shape=(n_timesteps,n_features))\n",
    "conv1_3 = Conv1D(filters=128, kernel_size=7, activation='relu')(inputs1_3)##122,128\n",
    "    # layer 4\n",
    "inputs1_4= Input(shape=(n_timesteps,n_features))\n",
    "conv1_4 = Conv1D(filters=128, kernel_size=9, activation='relu')(inputs1_4)##120,128\n",
    "    \n",
    "    # merge1\n",
    "merged_1 = concatenate([conv1_1,conv1_2,conv1_3,conv1_4],axis=1)\n",
    "    \n",
    "    #maxpool1\n",
    "pool_1=MaxPooling1D(pool_size=5)(merged_1)"
   ]
  },
  {
   "cell_type": "code",
   "execution_count": 6,
   "id": "f57cb8d1",
   "metadata": {},
   "outputs": [
    {
     "data": {
      "text/plain": [
       "(TensorShape([None, 492, 128]), TensorShape([None, 98, 128]))"
      ]
     },
     "execution_count": 6,
     "metadata": {},
     "output_type": "execute_result"
    }
   ],
   "source": [
    "merged_1.shape,pool_1.shape"
   ]
  },
  {
   "cell_type": "code",
   "execution_count": 7,
   "id": "ba5134f8",
   "metadata": {},
   "outputs": [],
   "source": [
    "##Level_2\n",
    "# layer 1\n",
    "conv2_1 = Conv1D(filters=64, kernel_size=3, activation='relu')(pool_1)\n",
    "# layer 2\n",
    "conv2_2 = Conv1D(filters=64, kernel_size=5, activation='relu')(pool_1)\n",
    "# layer 3\n",
    "conv2_3 = Conv1D(filters=64, kernel_size=7, activation='relu')(pool_1)\n",
    "# layer 4\n",
    "\n",
    "conv2_4 = Conv1D(filters=64, kernel_size=9, activation='relu')(pool_1) \n",
    "# merge2\n",
    "merged_2 = concatenate([conv2_1,conv2_2,conv2_3,conv2_4],axis=1)\n",
    "    \n",
    "#maxpool2\n",
    "pool_2=MaxPooling1D(pool_size=5)(merged_2)\n",
    "    \n",
    "#flatten\n",
    "flat_cnn=Flatten()(pool_2)"
   ]
  },
  {
   "cell_type": "code",
   "execution_count": 8,
   "id": "4dfd8b06",
   "metadata": {},
   "outputs": [
    {
     "data": {
      "text/plain": [
       "(TensorShape([None, 372, 64]),\n",
       " TensorShape([None, 74, 64]),\n",
       " TensorShape([None, 4736]))"
      ]
     },
     "execution_count": 8,
     "metadata": {},
     "output_type": "execute_result"
    }
   ],
   "source": [
    "merged_2.shape,pool_2.shape,flat_cnn.shape"
   ]
  },
  {
   "cell_type": "code",
   "execution_count": 9,
   "id": "343b3307",
   "metadata": {},
   "outputs": [
    {
     "data": {
      "text/plain": [
       "TensorShape([None, 512])"
      ]
     },
     "execution_count": 9,
     "metadata": {},
     "output_type": "execute_result"
    }
   ],
   "source": [
    "dense1 = Dense(512, activation='relu')(flat_cnn)\n",
    "cnn_drop=Dropout(0.5)(dense1)\n",
    "##outputs = Dense(n_outputs, activation='softmax')(dense1)\n",
    "##dense1.shape\n",
    "##cnn_model = Model(inputs=[inputs1_1, inputs1_2, inputs1_3,inputs1_4], outputs=outputs)\n",
    "# save a plot of the model\n",
    "#plot_model(cnn_model, show_shapes=True, to_file='multichannel.png') \n",
    "cnn_drop.shape"
   ]
  },
  {
   "cell_type": "code",
   "execution_count": 10,
   "id": "a8a2f8da",
   "metadata": {},
   "outputs": [],
   "source": [
    "inputs_LSTM=Input(shape=(n_timesteps,n_features))\n",
    "LSTM_model=LSTM(100)(inputs_LSTM)\n",
    "flat_lstm=Flatten()(LSTM_model)\n",
    "dense2=Dense(512, activation='relu')(flat_lstm)\n",
    "lstm_drop=Dropout(0.5)(dense2)\n"
   ]
  },
  {
   "cell_type": "code",
   "execution_count": 11,
   "id": "c7d7ab38",
   "metadata": {},
   "outputs": [
    {
     "data": {
      "text/plain": [
       "TensorShape([None, 512])"
      ]
     },
     "execution_count": 11,
     "metadata": {},
     "output_type": "execute_result"
    }
   ],
   "source": [
    "lstm_drop.shape"
   ]
  },
  {
   "cell_type": "code",
   "execution_count": 12,
   "id": "24180b5c",
   "metadata": {},
   "outputs": [],
   "source": [
    "cnn_lstm=concatenate([cnn_drop,lstm_drop])\n",
    "flat_cnnlstm=Flatten()(cnn_lstm)\n",
    "cnnlstm_drop=Dropout(0.5)(flat_cnnlstm)\n",
    "outputs = Dense(n_outputs, activation='softmax')(cnnlstm_drop)"
   ]
  },
  {
   "cell_type": "code",
   "execution_count": 13,
   "id": "c5ea2c09",
   "metadata": {},
   "outputs": [],
   "source": [
    "cnnlstm_model = Model(inputs=[inputs1_1, inputs1_2, inputs1_3,inputs1_4,inputs_LSTM], outputs=outputs)"
   ]
  },
  {
   "cell_type": "code",
   "execution_count": 14,
   "id": "496a04fa",
   "metadata": {},
   "outputs": [
    {
     "name": "stdout",
     "output_type": "stream",
     "text": [
      "Model: \"model\"\n",
      "__________________________________________________________________________________________________\n",
      "Layer (type)                    Output Shape         Param #     Connected to                     \n",
      "==================================================================================================\n",
      "input_1 (InputLayer)            [(None, 128, 9)]     0                                            \n",
      "__________________________________________________________________________________________________\n",
      "input_2 (InputLayer)            [(None, 128, 9)]     0                                            \n",
      "__________________________________________________________________________________________________\n",
      "input_3 (InputLayer)            [(None, 128, 9)]     0                                            \n",
      "__________________________________________________________________________________________________\n",
      "input_4 (InputLayer)            [(None, 128, 9)]     0                                            \n",
      "__________________________________________________________________________________________________\n",
      "conv1d (Conv1D)                 (None, 126, 128)     3584        input_1[0][0]                    \n",
      "__________________________________________________________________________________________________\n",
      "conv1d_1 (Conv1D)               (None, 124, 128)     5888        input_2[0][0]                    \n",
      "__________________________________________________________________________________________________\n",
      "conv1d_2 (Conv1D)               (None, 122, 128)     8192        input_3[0][0]                    \n",
      "__________________________________________________________________________________________________\n",
      "conv1d_3 (Conv1D)               (None, 120, 128)     10496       input_4[0][0]                    \n",
      "__________________________________________________________________________________________________\n",
      "concatenate (Concatenate)       (None, 492, 128)     0           conv1d[0][0]                     \n",
      "                                                                 conv1d_1[0][0]                   \n",
      "                                                                 conv1d_2[0][0]                   \n",
      "                                                                 conv1d_3[0][0]                   \n",
      "__________________________________________________________________________________________________\n",
      "max_pooling1d (MaxPooling1D)    (None, 98, 128)      0           concatenate[0][0]                \n",
      "__________________________________________________________________________________________________\n",
      "conv1d_4 (Conv1D)               (None, 96, 64)       24640       max_pooling1d[0][0]              \n",
      "__________________________________________________________________________________________________\n",
      "conv1d_5 (Conv1D)               (None, 94, 64)       41024       max_pooling1d[0][0]              \n",
      "__________________________________________________________________________________________________\n",
      "conv1d_6 (Conv1D)               (None, 92, 64)       57408       max_pooling1d[0][0]              \n",
      "__________________________________________________________________________________________________\n",
      "conv1d_7 (Conv1D)               (None, 90, 64)       73792       max_pooling1d[0][0]              \n",
      "__________________________________________________________________________________________________\n",
      "concatenate_1 (Concatenate)     (None, 372, 64)      0           conv1d_4[0][0]                   \n",
      "                                                                 conv1d_5[0][0]                   \n",
      "                                                                 conv1d_6[0][0]                   \n",
      "                                                                 conv1d_7[0][0]                   \n",
      "__________________________________________________________________________________________________\n",
      "input_5 (InputLayer)            [(None, 128, 9)]     0                                            \n",
      "__________________________________________________________________________________________________\n",
      "max_pooling1d_1 (MaxPooling1D)  (None, 74, 64)       0           concatenate_1[0][0]              \n",
      "__________________________________________________________________________________________________\n",
      "lstm (LSTM)                     (None, 100)          44000       input_5[0][0]                    \n",
      "__________________________________________________________________________________________________\n",
      "flatten (Flatten)               (None, 4736)         0           max_pooling1d_1[0][0]            \n",
      "__________________________________________________________________________________________________\n",
      "flatten_1 (Flatten)             (None, 100)          0           lstm[0][0]                       \n",
      "__________________________________________________________________________________________________\n",
      "dense (Dense)                   (None, 512)          2425344     flatten[0][0]                    \n",
      "__________________________________________________________________________________________________\n",
      "dense_1 (Dense)                 (None, 512)          51712       flatten_1[0][0]                  \n",
      "__________________________________________________________________________________________________\n",
      "dropout (Dropout)               (None, 512)          0           dense[0][0]                      \n",
      "__________________________________________________________________________________________________\n",
      "dropout_1 (Dropout)             (None, 512)          0           dense_1[0][0]                    \n",
      "__________________________________________________________________________________________________\n",
      "concatenate_2 (Concatenate)     (None, 1024)         0           dropout[0][0]                    \n",
      "                                                                 dropout_1[0][0]                  \n",
      "__________________________________________________________________________________________________\n",
      "flatten_2 (Flatten)             (None, 1024)         0           concatenate_2[0][0]              \n",
      "__________________________________________________________________________________________________\n",
      "dropout_2 (Dropout)             (None, 1024)         0           flatten_2[0][0]                  \n",
      "__________________________________________________________________________________________________\n",
      "dense_2 (Dense)                 (None, 6)            6150        dropout_2[0][0]                  \n",
      "==================================================================================================\n",
      "Total params: 2,752,230\n",
      "Trainable params: 2,752,230\n",
      "Non-trainable params: 0\n",
      "__________________________________________________________________________________________________\n"
     ]
    }
   ],
   "source": [
    "cnnlstm_model.summary()"
   ]
  },
  {
   "cell_type": "code",
   "execution_count": 15,
   "id": "97fc321d",
   "metadata": {},
   "outputs": [
    {
     "name": "stdout",
     "output_type": "stream",
     "text": [
      "Epoch 1/10\n",
      "230/230 [==============================] - 106s 233ms/step - loss: 0.6565 - accuracy: 0.7384 - val_loss: 0.2667 - val_accuracy: 0.8846\n",
      "Epoch 2/10\n",
      "230/230 [==============================] - 43s 189ms/step - loss: 0.1381 - accuracy: 0.9449 - val_loss: 0.2827 - val_accuracy: 0.9094\n",
      "Epoch 3/10\n",
      "230/230 [==============================] - 36s 156ms/step - loss: 0.1066 - accuracy: 0.9538 - val_loss: 0.2459 - val_accuracy: 0.9196\n",
      "Epoch 4/10\n",
      "230/230 [==============================] - 39s 172ms/step - loss: 0.1086 - accuracy: 0.9555 - val_loss: 0.2637 - val_accuracy: 0.9125\n",
      "Epoch 5/10\n",
      "230/230 [==============================] - 39s 168ms/step - loss: 0.1027 - accuracy: 0.9544 - val_loss: 0.2891 - val_accuracy: 0.9179\n",
      "Epoch 6/10\n",
      "230/230 [==============================] - 43s 188ms/step - loss: 0.0924 - accuracy: 0.9540 - val_loss: 0.3526 - val_accuracy: 0.9087\n",
      "Epoch 7/10\n",
      "230/230 [==============================] - 43s 187ms/step - loss: 0.0797 - accuracy: 0.9632 - val_loss: 0.3595 - val_accuracy: 0.9233\n",
      "Epoch 8/10\n",
      "230/230 [==============================] - 33s 144ms/step - loss: 0.0992 - accuracy: 0.9581 - val_loss: 0.3280 - val_accuracy: 0.9247\n",
      "Epoch 9/10\n",
      "230/230 [==============================] - 44s 192ms/step - loss: 0.0837 - accuracy: 0.9642 - val_loss: 0.2880 - val_accuracy: 0.9332\n",
      "Epoch 10/10\n",
      "230/230 [==============================] - 44s 193ms/step - loss: 0.0694 - accuracy: 0.9655 - val_loss: 0.3854 - val_accuracy: 0.9328\n"
     ]
    }
   ],
   "source": [
    "cnnlstm_model.compile(loss='categorical_crossentropy', optimizer='adam', metrics=['accuracy'])\n",
    "# fit network\n",
    "model_history=cnnlstm_model.fit(x=[trainX,trainX,trainX,trainX,trainX], y=trainy_one_hot, epochs=10, batch_size=32,validation_data= ([testX,testX,testX,testX,testX],testy_one_hot))"
   ]
  },
  {
   "cell_type": "code",
   "execution_count": 16,
   "id": "b846c3b8",
   "metadata": {},
   "outputs": [],
   "source": [
    "import matplotlib.pyplot as plt\n",
    "import seaborn as sns"
   ]
  },
  {
   "cell_type": "code",
   "execution_count": 17,
   "id": "2485a9e4",
   "metadata": {},
   "outputs": [
    {
     "data": {
      "image/png": "[encoded data removed]",
      "text/plain": [
       "<Figure size 432x288 with 1 Axes>"
      ]
     },
     "metadata": {
      "needs_background": "light"
     },
     "output_type": "display_data"
    }
   ],
   "source": [
    "loss =model_history.history['loss']\n",
    "val_loss =model_history.history['val_loss']\n",
    "epochs = range(1, len(loss) + 1)\n",
    "plt.plot(epochs, loss, 'y', label='Training loss')\n",
    "plt.plot(epochs, val_loss, 'r', label='Validation loss')\n",
    "plt.title('Training and validation loss')\n",
    "plt.xlabel('Epochs')\n",
    "plt.ylabel('Loss')\n",
    "plt.legend()\n",
    "plt.show()"
   ]
  },
  {
   "cell_type": "code",
   "execution_count": 18,
   "id": "3a5b8fea",
   "metadata": {},
   "outputs": [
    {
     "data": {
      "image/png": "[encoded data removed]",
      "text/plain": [
       "<Figure size 432x288 with 1 Axes>"
      ]
     },
     "metadata": {
      "needs_background": "light"
     },
     "output_type": "display_data"
    }
   ],
   "source": [
    "acc =model_history.history['accuracy']\n",
    "val_acc =model_history.history['val_accuracy']\n",
    "plt.plot(epochs, acc, 'y', label='Training acc')\n",
    "plt.plot(epochs, val_acc, 'r', label='Validation acc')\n",
    "plt.title('Training and validation accuracy')\n",
    "plt.xlabel('Epochs')\n",
    "plt.ylabel('Accuracy')\n",
    "plt.legend()\n",
    "plt.show()"
   ]
  },
  {
   "cell_type": "code",
   "execution_count": null,
   "id": "da0245a6",
   "metadata": {},
   "outputs": [],
   "source": []
  }
 ],
 "metadata": {
  "kernelspec": {
   "display_name": "dLenv",
   "language": "python",
   "name": "dlenv"
  },
  "language_info": {
   "codemirror_mode": {
    "name": "ipython",
    "version": 3
   },
   "file_extension": ".py",
   "mimetype": "text/x-python",
   "name": "python",
   "nbconvert_exporter": "python",
   "pygments_lexer": "ipython3",
   "version": "3.8.10"
  }
 },
 "nbformat": 4,
 "nbformat_minor": 5
}
