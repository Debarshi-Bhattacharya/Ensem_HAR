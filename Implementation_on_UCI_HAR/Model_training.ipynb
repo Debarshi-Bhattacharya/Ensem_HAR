{
 "cells": [
  {
   "cell_type": "code",
   "execution_count": 1,
   "metadata": {},
   "outputs": [],
   "source": [
    "import numpy as np\n",
    "import pandas as pd\n",
    "from tensorflow.keras.utils import to_categorical\n",
    "import matplotlib.pyplot as plt\n",
    "import seaborn as sns\n",
    "import sys\n",
    "from keras.models import Model\n",
    "from sklearn.metrics import accuracy_score as acc\n",
    "from sklearn.metrics import confusion_matrix,classification_report\n",
    "\n",
    "def load_file(filepath):\n",
    "    dataframe = pd.read_csv(filepath, header=None, delim_whitespace=True)\n",
    "    return dataframe.values\n",
    "\n",
    "\n",
    "\n",
    "# load a list of files and return as a 3d numpy array\n",
    "def load_group(filenames, prefix=''):\n",
    "    loaded = list()\n",
    "    for name in filenames:\n",
    "        data = load_file(prefix + name)\n",
    "        loaded.append(data)\n",
    "    # stack group so that features are the 3rd dimension\n",
    "    loaded = np.dstack(loaded)\n",
    "    return loaded\n",
    "\n",
    "# load a dataset group, such as train or test\n",
    "def load_dataset_group(group, prefix=''):\n",
    "    filepath = prefix + group + '/Inertial Signals/'\n",
    "    # load all 9 files as a single array\n",
    "    filenames = list()\n",
    "    # total acceleration\n",
    "    filenames += ['total_acc_x_'+group+'.txt', 'total_acc_y_'+group+'.txt', 'total_acc_z_'+group+'.txt']\n",
    "    # body acceleration\n",
    "    filenames += ['body_acc_x_'+group+'.txt', 'body_acc_y_'+group+'.txt', 'body_acc_z_'+group+'.txt']\n",
    "    # body gyroscope\n",
    "    filenames += ['body_gyro_x_'+group+'.txt', 'body_gyro_y_'+group+'.txt', 'body_gyro_z_'+group+'.txt']\n",
    "    # load input data\n",
    "    X = load_group(filenames, filepath)\n",
    "    # load class output\n",
    "    y = load_file(prefix + group + '/y_'+group+'.txt')\n",
    "    return X, y\n",
    "\n",
    "\n",
    "# load the dataset, returns train and test X and y elements\n",
    "def load_dataset(prefix=''):\n",
    "    # load all train\n",
    "    trainX, trainy = load_dataset_group('train', prefix + '..//Datasets//UCI HAR Dataset//')\n",
    "    # load all test\n",
    "    testX, testy = load_dataset_group('test', prefix + '..//Datasets//UCI HAR Dataset//')\n",
    "    \n",
    "    #zero-offset class values\n",
    "    trainy = trainy - 1\n",
    "    testy = testy - 1\n",
    "    #one hot encode y\n",
    "    trainy_one_hot = to_categorical(trainy)\n",
    "    testy_one_hot = to_categorical(testy)\n",
    "    print(trainX.shape, trainy.shape, trainy_one_hot.shape, testX.shape, testy.shape, testy_one_hot.shape)\n",
    "    return trainX, trainy, trainy_one_hot, testX, testy, testy_one_hot\n"
   ]
  },
  {
   "cell_type": "code",
   "execution_count": 2,
   "metadata": {},
   "outputs": [
    {
     "name": "stdout",
     "output_type": "stream",
     "text": [
      "(7352, 128, 9) (7352, 1) (7352, 6) (2947, 128, 9) (2947, 1) (2947, 6)\n"
     ]
    }
   ],
   "source": [
    "trainX, trainy, trainy_one_hot, testX, testy, testy_one_hot = load_dataset()"
   ]
  },
  {
   "cell_type": "code",
   "execution_count": 3,
   "metadata": {},
   "outputs": [],
   "source": [
    "from sklearn.model_selection import train_test_split\n",
    "X_train,X_val,y_train_one_hot,y_val_one_hot,y_train,y_val=train_test_split(trainX, trainy_one_hot, trainy,test_size=0.3,random_state=100)"
   ]
  },
  {
   "cell_type": "code",
   "execution_count": 4,
   "metadata": {},
   "outputs": [
    {
     "data": {
      "text/plain": [
       "((5146, 128, 9), (2206, 128, 9), (5146, 6), (2206, 6), (5146, 1), (2206, 1))"
      ]
     },
     "execution_count": 4,
     "metadata": {},
     "output_type": "execute_result"
    }
   ],
   "source": [
    "X_train.shape,X_val.shape,y_train_one_hot.shape,y_val_one_hot.shape,y_train.shape,y_val.shape"
   ]
  },
  {
   "cell_type": "code",
   "execution_count": 5,
   "metadata": {},
   "outputs": [],
   "source": [
    "n_timesteps, n_features, n_outputs = X_train.shape[1], X_train.shape[2], y_train_one_hot.shape[1]"
   ]
  },
  {
   "cell_type": "code",
   "execution_count": 6,
   "metadata": {},
   "outputs": [
    {
     "data": {
      "text/plain": [
       "(128, 9, 6)"
      ]
     },
     "execution_count": 6,
     "metadata": {},
     "output_type": "execute_result"
    }
   ],
   "source": [
    "n_timesteps, n_features, n_outputs "
   ]
  },
  {
   "cell_type": "code",
   "execution_count": 7,
   "metadata": {},
   "outputs": [],
   "source": [
    "sys.path.append(\"..//Base_Models\")"
   ]
  },
  {
   "cell_type": "code",
   "execution_count": 8,
   "metadata": {},
   "outputs": [],
   "source": [
    "from model1 import cnn"
   ]
  },
  {
   "cell_type": "code",
   "execution_count": 9,
   "metadata": {},
   "outputs": [],
   "source": [
    "m1=cnn(n_timesteps, n_features, n_outputs)"
   ]
  },
  {
   "cell_type": "code",
   "execution_count": 10,
   "metadata": {},
   "outputs": [
    {
     "name": "stdout",
     "output_type": "stream",
     "text": [
      "Epoch 1/30\n",
      "81/81 [==============================] - 32s 301ms/step - loss: 0.3540 - accuracy: 0.8599 - val_loss: 0.2843 - val_accuracy: 0.8996\n",
      "Epoch 2/30\n",
      "81/81 [==============================] - 9s 117ms/step - loss: 0.1277 - accuracy: 0.9450 - val_loss: 0.2060 - val_accuracy: 0.9121\n",
      "Epoch 3/30\n",
      "81/81 [==============================] - 9s 110ms/step - loss: 0.1119 - accuracy: 0.9526 - val_loss: 0.2272 - val_accuracy: 0.9209\n",
      "Epoch 4/30\n",
      "81/81 [==============================] - 8s 104ms/step - loss: 0.1048 - accuracy: 0.9536 - val_loss: 0.2041 - val_accuracy: 0.9270\n",
      "Epoch 5/30\n",
      "81/81 [==============================] - 8s 101ms/step - loss: 0.0978 - accuracy: 0.9567 - val_loss: 0.2281 - val_accuracy: 0.9128\n",
      "Epoch 6/30\n",
      "81/81 [==============================] - 8s 96ms/step - loss: 0.0948 - accuracy: 0.9574 - val_loss: 0.1915 - val_accuracy: 0.9216\n",
      "Epoch 7/30\n",
      "81/81 [==============================] - 8s 96ms/step - loss: 0.0909 - accuracy: 0.9623 - val_loss: 0.2187 - val_accuracy: 0.9165\n",
      "Epoch 8/30\n",
      "81/81 [==============================] - 8s 98ms/step - loss: 0.1143 - accuracy: 0.9514 - val_loss: 0.3017 - val_accuracy: 0.9009\n",
      "Epoch 9/30\n",
      "81/81 [==============================] - 8s 101ms/step - loss: 0.0999 - accuracy: 0.9582 - val_loss: 0.2735 - val_accuracy: 0.9114\n",
      "Epoch 10/30\n",
      "81/81 [==============================] - 8s 96ms/step - loss: 0.0839 - accuracy: 0.9627 - val_loss: 0.2731 - val_accuracy: 0.9172\n",
      "Epoch 11/30\n",
      "81/81 [==============================] - 8s 94ms/step - loss: 0.0725 - accuracy: 0.9679 - val_loss: 0.2713 - val_accuracy: 0.9135\n",
      "Epoch 12/30\n",
      "81/81 [==============================] - 7s 82ms/step - loss: 0.0681 - accuracy: 0.9703 - val_loss: 0.2489 - val_accuracy: 0.9125\n",
      "Epoch 13/30\n",
      "81/81 [==============================] - 6s 77ms/step - loss: 0.0666 - accuracy: 0.9701 - val_loss: 0.2668 - val_accuracy: 0.9216\n",
      "Epoch 14/30\n",
      "81/81 [==============================] - 6s 75ms/step - loss: 0.0599 - accuracy: 0.9726 - val_loss: 0.3947 - val_accuracy: 0.9206\n",
      "Epoch 15/30\n",
      "81/81 [==============================] - 6s 74ms/step - loss: 0.0759 - accuracy: 0.9693 - val_loss: 0.3031 - val_accuracy: 0.9277\n",
      "Epoch 16/30\n",
      "81/81 [==============================] - 6s 75ms/step - loss: 0.0628 - accuracy: 0.9718 - val_loss: 0.2917 - val_accuracy: 0.9141\n",
      "Epoch 17/30\n",
      "81/81 [==============================] - 6s 76ms/step - loss: 0.0731 - accuracy: 0.9705 - val_loss: 0.3481 - val_accuracy: 0.9101\n",
      "Epoch 18/30\n",
      "81/81 [==============================] - 6s 75ms/step - loss: 0.0522 - accuracy: 0.9765 - val_loss: 0.2845 - val_accuracy: 0.9311\n",
      "Epoch 19/30\n",
      "81/81 [==============================] - 6s 75ms/step - loss: 0.0591 - accuracy: 0.9773 - val_loss: 0.3633 - val_accuracy: 0.9291\n",
      "Epoch 20/30\n",
      "81/81 [==============================] - 6s 74ms/step - loss: 0.0699 - accuracy: 0.9697 - val_loss: 0.4542 - val_accuracy: 0.9240\n",
      "Epoch 21/30\n",
      "81/81 [==============================] - 6s 80ms/step - loss: 0.0503 - accuracy: 0.9769 - val_loss: 0.4499 - val_accuracy: 0.9155\n",
      "Epoch 22/30\n",
      "81/81 [==============================] - 8s 98ms/step - loss: 0.0409 - accuracy: 0.9815 - val_loss: 0.4357 - val_accuracy: 0.9155\n",
      "Epoch 23/30\n",
      "81/81 [==============================] - 8s 100ms/step - loss: 0.0396 - accuracy: 0.9837 - val_loss: 0.4336 - val_accuracy: 0.9260\n",
      "Epoch 24/30\n",
      "81/81 [==============================] - 8s 97ms/step - loss: 0.0419 - accuracy: 0.9831 - val_loss: 0.4619 - val_accuracy: 0.9223\n",
      "Epoch 25/30\n",
      "81/81 [==============================] - 8s 97ms/step - loss: 0.0361 - accuracy: 0.9829 - val_loss: 0.4471 - val_accuracy: 0.9199\n",
      "Epoch 26/30\n",
      "81/81 [==============================] - 8s 97ms/step - loss: 0.0356 - accuracy: 0.9845 - val_loss: 0.4879 - val_accuracy: 0.9199\n",
      "Epoch 27/30\n",
      "81/81 [==============================] - 8s 96ms/step - loss: 0.0455 - accuracy: 0.9808 - val_loss: 0.3734 - val_accuracy: 0.9257\n",
      "Epoch 28/30\n",
      "81/81 [==============================] - 8s 98ms/step - loss: 0.0381 - accuracy: 0.9841 - val_loss: 0.4032 - val_accuracy: 0.9237\n",
      "Epoch 29/30\n",
      "81/81 [==============================] - 8s 99ms/step - loss: 0.0315 - accuracy: 0.9856 - val_loss: 0.4842 - val_accuracy: 0.9247\n",
      "Epoch 30/30\n",
      "81/81 [==============================] - 8s 98ms/step - loss: 0.0238 - accuracy: 0.9891 - val_loss: 0.4791 - val_accuracy: 0.9243\n",
      "Model: \"model\"\n",
      "__________________________________________________________________________________________________\n",
      " Layer (type)                   Output Shape         Param #     Connected to                     \n",
      "==================================================================================================\n",
      " input_1 (InputLayer)           [(None, 128, 9)]     0           []                               \n",
      "                                                                                                  \n",
      " input_2 (InputLayer)           [(None, 128, 9)]     0           []                               \n",
      "                                                                                                  \n",
      " input_3 (InputLayer)           [(None, 128, 9)]     0           []                               \n",
      "                                                                                                  \n",
      " input_4 (InputLayer)           [(None, 128, 9)]     0           []                               \n",
      "                                                                                                  \n",
      " conv1d (Conv1D)                (None, 126, 128)     3584        ['input_1[0][0]']                \n",
      "                                                                                                  \n",
      " conv1d_1 (Conv1D)              (None, 124, 128)     5888        ['input_2[0][0]']                \n",
      "                                                                                                  \n",
      " conv1d_2 (Conv1D)              (None, 122, 128)     8192        ['input_3[0][0]']                \n",
      "                                                                                                  \n",
      " conv1d_3 (Conv1D)              (None, 120, 128)     10496       ['input_4[0][0]']                \n",
      "                                                                                                  \n",
      " concatenate (Concatenate)      (None, 492, 128)     0           ['conv1d[0][0]',                 \n",
      "                                                                  'conv1d_1[0][0]',               \n",
      "                                                                  'conv1d_2[0][0]',               \n",
      "                                                                  'conv1d_3[0][0]']               \n",
      "                                                                                                  \n",
      " max_pooling1d (MaxPooling1D)   (None, 98, 128)      0           ['concatenate[0][0]']            \n",
      "                                                                                                  \n",
      " conv1d_4 (Conv1D)              (None, 96, 64)       24640       ['max_pooling1d[0][0]']          \n",
      "                                                                                                  \n",
      " conv1d_5 (Conv1D)              (None, 94, 64)       41024       ['max_pooling1d[0][0]']          \n",
      "                                                                                                  \n",
      " conv1d_6 (Conv1D)              (None, 92, 64)       57408       ['max_pooling1d[0][0]']          \n",
      "                                                                                                  \n",
      " conv1d_7 (Conv1D)              (None, 90, 64)       73792       ['max_pooling1d[0][0]']          \n",
      "                                                                                                  \n",
      " concatenate_1 (Concatenate)    (None, 372, 64)      0           ['conv1d_4[0][0]',               \n",
      "                                                                  'conv1d_5[0][0]',               \n",
      "                                                                  'conv1d_6[0][0]',               \n",
      "                                                                  'conv1d_7[0][0]']               \n",
      "                                                                                                  \n",
      " max_pooling1d_1 (MaxPooling1D)  (None, 74, 64)      0           ['concatenate_1[0][0]']          \n",
      "                                                                                                  \n",
      " conv1d_8 (Conv1D)              (None, 72, 32)       6176        ['max_pooling1d_1[0][0]']        \n",
      "                                                                                                  \n",
      " conv1d_9 (Conv1D)              (None, 70, 32)       10272       ['max_pooling1d_1[0][0]']        \n",
      "                                                                                                  \n",
      " conv1d_10 (Conv1D)             (None, 68, 32)       14368       ['max_pooling1d_1[0][0]']        \n",
      "                                                                                                  \n",
      " conv1d_11 (Conv1D)             (None, 66, 32)       18464       ['max_pooling1d_1[0][0]']        \n",
      "                                                                                                  \n",
      " concatenate_2 (Concatenate)    (None, 276, 32)      0           ['conv1d_8[0][0]',               \n",
      "                                                                  'conv1d_9[0][0]',               \n",
      "                                                                  'conv1d_10[0][0]',              \n",
      "                                                                  'conv1d_11[0][0]']              \n",
      "                                                                                                  \n",
      " max_pooling1d_2 (MaxPooling1D)  (None, 55, 32)      0           ['concatenate_2[0][0]']          \n",
      "                                                                                                  \n",
      " flatten (Flatten)              (None, 1760)         0           ['max_pooling1d_2[0][0]']        \n",
      "                                                                                                  \n",
      " dense (Dense)                  (None, 512)          901632      ['flatten[0][0]']                \n",
      "                                                                                                  \n",
      " dense_1 (Dense)                (None, 6)            3078        ['dense[0][0]']                  \n",
      "                                                                                                  \n",
      "==================================================================================================\n",
      "Total params: 1,179,014\n",
      "Trainable params: 1,179,014\n",
      "Non-trainable params: 0\n",
      "__________________________________________________________________________________________________\n"
     ]
    }
   ],
   "source": [
    "model1=m1.do_compile(X_train, testX,y_train_one_hot,testy_one_hot)"
   ]
  },
  {
   "cell_type": "code",
   "execution_count": 11,
   "metadata": {},
   "outputs": [
    {
     "name": "stdout",
     "output_type": "stream",
     "text": [
      "[[488   0   2   5   0   1]\n",
      " [ 13 434   1  23   0   0]\n",
      " [  0   2 413   4   0   1]\n",
      " [  0   1   0 416  73   1]\n",
      " [  1   0   0  69 462   0]\n",
      " [  0  20   0   0   0 517]]\n",
      "0.9263657957244655\n",
      "classification_report of model1:\n",
      "              precision    recall  f1-score   support\n",
      "\n",
      "           0       0.97      0.98      0.98       496\n",
      "           1       0.95      0.92      0.94       471\n",
      "           2       0.99      0.98      0.99       420\n",
      "           3       0.80      0.85      0.83       491\n",
      "           4       0.86      0.87      0.87       532\n",
      "           5       0.99      0.96      0.98       537\n",
      "\n",
      "    accuracy                           0.93      2947\n",
      "   macro avg       0.93      0.93      0.93      2947\n",
      "weighted avg       0.93      0.93      0.93      2947\n",
      "\n"
     ]
    },
    {
     "data": {
      "text/plain": [
       "<AxesSubplot:>"
      ]
     },
     "execution_count": 11,
     "metadata": {},
     "output_type": "execute_result"
    }
   ],
   "source": [
    "predy=m1.prediction(testX)\n",
    "cm=confusion_matrix(testy,predy)\n",
    "print(cm)\n",
    "print(acc(testy,predy))\n",
    "print(\"classification_report of model1:\")\n",
    "print(classification_report(testy,predy))\n",
    "sns.heatmap(cm, annot=True)"
   ]
  },
  {
   "cell_type": "code",
   "execution_count": 24,
   "metadata": {},
   "outputs": [],
   "source": [
    "model1.save(\"Models_h5//model1.h5\")"
   ]
  },
  {
   "cell_type": "code",
   "execution_count": 11,
   "metadata": {},
   "outputs": [],
   "source": [
    "from model2 import cnn_lstm"
   ]
  },
  {
   "cell_type": "code",
   "execution_count": 12,
   "metadata": {},
   "outputs": [],
   "source": [
    "m2=cnn_lstm(n_timesteps, n_features, n_outputs)"
   ]
  },
  {
   "cell_type": "code",
   "execution_count": 13,
   "metadata": {},
   "outputs": [
    {
     "name": "stdout",
     "output_type": "stream",
     "text": [
      "Epoch 1/30\n",
      "81/81 [==============================] - 14s 122ms/step - loss: 0.4875 - accuracy: 0.8070 - val_loss: 0.2566 - val_accuracy: 0.8945\n",
      "Epoch 2/30\n",
      "81/81 [==============================] - 9s 112ms/step - loss: 0.1503 - accuracy: 0.9435 - val_loss: 0.2155 - val_accuracy: 0.9128\n",
      "Epoch 3/30\n",
      "81/81 [==============================] - 9s 113ms/step - loss: 0.1345 - accuracy: 0.9450 - val_loss: 0.2274 - val_accuracy: 0.9094\n",
      "Epoch 4/30\n",
      "81/81 [==============================] - 9s 114ms/step - loss: 0.1208 - accuracy: 0.9454 - val_loss: 0.2012 - val_accuracy: 0.9091\n",
      "Epoch 5/30\n",
      "81/81 [==============================] - 9s 114ms/step - loss: 0.1075 - accuracy: 0.9539 - val_loss: 0.2278 - val_accuracy: 0.9077\n",
      "Epoch 6/30\n",
      "81/81 [==============================] - 9s 110ms/step - loss: 0.1066 - accuracy: 0.9536 - val_loss: 0.2171 - val_accuracy: 0.9196\n",
      "Epoch 7/30\n",
      "81/81 [==============================] - 9s 111ms/step - loss: 0.0994 - accuracy: 0.9539 - val_loss: 0.2407 - val_accuracy: 0.9131\n",
      "Epoch 8/30\n",
      "81/81 [==============================] - 9s 112ms/step - loss: 0.1167 - accuracy: 0.9499 - val_loss: 0.2017 - val_accuracy: 0.9332\n",
      "Epoch 9/30\n",
      "81/81 [==============================] - 9s 111ms/step - loss: 0.1114 - accuracy: 0.9547 - val_loss: 0.2428 - val_accuracy: 0.9118\n",
      "Epoch 10/30\n",
      "81/81 [==============================] - 9s 111ms/step - loss: 0.0907 - accuracy: 0.9609 - val_loss: 0.2449 - val_accuracy: 0.9169\n",
      "Epoch 11/30\n",
      "81/81 [==============================] - 9s 112ms/step - loss: 0.0789 - accuracy: 0.9640 - val_loss: 0.2592 - val_accuracy: 0.9277\n",
      "Epoch 12/30\n",
      "81/81 [==============================] - 10s 118ms/step - loss: 0.0924 - accuracy: 0.9594 - val_loss: 0.3304 - val_accuracy: 0.9141\n",
      "Epoch 13/30\n",
      "81/81 [==============================] - 9s 114ms/step - loss: 0.0874 - accuracy: 0.9611 - val_loss: 0.2914 - val_accuracy: 0.9332\n",
      "Epoch 14/30\n",
      "81/81 [==============================] - 9s 112ms/step - loss: 0.0745 - accuracy: 0.9650 - val_loss: 0.3210 - val_accuracy: 0.9189\n",
      "Epoch 15/30\n",
      "81/81 [==============================] - 9s 113ms/step - loss: 0.0714 - accuracy: 0.9677 - val_loss: 0.2813 - val_accuracy: 0.9304\n",
      "Epoch 16/30\n",
      "81/81 [==============================] - 9s 114ms/step - loss: 0.0762 - accuracy: 0.9658 - val_loss: 0.3597 - val_accuracy: 0.9233\n",
      "Epoch 17/30\n",
      "81/81 [==============================] - 9s 114ms/step - loss: 0.0913 - accuracy: 0.9611 - val_loss: 0.3044 - val_accuracy: 0.9196\n",
      "Epoch 18/30\n",
      "81/81 [==============================] - 9s 114ms/step - loss: 0.0778 - accuracy: 0.9679 - val_loss: 0.3484 - val_accuracy: 0.9253\n",
      "Epoch 19/30\n",
      "81/81 [==============================] - 9s 117ms/step - loss: 0.0661 - accuracy: 0.9687 - val_loss: 0.4311 - val_accuracy: 0.9155\n",
      "Epoch 20/30\n",
      "81/81 [==============================] - 9s 113ms/step - loss: 0.0677 - accuracy: 0.9707 - val_loss: 0.3155 - val_accuracy: 0.9359\n",
      "Epoch 21/30\n",
      "81/81 [==============================] - 9s 113ms/step - loss: 0.0598 - accuracy: 0.9699 - val_loss: 0.5224 - val_accuracy: 0.9253\n",
      "Epoch 22/30\n",
      "81/81 [==============================] - 9s 113ms/step - loss: 0.0535 - accuracy: 0.9769 - val_loss: 0.4710 - val_accuracy: 0.9304\n",
      "Epoch 23/30\n",
      "81/81 [==============================] - 9s 114ms/step - loss: 0.0473 - accuracy: 0.9786 - val_loss: 0.6259 - val_accuracy: 0.9277\n",
      "Epoch 24/30\n",
      "81/81 [==============================] - 9s 116ms/step - loss: 0.0585 - accuracy: 0.9749 - val_loss: 0.6411 - val_accuracy: 0.9233\n",
      "Epoch 25/30\n",
      "81/81 [==============================] - 9s 116ms/step - loss: 0.0588 - accuracy: 0.9763 - val_loss: 0.5591 - val_accuracy: 0.9277\n",
      "Epoch 26/30\n",
      "81/81 [==============================] - 10s 118ms/step - loss: 0.0493 - accuracy: 0.9773 - val_loss: 0.5520 - val_accuracy: 0.9311\n",
      "Epoch 27/30\n",
      "81/81 [==============================] - 9s 114ms/step - loss: 0.0380 - accuracy: 0.9833 - val_loss: 0.6529 - val_accuracy: 0.9291\n",
      "Epoch 28/30\n",
      "81/81 [==============================] - 13s 164ms/step - loss: 0.0491 - accuracy: 0.9780 - val_loss: 0.6897 - val_accuracy: 0.9318\n",
      "Epoch 29/30\n",
      "81/81 [==============================] - 10s 126ms/step - loss: 0.0393 - accuracy: 0.9833 - val_loss: 0.7543 - val_accuracy: 0.9355\n",
      "Epoch 30/30\n",
      "81/81 [==============================] - 10s 118ms/step - loss: 0.0628 - accuracy: 0.9767 - val_loss: 0.7671 - val_accuracy: 0.9352\n"
     ]
    }
   ],
   "source": [
    "model2=m2.do_compile(X_train, testX,y_train_one_hot,testy_one_hot)"
   ]
  },
  {
   "cell_type": "code",
   "execution_count": 18,
   "metadata": {},
   "outputs": [
    {
     "name": "stdout",
     "output_type": "stream",
     "text": [
      "[[472   7  17   0   0   0]\n",
      " [  0 463   8   0   0   0]\n",
      " [  0   1 419   0   0   0]\n",
      " [  0   2   0 400  82   7]\n",
      " [  0   0   0  40 492   0]\n",
      " [  0   0   0   0   0 537]]\n",
      "0.9443501866304717\n",
      "classification_report of model2:\n",
      "              precision    recall  f1-score   support\n",
      "\n",
      "           0       1.00      0.95      0.98       496\n",
      "           1       0.98      0.98      0.98       471\n",
      "           2       0.94      1.00      0.97       420\n",
      "           3       0.91      0.81      0.86       491\n",
      "           4       0.86      0.92      0.89       532\n",
      "           5       0.99      1.00      0.99       537\n",
      "\n",
      "    accuracy                           0.94      2947\n",
      "   macro avg       0.95      0.95      0.94      2947\n",
      "weighted avg       0.95      0.94      0.94      2947\n",
      "\n"
     ]
    },
    {
     "data": {
      "text/plain": [
       "<AxesSubplot:>"
      ]
     },
     "execution_count": 18,
     "metadata": {},
     "output_type": "execute_result"
    }
   ],
   "source": [
    "predy=m2.prediction(testX)\n",
    "cm=confusion_matrix(testy,predy)\n",
    "print(cm)\n",
    "print(acc(testy,predy))\n",
    "print(\"classification_report of model2:\")\n",
    "print(classification_report(testy,predy))\n",
    "sns.heatmap(cm, annot=True)"
   ]
  },
  {
   "cell_type": "code",
   "execution_count": 19,
   "metadata": {},
   "outputs": [],
   "source": [
    "model2.save(\"Models_h5//model2.h5\")\n"
   ]
  },
  {
   "cell_type": "code",
   "execution_count": 14,
   "id": "1712d38b",
   "metadata": {},
   "outputs": [],
   "source": [
    "model2.save(\"Models_h5//model2_2.h5\")"
   ]
  },
  {
   "cell_type": "code",
   "execution_count": 16,
   "metadata": {},
   "outputs": [],
   "source": [
    "from model3 import Conv_LSTM"
   ]
  },
  {
   "cell_type": "code",
   "execution_count": 17,
   "metadata": {},
   "outputs": [],
   "source": [
    "m3=Conv_LSTM(n_timesteps, n_features, n_outputs)"
   ]
  },
  {
   "cell_type": "code",
   "execution_count": 19,
   "metadata": {},
   "outputs": [
    {
     "name": "stdout",
     "output_type": "stream",
     "text": [
      "Trial 10 Complete [00h 01m 15s]\n",
      "val_accuracy: 0.9165253043174744\n",
      "\n",
      "Best val_accuracy So Far: 0.9243298172950745\n",
      "Total elapsed time: 00h 13m 31s\n",
      "INFO:tensorflow:Oracle triggered exit\n"
     ]
    },
    {
     "name": "stdout",
     "output_type": "stream",
     "text": [
      "Epoch 11/30\n",
      "161/161 [==============================] - 12s 41ms/step - loss: 0.1452 - accuracy: 0.9425 - val_loss: 0.2302 - val_accuracy: 0.9260\n",
      "Epoch 12/30\n",
      "161/161 [==============================] - 5s 34ms/step - loss: 0.1085 - accuracy: 0.9522 - val_loss: 0.3375 - val_accuracy: 0.8982\n",
      "Epoch 13/30\n",
      "161/161 [==============================] - 5s 34ms/step - loss: 0.1452 - accuracy: 0.9440 - val_loss: 0.4125 - val_accuracy: 0.9097\n",
      "Epoch 14/30\n",
      "161/161 [==============================] - 5s 34ms/step - loss: 0.1191 - accuracy: 0.9522 - val_loss: 0.2907 - val_accuracy: 0.9206\n",
      "Epoch 15/30\n",
      "161/161 [==============================] - 6s 35ms/step - loss: 0.1081 - accuracy: 0.9522 - val_loss: 0.3346 - val_accuracy: 0.9158\n",
      "Epoch 16/30\n",
      "161/161 [==============================] - 6s 35ms/step - loss: 0.1234 - accuracy: 0.9539 - val_loss: 0.3607 - val_accuracy: 0.9121\n",
      "Epoch 17/30\n",
      "161/161 [==============================] - 5s 34ms/step - loss: 0.1101 - accuracy: 0.9545 - val_loss: 0.3890 - val_accuracy: 0.9118\n",
      "Epoch 18/30\n",
      "161/161 [==============================] - 5s 33ms/step - loss: 0.1022 - accuracy: 0.9553 - val_loss: 0.4539 - val_accuracy: 0.9060\n",
      "Epoch 19/30\n",
      "161/161 [==============================] - 5s 32ms/step - loss: 0.1107 - accuracy: 0.9524 - val_loss: 0.2154 - val_accuracy: 0.9226\n",
      "Epoch 20/30\n",
      "161/161 [==============================] - 5s 34ms/step - loss: 0.1087 - accuracy: 0.9524 - val_loss: 0.1719 - val_accuracy: 0.9315\n",
      "Epoch 21/30\n",
      "161/161 [==============================] - 5s 32ms/step - loss: 0.1019 - accuracy: 0.9571 - val_loss: 0.2100 - val_accuracy: 0.9304\n",
      "Epoch 22/30\n",
      "161/161 [==============================] - 5s 32ms/step - loss: 0.1095 - accuracy: 0.9503 - val_loss: 0.2289 - val_accuracy: 0.9267\n",
      "Epoch 23/30\n",
      "161/161 [==============================] - 5s 32ms/step - loss: 0.1016 - accuracy: 0.9541 - val_loss: 0.2283 - val_accuracy: 0.9253\n",
      "Epoch 24/30\n",
      "161/161 [==============================] - 5s 32ms/step - loss: 0.0971 - accuracy: 0.9582 - val_loss: 0.2088 - val_accuracy: 0.9257\n",
      "Epoch 25/30\n",
      "161/161 [==============================] - 5s 32ms/step - loss: 0.0997 - accuracy: 0.9520 - val_loss: 0.2496 - val_accuracy: 0.9264\n",
      "Epoch 26/30\n",
      "161/161 [==============================] - 5s 33ms/step - loss: 0.1113 - accuracy: 0.9569 - val_loss: 0.2691 - val_accuracy: 0.9243\n",
      "Epoch 27/30\n",
      "161/161 [==============================] - 6s 35ms/step - loss: 0.1068 - accuracy: 0.9553 - val_loss: 0.2764 - val_accuracy: 0.9050\n",
      "Epoch 28/30\n",
      "161/161 [==============================] - 5s 32ms/step - loss: 0.1095 - accuracy: 0.9539 - val_loss: 0.2489 - val_accuracy: 0.9169\n",
      "Epoch 29/30\n",
      "161/161 [==============================] - 5s 32ms/step - loss: 0.1064 - accuracy: 0.9541 - val_loss: 0.1951 - val_accuracy: 0.9328\n",
      "Epoch 30/30\n",
      "161/161 [==============================] - 5s 32ms/step - loss: 0.1033 - accuracy: 0.9545 - val_loss: 0.2447 - val_accuracy: 0.9253\n"
     ]
    }
   ],
   "source": [
    "model3=m3.do_compile(X_train,testX,y_train_one_hot,testy_one_hot)"
   ]
  },
  {
   "cell_type": "code",
   "execution_count": 20,
   "metadata": {},
   "outputs": [
    {
     "name": "stdout",
     "output_type": "stream",
     "text": [
      "[[460   2   2   0  32   0]\n",
      " [  2 460   9   0   0   0]\n",
      " [  0   3 417   0   0   0]\n",
      " [  0  11   0 410  70   0]\n",
      " [  0   0   0  89 443   0]\n",
      " [  0   0   0   0   0 537]]\n",
      "0.9253478113335596\n",
      "classification_report of model3:\n",
      "              precision    recall  f1-score   support\n",
      "\n",
      "           0       1.00      0.93      0.96       496\n",
      "           1       0.97      0.98      0.97       471\n",
      "           2       0.97      0.99      0.98       420\n",
      "           3       0.82      0.84      0.83       491\n",
      "           4       0.81      0.83      0.82       532\n",
      "           5       1.00      1.00      1.00       537\n",
      "\n",
      "    accuracy                           0.93      2947\n",
      "   macro avg       0.93      0.93      0.93      2947\n",
      "weighted avg       0.93      0.93      0.93      2947\n",
      "\n"
     ]
    }
   ],
   "source": [
    "predy=m3.prediction(testX)\n",
    "cm=confusion_matrix(testy,predy)\n",
    "print(cm)\n",
    "print(acc(testy,predy))\n",
    "print(\"classification_report of model3:\")\n",
    "print(classification_report(testy,predy))"
   ]
  },
  {
   "cell_type": "code",
   "execution_count": 13,
   "metadata": {},
   "outputs": [],
   "source": [
    "model3.save(\"Models_h5//model3.h5\")"
   ]
  },
  {
   "cell_type": "code",
   "execution_count": 21,
   "id": "057d12bc",
   "metadata": {},
   "outputs": [],
   "source": [
    "model3.save(\"Models_h5//model3_2.h5\")"
   ]
  },
  {
   "cell_type": "code",
   "execution_count": 8,
   "metadata": {},
   "outputs": [],
   "source": [
    "from model4 import Layered_LSTM"
   ]
  },
  {
   "cell_type": "code",
   "execution_count": 9,
   "metadata": {},
   "outputs": [],
   "source": [
    "m4=Layered_LSTM(n_timesteps, n_features, n_outputs)"
   ]
  },
  {
   "cell_type": "code",
   "execution_count": 10,
   "metadata": {},
   "outputs": [
    {
     "name": "stdout",
     "output_type": "stream",
     "text": [
      "Epoch 1/30\n",
      "81/81 [==============================] - 16s 65ms/step - loss: 0.7300 - accuracy: 0.7217 - val_loss: 1.6820 - val_accuracy: 0.3946\n",
      "Epoch 2/30\n",
      "81/81 [==============================] - 4s 50ms/step - loss: 0.2711 - accuracy: 0.9024 - val_loss: 2.7613 - val_accuracy: 0.4201\n",
      "Epoch 3/30\n",
      "81/81 [==============================] - 4s 50ms/step - loss: 0.2014 - accuracy: 0.9273 - val_loss: 1.5058 - val_accuracy: 0.5891\n",
      "Epoch 4/30\n",
      "81/81 [==============================] - 4s 50ms/step - loss: 0.1504 - accuracy: 0.9423 - val_loss: 1.5167 - val_accuracy: 0.6817\n",
      "Epoch 5/30\n",
      "81/81 [==============================] - 4s 50ms/step - loss: 0.1691 - accuracy: 0.9370 - val_loss: 1.2652 - val_accuracy: 0.7265\n",
      "Epoch 6/30\n",
      "81/81 [==============================] - 4s 50ms/step - loss: 0.1541 - accuracy: 0.9419 - val_loss: 0.4966 - val_accuracy: 0.8680\n",
      "Epoch 7/30\n",
      "81/81 [==============================] - 4s 50ms/step - loss: 0.1622 - accuracy: 0.9411 - val_loss: 0.3253 - val_accuracy: 0.8948\n",
      "Epoch 8/30\n",
      "81/81 [==============================] - 4s 50ms/step - loss: 0.1384 - accuracy: 0.9456 - val_loss: 0.3548 - val_accuracy: 0.9169\n",
      "Epoch 9/30\n",
      "81/81 [==============================] - 4s 50ms/step - loss: 0.1282 - accuracy: 0.9468 - val_loss: 0.3710 - val_accuracy: 0.9131\n",
      "Epoch 10/30\n",
      "81/81 [==============================] - 4s 50ms/step - loss: 0.1768 - accuracy: 0.9302 - val_loss: 0.3188 - val_accuracy: 0.8996\n",
      "Epoch 11/30\n",
      "81/81 [==============================] - 4s 51ms/step - loss: 0.1243 - accuracy: 0.9499 - val_loss: 0.2291 - val_accuracy: 0.9264\n",
      "Epoch 12/30\n",
      "81/81 [==============================] - 4s 50ms/step - loss: 0.1551 - accuracy: 0.9435 - val_loss: 0.2271 - val_accuracy: 0.9226\n",
      "Epoch 13/30\n",
      "81/81 [==============================] - 4s 50ms/step - loss: 0.1269 - accuracy: 0.9454 - val_loss: 0.2993 - val_accuracy: 0.9057\n",
      "Epoch 14/30\n",
      "81/81 [==============================] - 4s 50ms/step - loss: 0.1461 - accuracy: 0.9372 - val_loss: 0.2411 - val_accuracy: 0.9155\n",
      "Epoch 15/30\n",
      "81/81 [==============================] - 4s 51ms/step - loss: 0.1318 - accuracy: 0.9415 - val_loss: 0.4070 - val_accuracy: 0.8809\n",
      "Epoch 16/30\n",
      "81/81 [==============================] - 4s 50ms/step - loss: 0.1311 - accuracy: 0.9423 - val_loss: 0.2597 - val_accuracy: 0.9172\n",
      "Epoch 17/30\n",
      "81/81 [==============================] - 4s 50ms/step - loss: 0.1198 - accuracy: 0.9508 - val_loss: 0.2464 - val_accuracy: 0.9287\n",
      "Epoch 18/30\n",
      "81/81 [==============================] - 4s 50ms/step - loss: 0.1126 - accuracy: 0.9538 - val_loss: 0.3096 - val_accuracy: 0.9216\n",
      "Epoch 19/30\n",
      "81/81 [==============================] - 4s 50ms/step - loss: 0.1086 - accuracy: 0.9543 - val_loss: 0.3035 - val_accuracy: 0.9172\n",
      "Epoch 20/30\n",
      "81/81 [==============================] - 4s 51ms/step - loss: 0.1231 - accuracy: 0.9471 - val_loss: 0.2109 - val_accuracy: 0.9158\n",
      "Epoch 21/30\n",
      "81/81 [==============================] - 4s 50ms/step - loss: 0.1485 - accuracy: 0.9421 - val_loss: 1.3862 - val_accuracy: 0.7119\n",
      "Epoch 22/30\n",
      "81/81 [==============================] - 4s 50ms/step - loss: 0.1565 - accuracy: 0.9370 - val_loss: 0.2284 - val_accuracy: 0.9325\n",
      "Epoch 23/30\n",
      "81/81 [==============================] - 4s 51ms/step - loss: 0.1168 - accuracy: 0.9495 - val_loss: 0.3930 - val_accuracy: 0.8873\n",
      "Epoch 24/30\n",
      "81/81 [==============================] - 4s 50ms/step - loss: 0.1202 - accuracy: 0.9501 - val_loss: 0.2329 - val_accuracy: 0.9250\n",
      "Epoch 25/30\n",
      "81/81 [==============================] - 4s 51ms/step - loss: 0.1116 - accuracy: 0.9538 - val_loss: 0.2211 - val_accuracy: 0.9233\n",
      "Epoch 26/30\n",
      "81/81 [==============================] - 4s 51ms/step - loss: 0.1166 - accuracy: 0.9536 - val_loss: 0.1996 - val_accuracy: 0.9321\n",
      "Epoch 27/30\n",
      "81/81 [==============================] - 4s 51ms/step - loss: 0.1109 - accuracy: 0.9536 - val_loss: 0.2200 - val_accuracy: 0.9247\n",
      "Epoch 28/30\n",
      "81/81 [==============================] - 4s 50ms/step - loss: 0.1167 - accuracy: 0.9504 - val_loss: 0.2660 - val_accuracy: 0.9135\n",
      "Epoch 29/30\n",
      "81/81 [==============================] - 4s 50ms/step - loss: 0.1187 - accuracy: 0.9569 - val_loss: 0.2465 - val_accuracy: 0.9203\n",
      "Epoch 30/30\n",
      "81/81 [==============================] - 4s 51ms/step - loss: 0.1213 - accuracy: 0.9512 - val_loss: 0.2641 - val_accuracy: 0.9216\n"
     ]
    }
   ],
   "source": [
    "model4=m4.do_compile(X_train, testX,y_train_one_hot,testy_one_hot)"
   ]
  },
  {
   "cell_type": "code",
   "execution_count": 11,
   "metadata": {},
   "outputs": [
    {
     "name": "stdout",
     "output_type": "stream",
     "text": [
      "[[488   3   4   0   1   0]\n",
      " [  1 450   4  16   0   0]\n",
      " [  4   5 411   0   0   0]\n",
      " [  0  10   0 343 137   1]\n",
      " [  1   0   0  44 487   0]\n",
      " [  0   0   0   0   0 537]]\n",
      "0.9216152019002375\n",
      "classification_report of model4:\n",
      "              precision    recall  f1-score   support\n",
      "\n",
      "           0       0.99      0.98      0.99       496\n",
      "           1       0.96      0.96      0.96       471\n",
      "           2       0.98      0.98      0.98       420\n",
      "           3       0.85      0.70      0.77       491\n",
      "           4       0.78      0.92      0.84       532\n",
      "           5       1.00      1.00      1.00       537\n",
      "\n",
      "    accuracy                           0.92      2947\n",
      "   macro avg       0.93      0.92      0.92      2947\n",
      "weighted avg       0.92      0.92      0.92      2947\n",
      "\n"
     ]
    }
   ],
   "source": [
    "predy=m4.prediction(testX)\n",
    "cm=confusion_matrix(testy,predy)\n",
    "print(cm)\n",
    "print(acc(testy,predy))\n",
    "print(\"classification_report of model4:\")\n",
    "print(classification_report(testy,predy))"
   ]
  },
  {
   "cell_type": "code",
   "execution_count": 22,
   "metadata": {},
   "outputs": [],
   "source": [
    "model4.save(\"Models_h5//model4.h5\")"
   ]
  },
  {
   "cell_type": "code",
   "execution_count": null,
   "metadata": {},
   "outputs": [],
   "source": [
    "model4.save(\"Models_h5//model4_2.h5\")"
   ]
  },
  {
   "cell_type": "code",
   "execution_count": null,
   "id": "9b85976d",
   "metadata": {},
   "outputs": [],
   "source": []
  }
 ],
 "metadata": {
  "interpreter": {
   "hash": "b88909b7410d2ec5c519e3dda149c3970124874d7da8616ec07adb4aadd07c54"
  },
  "kernelspec": {
   "display_name": "Python 3.8.11 64-bit ('dLenv': conda)",
   "name": "python3"
  },
  "language_info": {
   "codemirror_mode": {
    "name": "ipython",
    "version": 3
   },
   "file_extension": ".py",
   "mimetype": "text/x-python",
   "name": "python",
   "nbconvert_exporter": "python",
   "pygments_lexer": "ipython3",
   "version": "3.9.0"
  }
 },
 "nbformat": 4,
 "nbformat_minor": 5
}
