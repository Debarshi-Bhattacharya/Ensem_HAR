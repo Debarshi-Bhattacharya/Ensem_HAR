{
 "cells": [
  {
   "cell_type": "code",
   "execution_count": 1,
   "metadata": {},
   "outputs": [],
   "source": [
    "from tensorflow import keras\n",
    "from numpy import dstack\n",
    "from keras.models import load_model\n",
    " "
   ]
  },
  {
   "cell_type": "code",
   "execution_count": 2,
   "metadata": {},
   "outputs": [],
   "source": [
    "import numpy as np\n",
    "import pandas as pd\n",
    "from tensorflow.keras.utils import to_categorical\n",
    "import matplotlib.pyplot as plt\n",
    "%matplotlib inline\n",
    "\n",
    "\n",
    "def load_file(filepath):\n",
    "    dataframe = pd.read_csv(filepath, header=None, delim_whitespace=True)\n",
    "    return dataframe.values\n",
    "\n",
    "\n",
    "\n",
    "# load a list of files and return as a 3d numpy array\n",
    "def load_group(filenames, prefix=''):\n",
    "    loaded = list()\n",
    "    for name in filenames:\n",
    "        data = load_file(prefix + name)\n",
    "        loaded.append(data)\n",
    "    # stack group so that features are the 3rd dimension\n",
    "    loaded = np.dstack(loaded)\n",
    "    return loaded\n",
    "\n",
    "# load a dataset group, such as train or test\n",
    "def load_dataset_group(group, prefix=''):\n",
    "    filepath = prefix + group + '/Inertial Signals/'\n",
    "    # load all 9 files as a single array\n",
    "    filenames = list()\n",
    "    # total acceleration\n",
    "    filenames += ['total_acc_x_'+group+'.txt', 'total_acc_y_'+group+'.txt', 'total_acc_z_'+group+'.txt']\n",
    "    # body acceleration\n",
    "    filenames += ['body_acc_x_'+group+'.txt', 'body_acc_y_'+group+'.txt', 'body_acc_z_'+group+'.txt']\n",
    "    # body gyroscope\n",
    "    filenames += ['body_gyro_x_'+group+'.txt', 'body_gyro_y_'+group+'.txt', 'body_gyro_z_'+group+'.txt']\n",
    "    # load input data\n",
    "    X = load_group(filenames, filepath)\n",
    "    # load class output\n",
    "    y = load_file(prefix + group + '/y_'+group+'.txt')\n",
    "    return X, y\n",
    "\n",
    "\n",
    "# load the dataset, returns train and test X and y elements\n",
    "def load_dataset(prefix=''):\n",
    "    # load all train\n",
    "    trainX, trainy = load_dataset_group('train', prefix + '..//Datasets//UCI HAR Dataset//')\n",
    "    # load all test\n",
    "    testX, testy = load_dataset_group('test', prefix + '..//Datasets//UCI HAR Dataset//')\n",
    "    \n",
    "    #zero-offset class values\n",
    "    trainy = trainy - 1\n",
    "    testy = testy - 1\n",
    "    #one hot encode y\n",
    "    trainy_one_hot = to_categorical(trainy)\n",
    "    testy_one_hot = to_categorical(testy)\n",
    "    print(trainX.shape, trainy.shape, trainy_one_hot.shape, testX.shape, testy.shape, testy_one_hot.shape)\n",
    "    return trainX, trainy, trainy_one_hot, testX, testy, testy_one_hot"
   ]
  },
  {
   "cell_type": "code",
   "execution_count": 3,
   "metadata": {},
   "outputs": [
    {
     "name": "stdout",
     "output_type": "stream",
     "text": [
      "(7352, 128, 9) (7352, 1) (7352, 6) (2947, 128, 9) (2947, 1) (2947, 6)\n"
     ]
    }
   ],
   "source": [
    "trainX, trainy, trainy_one_hot, testX, testy, testy_one_hot = load_dataset()"
   ]
  },
  {
   "cell_type": "code",
   "execution_count": 4,
   "metadata": {},
   "outputs": [],
   "source": [
    "from sklearn.model_selection import train_test_split\n",
    "X_train,X_val,y_train_one_hot,y_val_one_hot,y_train,y_val=train_test_split(trainX, trainy_one_hot, trainy,test_size=0.3,random_state=100)"
   ]
  },
  {
   "cell_type": "markdown",
   "metadata": {},
   "source": [
    "## Loading Models:"
   ]
  },
  {
   "cell_type": "markdown",
   "metadata": {},
   "source": [
    "- **model1: 3levels on CNN (4layers in each)(takes 4input)**"
   ]
  },
  {
   "cell_type": "code",
   "execution_count": 5,
   "metadata": {},
   "outputs": [],
   "source": [
    "model1 = load_model(\"Models_h5//model1.h5\")"
   ]
  },
  {
   "cell_type": "markdown",
   "metadata": {},
   "source": [
    "- **model2: 3levels on CNN (4layers in each) , parallaly 1LSTM layer (takes 5inputs)**"
   ]
  },
  {
   "cell_type": "code",
   "execution_count": 6,
   "metadata": {},
   "outputs": [],
   "source": [
    "model2 = load_model(\"Models_h5//model2.h5\")"
   ]
  },
  {
   "cell_type": "markdown",
   "metadata": {},
   "source": [
    "- **model3: Timdistributed ConvLSTM(takes 1input)**"
   ]
  },
  {
   "cell_type": "code",
   "execution_count": 7,
   "metadata": {},
   "outputs": [],
   "source": [
    "model3 = load_model(\"Models_h5//model3.h5\")"
   ]
  },
  {
   "cell_type": "markdown",
   "metadata": {},
   "source": [
    "- **model4: 2layered LSTM(takes 1input)**"
   ]
  },
  {
   "cell_type": "code",
   "execution_count": 8,
   "metadata": {},
   "outputs": [],
   "source": [
    "model4 = load_model(\"Models_h5//model4.h5\")"
   ]
  },
  {
   "cell_type": "markdown",
   "metadata": {},
   "source": [
    "##  Running the member models to make predictions on the validation set, and create a new training set with the resulting predictions"
   ]
  },
  {
   "cell_type": "code",
   "execution_count": 9,
   "metadata": {},
   "outputs": [],
   "source": [
    "n_steps, n_length = 4, 32\n",
    "X_val3 = X_val.reshape((X_val.shape[0], n_steps, n_length,9))"
   ]
  },
  {
   "cell_type": "code",
   "execution_count": 10,
   "metadata": {},
   "outputs": [],
   "source": [
    "stackX_train = None"
   ]
  },
  {
   "cell_type": "code",
   "execution_count": 11,
   "metadata": {},
   "outputs": [],
   "source": [
    "##Output model1\n",
    "yhat = model1.predict([X_val,X_val,X_val,X_val], verbose=0)\n",
    "yhat=np.argmax(yhat, axis=-1)\n",
    "stackX_train =yhat"
   ]
  },
  {
   "cell_type": "code",
   "execution_count": 12,
   "metadata": {},
   "outputs": [],
   "source": [
    "##Output model2\n",
    "yhat = model2.predict([X_val,X_val,X_val,X_val,X_val], verbose=0)\n",
    "yhat=np.argmax(yhat, axis=-1)\n",
    "stackX_train = dstack((stackX_train, yhat))"
   ]
  },
  {
   "cell_type": "code",
   "execution_count": 13,
   "metadata": {},
   "outputs": [],
   "source": [
    "##Output model3\n",
    "\n",
    "yhat = model3.predict(X_val3, verbose=0)\n",
    "yhat=np.argmax(yhat, axis=-1)\n",
    "stackX_train = dstack((stackX_train, yhat))"
   ]
  },
  {
   "cell_type": "code",
   "execution_count": 14,
   "metadata": {},
   "outputs": [],
   "source": [
    "##Output model4\n",
    "yhat = model4.predict(X_val, verbose=0)\n",
    "yhat=np.argmax(yhat, axis=-1)\n",
    "stackX_train = dstack((stackX_train, yhat))"
   ]
  },
  {
   "cell_type": "code",
   "execution_count": 15,
   "metadata": {},
   "outputs": [
    {
     "data": {
      "text/plain": [
       "(1, 2206, 4)"
      ]
     },
     "execution_count": 15,
     "metadata": {},
     "output_type": "execute_result"
    }
   ],
   "source": [
    "stackX_train.shape"
   ]
  },
  {
   "cell_type": "code",
   "execution_count": 16,
   "metadata": {},
   "outputs": [],
   "source": [
    "stackX_train = stackX_train.reshape((stackX_train.shape[0]*stackX_train.shape[1],stackX_train.shape[2]))"
   ]
  },
  {
   "cell_type": "code",
   "execution_count": 17,
   "metadata": {},
   "outputs": [
    {
     "data": {
      "text/plain": [
       "(2206, 4)"
      ]
     },
     "execution_count": 17,
     "metadata": {},
     "output_type": "execute_result"
    }
   ],
   "source": [
    "stackX_train.shape####it is the training set of the ensembling classifier"
   ]
  },
  {
   "cell_type": "code",
   "execution_count": 18,
   "metadata": {},
   "outputs": [
    {
     "data": {
      "text/plain": [
       "(2206, 1)"
      ]
     },
     "execution_count": 18,
     "metadata": {},
     "output_type": "execute_result"
    }
   ],
   "source": [
    "y_val.shape"
   ]
  },
  {
   "cell_type": "code",
   "execution_count": 19,
   "metadata": {},
   "outputs": [],
   "source": [
    "from sklearn.ensemble import RandomForestClassifier\n",
    "# rfc=RandomForestClassifier(n_estimators=10,criterion='gini',\n",
    "#                              max_features='log2',min_samples_leaf=1,min_samples_split=7,max_depth=560,random_state=100)\n",
    "EnsemHAR=RandomForestClassifier(n_estimators= 2000,\n",
    " min_samples_split= 7,\n",
    " min_samples_leaf= 2,\n",
    " max_features='sqrt',\n",
    " max_depth= 890,\n",
    " criterion= 'entropy')"
   ]
  },
  {
   "cell_type": "code",
   "execution_count": 20,
   "metadata": {},
   "outputs": [
    {
     "name": "stdout",
     "output_type": "stream",
     "text": [
      "{'n_estimators': [200, 400, 600, 800, 1000, 1200, 1400, 1600, 1800, 2000], 'max_features': ['auto', 'sqrt', 'log2'], 'max_depth': [10, 120, 230, 340, 450, 560, 670, 780, 890, 1000], 'min_samples_split': [1, 3, 4, 5, 7, 9], 'min_samples_leaf': [1, 2, 4, 6, 8], 'criterion': ['entropy', 'gini']}\n"
     ]
    }
   ],
   "source": [
    "from sklearn.model_selection import RandomizedSearchCV \n",
    "n_estimators=[int(x) for x in np.linspace(start=200, stop=2000, num=10)]# here we are taking a list of 10 diffrent numbers ranging \n",
    "#from 200 -2000 which are the number of decision trees for 10 different model of random forest \n",
    "max_features=['auto','sqrt','log2']#discussed before\n",
    "max_depth=[int(x) for x in np.linspace(10,1000,10)]#10 different max_depth values for 10 different model \n",
    "min_samples_leaf = [1,2,4,6,8]\n",
    "min_samples_split = [1,3,4,5,7,9]\n",
    "# Create the random grid\n",
    "random_grid = {'n_estimators': n_estimators,\n",
    "               'max_features': max_features,\n",
    "               'max_depth': max_depth,\n",
    "               'min_samples_split': min_samples_split,\n",
    "               'min_samples_leaf': min_samples_leaf,\n",
    "              'criterion':['entropy','gini']}\n",
    "print(random_grid)"
   ]
  },
  {
   "cell_type": "code",
   "execution_count": 61,
   "metadata": {},
   "outputs": [],
   "source": [
    "from sklearn.ensemble import RandomForestClassifier\n",
    "rf=RandomForestClassifier()\n",
    "rf_randomcv=RandomizedSearchCV(estimator=rf,param_distributions=random_grid,n_iter=100,cv=3,verbose=2,\n",
    "                               random_state=100,n_jobs=-1)"
   ]
  },
  {
   "cell_type": "code",
   "execution_count": 20,
   "metadata": {},
   "outputs": [],
   "source": [
    "y_val_1D=np.ravel(y_val)"
   ]
  },
  {
   "cell_type": "code",
   "execution_count": 21,
   "metadata": {},
   "outputs": [
    {
     "data": {
      "text/plain": [
       "RandomForestClassifier(criterion='entropy', max_depth=890, max_features='sqrt',\n",
       "                       min_samples_leaf=2, min_samples_split=7,\n",
       "                       n_estimators=2000)"
      ]
     },
     "execution_count": 21,
     "metadata": {},
     "output_type": "execute_result"
    }
   ],
   "source": [
    "EnsemHAR.fit(stackX_train,y_val_1D)\n"
   ]
  },
  {
   "cell_type": "code",
   "execution_count": 63,
   "metadata": {},
   "outputs": [
    {
     "name": "stdout",
     "output_type": "stream",
     "text": [
      "Fitting 3 folds for each of 100 candidates, totalling 300 fits\n"
     ]
    },
    {
     "name": "stderr",
     "output_type": "stream",
     "text": [
      "C:\\Users\\bhatt\\anaconda3\\envs\\dLenv\\lib\\site-packages\\sklearn\\model_selection\\_validation.py:372: FitFailedWarning: \n",
      "51 fits failed out of a total of 300.\n",
      "The score on these train-test partitions for these parameters will be set to nan.\n",
      "If these failures are not expected, you can try to debug them by setting error_score='raise'.\n",
      "\n",
      "Below are more details about the failures:\n",
      "--------------------------------------------------------------------------------\n",
      "51 fits failed with the following error:\n",
      "Traceback (most recent call last):\n",
      "  File \"C:\\Users\\bhatt\\anaconda3\\envs\\dLenv\\lib\\site-packages\\sklearn\\model_selection\\_validation.py\", line 680, in _fit_and_score\n",
      "    estimator.fit(X_train, y_train, **fit_params)\n",
      "  File \"C:\\Users\\bhatt\\anaconda3\\envs\\dLenv\\lib\\site-packages\\sklearn\\ensemble\\_forest.py\", line 450, in fit\n",
      "    trees = Parallel(\n",
      "  File \"C:\\Users\\bhatt\\anaconda3\\envs\\dLenv\\lib\\site-packages\\joblib\\parallel.py\", line 1043, in __call__\n",
      "    if self.dispatch_one_batch(iterator):\n",
      "  File \"C:\\Users\\bhatt\\anaconda3\\envs\\dLenv\\lib\\site-packages\\joblib\\parallel.py\", line 861, in dispatch_one_batch\n",
      "    self._dispatch(tasks)\n",
      "  File \"C:\\Users\\bhatt\\anaconda3\\envs\\dLenv\\lib\\site-packages\\joblib\\parallel.py\", line 779, in _dispatch\n",
      "    job = self._backend.apply_async(batch, callback=cb)\n",
      "  File \"C:\\Users\\bhatt\\anaconda3\\envs\\dLenv\\lib\\site-packages\\joblib\\_parallel_backends.py\", line 208, in apply_async\n",
      "    result = ImmediateResult(func)\n",
      "  File \"C:\\Users\\bhatt\\anaconda3\\envs\\dLenv\\lib\\site-packages\\joblib\\_parallel_backends.py\", line 572, in __init__\n",
      "    self.results = batch()\n",
      "  File \"C:\\Users\\bhatt\\anaconda3\\envs\\dLenv\\lib\\site-packages\\joblib\\parallel.py\", line 262, in __call__\n",
      "    return [func(*args, **kwargs)\n",
      "  File \"C:\\Users\\bhatt\\anaconda3\\envs\\dLenv\\lib\\site-packages\\joblib\\parallel.py\", line 262, in <listcomp>\n",
      "    return [func(*args, **kwargs)\n",
      "  File \"C:\\Users\\bhatt\\anaconda3\\envs\\dLenv\\lib\\site-packages\\sklearn\\utils\\fixes.py\", line 216, in __call__\n",
      "    return self.function(*args, **kwargs)\n",
      "  File \"C:\\Users\\bhatt\\anaconda3\\envs\\dLenv\\lib\\site-packages\\sklearn\\ensemble\\_forest.py\", line 185, in _parallel_build_trees\n",
      "    tree.fit(X, y, sample_weight=curr_sample_weight, check_input=False)\n",
      "  File \"C:\\Users\\bhatt\\anaconda3\\envs\\dLenv\\lib\\site-packages\\sklearn\\tree\\_classes.py\", line 937, in fit\n",
      "    super().fit(\n",
      "  File \"C:\\Users\\bhatt\\anaconda3\\envs\\dLenv\\lib\\site-packages\\sklearn\\tree\\_classes.py\", line 250, in fit\n",
      "    raise ValueError(\n",
      "ValueError: min_samples_split must be an integer greater than 1 or a float in (0.0, 1.0]; got the integer 1\n",
      "\n",
      "  warnings.warn(some_fits_failed_message, FitFailedWarning)\n",
      "C:\\Users\\bhatt\\anaconda3\\envs\\dLenv\\lib\\site-packages\\sklearn\\model_selection\\_search.py:969: UserWarning: One or more of the test scores are non-finite: [       nan 0.97506532 0.97642586 0.97597173 0.97597235 0.97642524\n",
      " 0.97597235        nan 0.97597235 0.97687876        nan 0.97597235\n",
      " 0.97597235 0.97642524 0.97597235 0.97551821 0.97642524 0.97597235\n",
      "        nan        nan 0.97642524 0.97642524 0.97642524 0.97642524\n",
      "        nan        nan 0.97551883 0.97642524 0.97642524 0.97551883\n",
      " 0.97642524        nan 0.97642524 0.97642524        nan 0.97642524\n",
      " 0.97551821 0.97551821 0.97642524 0.97506532 0.97642524 0.97642524\n",
      "        nan 0.97642524 0.97642524 0.97642524 0.97642586 0.97687876\n",
      " 0.97597173 0.97642524        nan        nan        nan 0.97642524\n",
      " 0.97642524 0.97642586 0.97597173 0.97642524 0.97642524 0.97551821\n",
      " 0.97642524 0.97506532 0.97551821 0.97642524        nan        nan\n",
      " 0.97642524 0.97642524 0.97551821 0.97642524 0.97642524 0.97642524\n",
      " 0.97551821 0.97551821 0.97642524 0.97642524 0.97597173 0.97551821\n",
      " 0.97687876 0.97642524        nan 0.97642524 0.97642524 0.97551883\n",
      " 0.97597173 0.97506532 0.97642524 0.97642524 0.97642524 0.97597173\n",
      " 0.97642524 0.97642586 0.97551821        nan 0.97597235 0.97642524\n",
      " 0.97642524 0.97597173 0.97642524 0.97597235]\n",
      "  warnings.warn(\n"
     ]
    },
    {
     "data": {
      "text/plain": [
       "RandomizedSearchCV(cv=3, estimator=RandomForestClassifier(), n_iter=100,\n",
       "                   n_jobs=-1,\n",
       "                   param_distributions={'criterion': ['entropy', 'gini'],\n",
       "                                        'max_depth': [10, 120, 230, 340, 450,\n",
       "                                                      560, 670, 780, 890,\n",
       "                                                      1000],\n",
       "                                        'max_features': ['auto', 'sqrt',\n",
       "                                                         'log2'],\n",
       "                                        'min_samples_leaf': [1, 2, 4, 6, 8],\n",
       "                                        'min_samples_split': [1, 3, 4, 5, 7, 9],\n",
       "                                        'n_estimators': [200, 400, 600, 800,\n",
       "                                                         1000, 1200, 1400, 1600,\n",
       "                                                         1800, 2000]},\n",
       "                   random_state=100, verbose=2)"
      ]
     },
     "execution_count": 63,
     "metadata": {},
     "output_type": "execute_result"
    }
   ],
   "source": [
    "rf_randomcv.fit(stackX_train,y_val_1D)"
   ]
  },
  {
   "cell_type": "code",
   "execution_count": 211,
   "metadata": {},
   "outputs": [
    {
     "ename": "NameError",
     "evalue": "name 'rf_randomcv' is not defined",
     "output_type": "error",
     "traceback": [
      "\u001b[1;31m---------------------------------------------------------------------------\u001b[0m",
      "\u001b[1;31mNameError\u001b[0m                                 Traceback (most recent call last)",
      "\u001b[1;32me:\\Research_work\\src_idea\\Implementation_on_UCI_HAR\\Ensemble_approach.ipynb Cell 33'\u001b[0m in \u001b[0;36m<cell line: 1>\u001b[1;34m()\u001b[0m\n\u001b[1;32m----> <a href='vscode-notebook-cell:/e%3A/Research_work/src_idea/Implementation_on_UCI_HAR/Ensemble_approach.ipynb#ch0000030?line=0'>1</a>\u001b[0m rf_randomcv\u001b[39m.\u001b[39mbest_params_\n",
      "\u001b[1;31mNameError\u001b[0m: name 'rf_randomcv' is not defined"
     ]
    }
   ],
   "source": [
    "rf_randomcv.best_params_\n"
   ]
  },
  {
   "cell_type": "code",
   "execution_count": 65,
   "metadata": {},
   "outputs": [],
   "source": [
    "ensembler=rf_randomcv.best_estimator_"
   ]
  },
  {
   "cell_type": "markdown",
   "metadata": {},
   "source": [
    "##  Now evaluate the ensemble on the test set:\n",
    "#### Create stacked model input dataset as outputs from the ensemble;"
   ]
  },
  {
   "cell_type": "code",
   "execution_count": 22,
   "metadata": {},
   "outputs": [],
   "source": [
    "stackX_test = None"
   ]
  },
  {
   "cell_type": "code",
   "execution_count": 23,
   "metadata": {},
   "outputs": [],
   "source": [
    "n_steps, n_length = 4, 32\n",
    "testX3 = testX.reshape((testX.shape[0], n_steps, n_length,9))"
   ]
  },
  {
   "cell_type": "code",
   "execution_count": 24,
   "metadata": {},
   "outputs": [],
   "source": [
    "##Output model1\n",
    "yhat = model1.predict([testX,testX,testX,testX], verbose=0)\n",
    "yhat=np.argmax(yhat, axis=-1)\n",
    "stackX_test = yhat"
   ]
  },
  {
   "cell_type": "code",
   "execution_count": 25,
   "metadata": {},
   "outputs": [],
   "source": [
    "##Output model2\n",
    "yhat = model2.predict([testX,testX,testX,testX,testX], verbose=0)\n",
    "yhat=np.argmax(yhat, axis=-1)\n",
    "stackX_test = dstack((stackX_test, yhat))"
   ]
  },
  {
   "cell_type": "code",
   "execution_count": 26,
   "metadata": {},
   "outputs": [],
   "source": [
    "##Output model3\n",
    "\n",
    "yhat = model3.predict(testX3, verbose=0)\n",
    "yhat=np.argmax(yhat, axis=-1)\n",
    "stackX_test = dstack((stackX_test, yhat))"
   ]
  },
  {
   "cell_type": "code",
   "execution_count": 27,
   "metadata": {},
   "outputs": [],
   "source": [
    "##Output model4\n",
    "yhat = model4.predict(testX, verbose=0)\n",
    "yhat=np.argmax(yhat, axis=-1)\n",
    "stackX_test = dstack((stackX_test, yhat))"
   ]
  },
  {
   "cell_type": "code",
   "execution_count": 28,
   "metadata": {},
   "outputs": [
    {
     "data": {
      "text/plain": [
       "(1, 2947, 4)"
      ]
     },
     "execution_count": 28,
     "metadata": {},
     "output_type": "execute_result"
    }
   ],
   "source": [
    "stackX_test.shape"
   ]
  },
  {
   "cell_type": "code",
   "execution_count": 29,
   "metadata": {},
   "outputs": [],
   "source": [
    "stackX = stackX_test.reshape((stackX_test.shape[0]*stackX_test.shape[1],stackX_test.shape[2]))"
   ]
  },
  {
   "cell_type": "code",
   "execution_count": 30,
   "metadata": {},
   "outputs": [
    {
     "data": {
      "text/plain": [
       "(1, 2947, 4)"
      ]
     },
     "execution_count": 30,
     "metadata": {},
     "output_type": "execute_result"
    }
   ],
   "source": [
    "stackX_test.shape"
   ]
  },
  {
   "cell_type": "code",
   "execution_count": 31,
   "id": "11c234e8",
   "metadata": {},
   "outputs": [],
   "source": [
    "stackX_test = stackX_test.reshape((stackX_test.shape[0]*stackX_test.shape[1],stackX_test.shape[2]))"
   ]
  },
  {
   "cell_type": "code",
   "execution_count": 32,
   "id": "e644b5c7",
   "metadata": {},
   "outputs": [
    {
     "data": {
      "text/plain": [
       "(2947, 4)"
      ]
     },
     "execution_count": 32,
     "metadata": {},
     "output_type": "execute_result"
    }
   ],
   "source": [
    "stackX_test.shape"
   ]
  },
  {
   "cell_type": "code",
   "execution_count": 33,
   "metadata": {},
   "outputs": [],
   "source": [
    "predy=EnsemHAR.predict(stackX_test)\n"
   ]
  },
  {
   "cell_type": "code",
   "execution_count": 34,
   "metadata": {},
   "outputs": [
    {
     "name": "stdout",
     "output_type": "stream",
     "text": [
      "[[492   3   1   0   0   0]\n",
      " [  0 454   6  10   1   0]\n",
      " [  1   5 414   0   0   0]\n",
      " [  0   4   0 395  92   0]\n",
      " [  0   0   0  33 499   0]\n",
      " [  0   0   0   0   0 537]]\n",
      "0.9470648116728877\n",
      "              precision    recall  f1-score   support\n",
      "\n",
      "           0       1.00      0.99      0.99       496\n",
      "           1       0.97      0.96      0.97       471\n",
      "           2       0.98      0.99      0.98       420\n",
      "           3       0.90      0.80      0.85       491\n",
      "           4       0.84      0.94      0.89       532\n",
      "           5       1.00      1.00      1.00       537\n",
      "\n",
      "    accuracy                           0.95      2947\n",
      "   macro avg       0.95      0.95      0.95      2947\n",
      "weighted avg       0.95      0.95      0.95      2947\n",
      "\n"
     ]
    }
   ],
   "source": [
    "import seaborn as sns\n",
    "import sklearn.metrics as skm\n",
    "from sklearn.metrics import accuracy_score as acc\n",
    "from sklearn.metrics import confusion_matrix,classification_report\n",
    "cm=confusion_matrix(testy,predy)\n",
    "print(cm)\n",
    "print(acc(testy,predy))\n",
    "print(classification_report(testy,predy))"
   ]
  },
  {
   "cell_type": "code",
   "execution_count": 36,
   "metadata": {},
   "outputs": [],
   "source": [
    "cf=np.empty((6,6))\n",
    "for i in range(6):\n",
    "    cf[i]=(cm[i]/np.sum(cm[i]))"
   ]
  },
  {
   "cell_type": "code",
   "execution_count": 37,
   "metadata": {},
   "outputs": [],
   "source": [
    "# group_counts = [\"{0:.0f}\".format(value) for value in cm.flatten()]\n",
    "group_percentages = [\"{0:.2%}\".format(value) for value in cf.flatten()]\n",
    "labels = [f\"{v1}\" for v1 in group_percentages]\n",
    "labels = np.asarray(labels).reshape(6,6)"
   ]
  },
  {
   "cell_type": "code",
   "execution_count": 38,
   "metadata": {},
   "outputs": [
    {
     "data": {
      "text/plain": [
       "[Text(0, 0.5, 'WALKING'),\n",
       " Text(0, 1.5, 'WALKING_UPSTAIRS'),\n",
       " Text(0, 2.5, 'WALKING_DOWNSTAIRS'),\n",
       " Text(0, 3.5, 'SITTING'),\n",
       " Text(0, 4.5, 'STANDING'),\n",
       " Text(0, 5.5, 'LAYING')]"
      ]
     },
     "execution_count": 38,
     "metadata": {},
     "output_type": "execute_result"
    },
    {
     "data": {
      "image/png": "[encoded data removed]",
      "text/plain": [
       "<Figure size 576x432 with 2 Axes>"
      ]
     },
     "metadata": {
      "needs_background": "light"
     },
     "output_type": "display_data"
    }
   ],
   "source": [
    "fig = plt.figure(figsize=(8,6))\n",
    "ax=fig.add_subplot(111)\n",
    "sns.heatmap(cm, annot=labels,fmt=\"\",cmap='RdYlBu_r',ax=ax)\n",
    "ax.set_xlabel(\"Predicted Labels\\n\\n Overall_accuracy=\"\"{0:.2%}\".format(acc(testy,predy)))\n",
    "ax.set_ylabel(\"True Labels\")\n",
    "ax.set_title(\"Confusion Matrix\")\n",
    "ax.xaxis.set_ticklabels(['WALKING','WALKING_UPSTAIRS','WALKING_DOWNSTAIRS','SITTING','STANDING','LAYING'],rotation=90)\n",
    "ax.yaxis.set_ticklabels(['WALKING','WALKING_UPSTAIRS','WALKING_DOWNSTAIRS','SITTING','STANDING','LAYING'],rotation=360)\n",
    "plt.savefig('Metrics//ConfusionMatrix_Ensem-HAR_WISDM',dpi=1200, bbox_inches='tight')"
   ]
  },
  {
   "cell_type": "code",
   "execution_count": 35,
   "id": "a75a9967",
   "metadata": {},
   "outputs": [],
   "source": [
    "##ROC curve plot\n",
    "from sklearn.metrics import roc_curve, auc\n",
    "fpr = {}\n",
    "tpr = {}\n",
    "\n",
    "roc_auc={}\n",
    "\n",
    "class_number = 6\n",
    "predy_one_hot=to_categorical(predy)\n"
   ]
  },
  {
   "cell_type": "code",
   "execution_count": 36,
   "id": "33a29e73",
   "metadata": {},
   "outputs": [],
   "source": [
    "for i in range(class_number):    \n",
    "    fpr[i], tpr[i], _ = roc_curve(testy, predy_one_hot[:,i], pos_label=i)\n",
    "    roc_auc[i] = auc(fpr[i], tpr[i])"
   ]
  },
  {
   "cell_type": "code",
   "execution_count": 37,
   "id": "b8a59927",
   "metadata": {},
   "outputs": [],
   "source": [
    "all_fpr=np.unique(np.concatenate([fpr[i] for i in range(class_number)]))\n",
    "mean_tpr = np.zeros_like(all_fpr)\n",
    "for i in range(class_number):\n",
    "    mean_tpr += np.interp(all_fpr, fpr[i], tpr[i])\n",
    "\n",
    "# Finally average it and compute AUC\n",
    "mean_tpr /= class_number\n",
    "\n",
    "fpr[\"macro\"] = all_fpr\n",
    "tpr[\"macro\"] = mean_tpr\n",
    "roc_auc[\"macro\"] = auc(fpr[\"macro\"], tpr[\"macro\"])"
   ]
  },
  {
   "cell_type": "code",
   "execution_count": 38,
   "id": "efa9993e",
   "metadata": {},
   "outputs": [
    {
     "data": {
      "image/png": "[encoded data removed]",
      "text/plain": [
       "<Figure size 432x288 with 1 Axes>"
      ]
     },
     "metadata": {
      "needs_background": "light"
     },
     "output_type": "display_data"
    }
   ],
   "source": [
    "from itertools import cycle\n",
    "colors = cycle([\"aqua\", \"darkorange\", \"cornflowerblue\",\"green\",\"yellow\",\"deeppink\"])\n",
    "n_classes=['WALKING','WALKING_UPSTAIRS','WALKING_DOWNSTAIRS','SITTING','STANDING','LAYING']\n",
    "for i,cls, color in zip(range(class_number),n_classes, colors):\n",
    "    plt.plot(\n",
    "        fpr[i],\n",
    "        tpr[i],\n",
    "        color=color,\n",
    "        linestyle='-.',\n",
    "        label=\"ROC curve of class {0} (area = {1:0.2f})\".format(cls, roc_auc[i]),\n",
    "    )\n",
    "plt.plot(\n",
    "    fpr[\"macro\"],\n",
    "    tpr[\"macro\"],\n",
    "    label=\"macro-average ROC curve (area = {0:0.2f})\".format(roc_auc[\"macro\"]),\n",
    "    color=\"navy\",\n",
    "    linestyle=\":\",\n",
    "    linewidth=4,\n",
    ")\n",
    "plt.plot([0, 1], [0, 1], \"k--\")\n",
    "plt.title('Multiclass ROC curve of Ensem-HAR model on UCIHAR Dataset')\n",
    "plt.xlabel('False Positive Rate')\n",
    "plt.ylabel('True Positive rate')\n",
    "plt.legend(loc=\"lower right\",prop={\"size\":7})\n",
    "\n",
    "plt.savefig('Metrics//Multiclass_ROC_UCIHAR',dpi=1200, bbox_inches='tight')\n",
    "\n"
   ]
  },
  {
   "cell_type": "code",
   "execution_count": 39,
   "metadata": {},
   "outputs": [],
   "source": [
    "predy_m1=model1.predict([testX,testX,testX,testX])\n",
    "predy_m1=np.argmax(predy_m1, axis=-1)\n",
    "predy_m2=model2.predict([testX,testX,testX,testX,testX])\n",
    "predy_m2=np.argmax(predy_m2, axis=-1)\n",
    "predy_m3=model3.predict(testX3)\n",
    "predy_m3=np.argmax(predy_m3, axis=-1)\n",
    "predy_m4=model4.predict(testX)\n",
    "predy_m4=np.argmax(predy_m4, axis=-1)\n",
    "predy_en=EnsemHAR.predict(stackX)"
   ]
  },
  {
   "cell_type": "code",
   "execution_count": 40,
   "metadata": {},
   "outputs": [],
   "source": [
    "#all models predictions\n",
    "model_pred=[predy_m1,predy_m2,predy_m3,predy_m4,predy_en]"
   ]
  },
  {
   "cell_type": "code",
   "execution_count": 41,
   "id": "c8702304",
   "metadata": {},
   "outputs": [],
   "source": [
    "model_acc={}\n",
    "models=['CNN-net','CNN_LSTM-net','ConvLSTM-net','Stacked_LSTM-net','Ensem-HAR']\n",
    "i=0\n",
    "for pred,model in zip(model_pred,models):\n",
    "    model_acc[model]=acc(testy,pred)*100"
   ]
  },
  {
   "cell_type": "code",
   "execution_count": 44,
   "id": "310a192e",
   "metadata": {},
   "outputs": [
    {
     "name": "stdout",
     "output_type": "stream",
     "text": [
      "{'CNN-net': 92.63657957244655, 'CNN_LSTM-net': 93.51883271123175, 'ConvLSTM-net': 92.53478113335596, 'Stacked_LSTM-net': 92.16152019002375, 'Ensem-HAR': 95.0505895024655}\n"
     ]
    }
   ],
   "source": [
    "print(model_acc)"
   ]
  },
  {
   "cell_type": "code",
   "execution_count": 45,
   "id": "9ceec51f",
   "metadata": {},
   "outputs": [
    {
     "data": {
      "image/png": "[encoded data removed]",
      "text/plain": [
       "<Figure size 576x288 with 1 Axes>"
      ]
     },
     "metadata": {
      "needs_background": "light"
     },
     "output_type": "display_data"
    }
   ],
   "source": [
    "fig = plt.figure(figsize=(8,4))\n",
    "plt.bar(model_acc.keys(),model_acc.values(),width=0.4)\n",
    "y=list(model_acc.values())\n",
    "plt.xlabel(\"Base models and the final ensemble\")\n",
    "plt.ylabel(\"Accuracy(in %)\")\n",
    "plt.title(\"Comparison of accuracy betweeen the base models and the final ensemble on UCIHAR dataset \")\n",
    "for i in range(5):\n",
    "    plt.text(i,y[i],\"{0:0.2f}\".format(y[i]),ha=\"center\",va=\"bottom\")\n",
    "plt.savefig('Metrics//accuracy_comparison',dpi=1200, bbox_inches='tight')   "
   ]
  },
  {
   "cell_type": "code",
   "execution_count": 42,
   "metadata": {},
   "outputs": [],
   "source": [
    "pre=np.empty((0,6))\n",
    "re=np.empty((0,6))\n",
    "f1_=np.empty((0,6))\n",
    "for predy in model_pred:\n",
    "    precision=skm.precision_score(testy, predy, average=None)\n",
    "    pre=np.vstack([pre,precision])\n",
    "    recall=skm.recall_score(testy, predy, average=None)\n",
    "    re=np.vstack([re,recall])\n",
    "    f1=skm.f1_score(testy, predy, average=None)\n",
    "    f1_=np.vstack([f1_,f1])"
   ]
  },
  {
   "cell_type": "code",
   "execution_count": 43,
   "metadata": {},
   "outputs": [],
   "source": [
    "df_pre=pd.DataFrame(pre)\n",
    "df_pre.columns=['WALKING','WALKING_UPSTAIRS','WALKING_DOWNSTAIRS','SITTING','STANDING','LAYING']\n",
    "df_pre.index=['CNN-net','CNN_LSTM-net','ConvLSTM-net','Stacked_LSTM-net','Ensemble_HAR']\n",
    "df_re=pd.DataFrame(re)\n",
    "df_re.columns=['WALKING','WALKING_UPSTAIRS','WALKING_DOWNSTAIRS','SITTING','STANDING','LAYING']\n",
    "df_re.index=['CNN-net','CNN_LSTM-net','ConvLSTM-net','Stacked_LSTM-net','Ensemble_HAR']\n",
    "df_f1=pd.DataFrame(f1_)\n",
    "df_f1.columns=['WALKING','WALKING_UPSTAIRS','WALKING_DOWNSTAIRS','SITTING','STANDING','LAYING']\n",
    "df_f1.index=['CNN-net','CNN_LSTM-net','ConvLSTM-net','Stacked_LSTM-net','Ensemble_HAR']"
   ]
  },
  {
   "cell_type": "code",
   "execution_count": 44,
   "metadata": {},
   "outputs": [],
   "source": [
    "df_pre.to_csv('Precision.csv')\n",
    "df_re.to_csv('Recall.csv')\n",
    "df_f1.to_csv('f1_score.csv')"
   ]
  },
  {
   "cell_type": "code",
   "execution_count": 46,
   "metadata": {},
   "outputs": [],
   "source": [
    "sample_X=[]\n",
    "sample_y=[]\n",
    "#creating 10 sample dataset of size 50 from the test data\n",
    "for i in range(10):\n",
    "    demo_X=np.empty((50,128,39))\n",
    "    demo_y=np.empty(50)\n",
    "    demo_X=testX[(i*200):(i*200)+50]#each sample\n",
    "    demo_y=testy[(i*200):(i*200)+50]\n",
    "    sample_X.append(demo_X)# appending to the list of samples\n",
    "    sample_y.append(demo_y)\n"
   ]
  },
  {
   "cell_type": "code",
   "execution_count": 47,
   "id": "15831b6b",
   "metadata": {},
   "outputs": [],
   "source": [
    "# accuracy of each base models and ensemble on 10 sample dataset of size 50 taken from the test data\n",
    "m1_acc=[]\n",
    "m2_acc=[]\n",
    "m3_acc=[]\n",
    "m4_acc=[]\n",
    "ensem_acc=[]\n",
    "\n",
    "for sample,y_testSample in zip(sample_X,sample_y):\n",
    "    stackSamp=None\n",
    "    predy_m1=model1.predict([sample,sample,sample,sample])\n",
    "    predy_m1=np.argmax(predy_m1, axis=-1)\n",
    "    m1_acc.append(acc(predy_m1,y_testSample))\n",
    "\n",
    "    stackSamp=predy_m1\n",
    "    \n",
    "    predy_m2=model2.predict([sample,sample,sample,sample,sample])\n",
    "    predy_m2=np.argmax(predy_m2, axis=-1)\n",
    "    m2_acc.append(acc(predy_m2,y_testSample))\n",
    "\n",
    "    stackSamp=dstack((predy_m2,stackSamp))\n",
    "    \n",
    "    sample3 = sample.reshape((sample.shape[0], n_steps, n_length,9))\n",
    "    predy_m3=model3.predict(sample3)\n",
    "    predy_m3=np.argmax(predy_m3, axis=-1)\n",
    "    m3_acc.append(acc(predy_m3,y_testSample))\n",
    "\n",
    "    stackSamp=dstack((predy_m3,stackSamp))\n",
    "    \n",
    "    predy_m4=model4.predict(sample)\n",
    "    predy_m4=np.argmax(predy_m4, axis=-1)\n",
    "    m4_acc.append(acc(predy_m4,y_testSample))\n",
    "\n",
    "    stackSamp=dstack((predy_m4,stackSamp))\n",
    "    \n",
    "    stackSamp = stackSamp.reshape((stackSamp.shape[0]*stackSamp.shape[1],stackSamp.shape[2]))\n",
    "    predy_en=EnsemHAR.predict(stackSamp)\n",
    "    ensem_acc.append(acc(predy_en,y_testSample))"
   ]
  },
  {
   "cell_type": "code",
   "execution_count": 48,
   "id": "c313dbc7",
   "metadata": {},
   "outputs": [],
   "source": [
    "ranking=pd.DataFrame()\n",
    "ranking['CNN-net']=m1_acc\n",
    "ranking['CNN_LSTM-net']=m2_acc\n",
    "ranking['ConvLSTM-net']=m3_acc\n",
    "ranking['Stacked_LSTM-net']=m4_acc\n",
    "ranking['Ensem-HAR']=ensem_acc"
   ]
  },
  {
   "cell_type": "code",
   "execution_count": 50,
   "id": "0d631ca6",
   "metadata": {},
   "outputs": [],
   "source": [
    "ranking.to_csv('accuracies.csv')"
   ]
  },
  {
   "cell_type": "code",
   "execution_count": null,
   "id": "b6b9d7d0",
   "metadata": {},
   "outputs": [],
   "source": []
  }
 ],
 "metadata": {
  "interpreter": {
   "hash": "430cf71330057c3667661f8009a18fe65a7652eec0a123d908058e168adcc71d"
  },
  "kernelspec": {
   "display_name": "Python 3.9.0 ('dLenv')",
   "language": "python",
   "name": "python3"
  },
  "language_info": {
   "codemirror_mode": {
    "name": "ipython",
    "version": 3
   },
   "file_extension": ".py",
   "mimetype": "text/x-python",
   "name": "python",
   "nbconvert_exporter": "python",
   "pygments_lexer": "ipython3",
   "version": "3.9.0"
  }
 },
 "nbformat": 4,
 "nbformat_minor": 5
}
